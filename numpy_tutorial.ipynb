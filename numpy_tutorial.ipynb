{
 "cells": [
  {
   "cell_type": "code",
   "execution_count": 1,
   "metadata": {},
   "outputs": [
    {
     "data": {
      "text/html": [
       "<style>div.titr_fa { direction:rtl;padding: 0.5em;font-family:B Titr; font-size: 14pt;}div.norm_fa { direction:rtl;text-align: justify;text-justify: inter-word;font-family:B Nazanin; font-size: 14pt;}div.warn_fa { direction:rtl;background-color: #fcf2f2;border-color: #dFb5b4; border-left: 5px solid #dfb5b4; padding: 0.5em;text-align: justify;text-justify: inter-word;font-family:B Nazanin; font-size: 14pt;}</style>"
      ],
      "text/plain": [
       "<IPython.core.display.HTML object>"
      ]
     },
     "execution_count": 1,
     "metadata": {},
     "output_type": "execute_result"
    }
   ],
   "source": [
    "#این سلول استایل های لازم برای نمایش مناسب این دفترچه را ایجاد میکند. لطفا محنویات آن را تغییر ندهید\n",
    "from IPython.display import HTML\n",
    "titr_fa = \"div.titr_fa { direction:rtl;padding: 0.5em;font-family:B Titr; font-size: 14pt;}\"\n",
    "norm_fa = \"div.norm_fa { direction:rtl;text-align: justify;text-justify: inter-word;font-family:B Nazanin; font-size: 14pt;}\"\n",
    "warn_fa = \"div.warn_fa { direction:rtl;background-color: #fcf2f2;border-color: #dFb5b4; border-left: 5px solid #dfb5b4; padding: 0.5em;text-align: justify;text-justify: inter-word;font-family:B Nazanin; font-size: 14pt;}\"\n",
    "style = \"<style>\" + titr_fa + norm_fa + warn_fa + \"</style>\"\n",
    "HTML(style)"
   ]
  },
  {
   "cell_type": "markdown",
   "metadata": {},
   "source": [
    "<div class=\"norm_fa\">\n",
    "    در این مطلب سراغ کتابخانه numpy میریم. numpy یک کتابخانه برای پیاده سازی آرایه های چند بعدی و انجام محاسبات سریع روی اونهاست. ابتدا بعد از فعال کردن محیط مجازی دلخواهمون یک دفترچه ژوپیتر ایجاد میکنیم (در مطلب قبل توضیح دادیم چجوری) . هدف اینه که این دفترچه تبدیل به مرجع آموزش و یادآوری numpy برای ما باشه. من برای تولید این دفترچه از <a href=\"https://scipy-lectures.org\">این سایت</a>  خیلی استفاده کردم و برای کسب مهارت بیشتر میتونیم بهش رجوع کنیم. مستندات اصلی numpy برای رجوع رو در <a href=\"https://docs.scipy.org/doc/numpy/dev\">این آدرس</a>  میتونیم پیدا کنیم. \n",
    "</div>"
   ]
  },
  {
   "cell_type": "markdown",
   "metadata": {},
   "source": [
    "<div class=\"titr_fa\">\n",
    "    1- مقدمات\n",
    "</div>"
   ]
  },
  {
   "cell_type": "markdown",
   "metadata": {},
   "source": [
    "<div class=\"norm_fa\">\n",
    " به جرات میشه گفت اگر پایتون جای خودش رو در جامعه آکادمیک باز کرده به خاطر این کتابخانه است. چرا؟ اول numpy رو با اسم مستعار np وارد میکنیم :\n",
    "</div>"
   ]
  },
  {
   "cell_type": "code",
   "execution_count": 1,
   "metadata": {},
   "outputs": [],
   "source": [
    "import numpy as np"
   ]
  },
  {
   "cell_type": "markdown",
   "metadata": {},
   "source": [
    " <div class=\"norm_fa\">\n",
    "    حالا آرایه های پایتون و numpy رو با هم مقایسه میکنیم. \n",
    " </div>"
   ]
  },
  {
   "cell_type": "code",
   "execution_count": 2,
   "metadata": {},
   "outputs": [
    {
     "name": "stdout",
     "output_type": "stream",
     "text": [
      "Wall time: 387 ms\n"
     ]
    }
   ],
   "source": [
    "%%time \n",
    "sq = [i**2 for i in range(1000000)]"
   ]
  },
  {
   "cell_type": "markdown",
   "metadata": {},
   "source": [
    "<div class=\"norm_fa\">\n",
    "    به دستوراتی که با %% در دفترچه شروع میشن میگن جادوی سلولی (cell magic) و فقط برای همون سلول یک کار جادویی انجام میدن. مثلا اینجا جادوی سلولی time زمان اجرای یک سلول رو اندازه میگیره. ایجاد و به توان 2 رسوندن یک لیست یک میلیون تایی در پایتون خالص در کامپیوتر من 387 میلی ثانیه زمان برد. حالا با numpy:\n",
    "</div>"
   ]
  },
  {
   "cell_type": "code",
   "execution_count": 3,
   "metadata": {},
   "outputs": [
    {
     "name": "stdout",
     "output_type": "stream",
     "text": [
      "Wall time: 4.48 ms\n"
     ]
    }
   ],
   "source": [
    "%%time\n",
    "npsq = np.arange(1000000) ** 2"
   ]
  },
  {
   "cell_type": "markdown",
   "metadata": {},
   "source": [
    "<div class=\"norm_fa\">\n",
    "    یعنی حدود 70 برابر سریعتر. خود پایتون ذاتا زبان سریعی نیست ولی numpy با C نوشته شده که سرعت بالا و راحتی پایتون رو با هم ترکیب میکنه که برای انجام سریع کار تحیقاتی بسیار مناسبه. حالا میریم سراغ دستورات numpy. گفتیم که هدف numpy ایجاد یک کتابخانه برای تولید سریع و بهینه آرایه های چند بعدی و محاسبات سریع روی اونهاست. پس اولین مرحله تولید آرایه ست که با تابع array انجام میشه:\n",
    "</div>"
   ]
  },
  {
   "cell_type": "code",
   "execution_count": 4,
   "metadata": {},
   "outputs": [
    {
     "data": {
      "text/plain": [
       "array([0, 1, 2, 3])"
      ]
     },
     "execution_count": 4,
     "metadata": {},
     "output_type": "execute_result"
    }
   ],
   "source": [
    "a = np.array([0,1,2,3])\n",
    "a"
   ]
  },
  {
   "cell_type": "markdown",
   "metadata": {},
   "source": [
    "<div class=\"norm_fa\">\n",
    "مشخصات این آرایه چیه؟\n",
    "</div>"
   ]
  },
  {
   "cell_type": "code",
   "execution_count": 5,
   "metadata": {},
   "outputs": [
    {
     "name": "stdout",
     "output_type": "stream",
     "text": [
      "1\n",
      "(4,)\n",
      "4\n"
     ]
    }
   ],
   "source": [
    "print(a.ndim)\n",
    "print(a.shape)\n",
    "print(len(a))"
   ]
  },
  {
   "cell_type": "markdown",
   "metadata": {},
   "source": [
    "<div class=\"norm_fa\">\n",
    "یعنی به ترتیب آرایه یک بعدیه، شکلش (,4) و طولش 4ه. Andrew Ng استاد معروف دانشگاه استانفورد، از پیشگامان Deep Learning و بنیانگذار Coursera، در دوره آموزشی Deep Learning Specialization ما رو از به کار بردن آرایه های یک بعدی، به خاطر ایرادات خاصی که در صورت بی دقتی میتونه ایجاد کنه، نهی میکنه. ما هم گوش میدیم و :</div>"
   ]
  },
  {
   "cell_type": "code",
   "execution_count": 6,
   "metadata": {},
   "outputs": [
    {
     "data": {
      "text/plain": [
       "array([[0, 1, 2, 3]])"
      ]
     },
     "execution_count": 6,
     "metadata": {},
     "output_type": "execute_result"
    }
   ],
   "source": [
    "b = np.array([[0,1,2,3]])\n",
    "b"
   ]
  },
  {
   "cell_type": "code",
   "execution_count": 7,
   "metadata": {},
   "outputs": [
    {
     "name": "stdout",
     "output_type": "stream",
     "text": [
      "2\n",
      "(1, 4)\n",
      "1\n"
     ]
    }
   ],
   "source": [
    "print(b.ndim)\n",
    "print(b.shape)\n",
    "print(len(b))"
   ]
  },
  {
   "cell_type": "markdown",
   "metadata": {},
   "source": [
    "<div class=\"norm_fa\">\n",
    "    حالا یک آرایه (ماتریس) دوبعدی داریم که یک سطر داره و 4 ستون. برای ایجاد آرایه دو بعدی باید یک آرایه از آرایه ها درست کنیم. هر سطر خودش یک آرایه از اعداده و آرایه این سطرها کنار هم ماتریس دوبعدی رو تشکیل میده :\n",
    "</div>"
   ]
  },
  {
   "cell_type": "code",
   "execution_count": 8,
   "metadata": {},
   "outputs": [
    {
     "data": {
      "text/plain": [
       "array([[0, 1, 2, 3],\n",
       "       [4, 5, 6, 7]])"
      ]
     },
     "execution_count": 8,
     "metadata": {},
     "output_type": "execute_result"
    }
   ],
   "source": [
    "c = np.array([[0,1,2,3],[4,5,6,7]])\n",
    "c"
   ]
  },
  {
   "cell_type": "code",
   "execution_count": 9,
   "metadata": {},
   "outputs": [
    {
     "name": "stdout",
     "output_type": "stream",
     "text": [
      "[[0 1 2 3]\n",
      " [4 5 6 7]]\n"
     ]
    }
   ],
   "source": [
    "print(c)"
   ]
  },
  {
   "cell_type": "markdown",
   "metadata": {},
   "source": [
    "<div class=\"norm_fa\">\n",
    "یعنی آرایه c خودش شامل 2 تا آرایه (سطر) است که هرکدوم 4 تا عنصر (ستون) دارند. دستور len طول اولین بعد (تعداد سطرها) را بر میگردونه:\n",
    "</div>"
   ]
  },
  {
   "cell_type": "code",
   "execution_count": 10,
   "metadata": {},
   "outputs": [
    {
     "data": {
      "text/plain": [
       "2"
      ]
     },
     "execution_count": 10,
     "metadata": {},
     "output_type": "execute_result"
    }
   ],
   "source": [
    "len(c)"
   ]
  },
  {
   "cell_type": "markdown",
   "metadata": {},
   "source": [
    "<div class=\"norm_fa\">\n",
    "معمولا ما آرایه ها رو اینجوری دستی وارد نمیکنیم. یا اونها رو میسازیم یا از فایل میخونیم.\n",
    "دستور بعد تابع arangeه که یک توالی اعداد درست میکنه:\n",
    "</div>"
   ]
  },
  {
   "cell_type": "code",
   "execution_count": 11,
   "metadata": {},
   "outputs": [
    {
     "data": {
      "text/plain": [
       "array([0, 1, 2, 3, 4, 5, 6, 7, 8, 9])"
      ]
     },
     "execution_count": 11,
     "metadata": {},
     "output_type": "execute_result"
    }
   ],
   "source": [
    "np.arange(10)"
   ]
  },
  {
   "cell_type": "markdown",
   "metadata": {},
   "source": [
    "<div class=\"norm_fa\">\n",
    "مثلا این تابع 3 تا پارامتر هم میگیره که به ترتیب شروع توالی، پایان توالی و گام پرش هستند\n",
    "    .مثلا اگر بخواهیم با شروع از 1، 2 تا 2تا بپریم و تا 10 این کار رو ادامه بدیم:\n",
    "</div>"
   ]
  },
  {
   "cell_type": "code",
   "execution_count": 12,
   "metadata": {},
   "outputs": [
    {
     "data": {
      "text/plain": [
       "array([1, 3, 5, 7, 9])"
      ]
     },
     "execution_count": 12,
     "metadata": {},
     "output_type": "execute_result"
    }
   ],
   "source": [
    "np.arange(1,10,2)"
   ]
  },
  {
   "cell_type": "markdown",
   "metadata": {},
   "source": [
    "<div class=\"norm_fa\">\n",
    "گام پرش میتونه عدد اعشاری باشه\n",
    "</div>"
   ]
  },
  {
   "cell_type": "code",
   "execution_count": 13,
   "metadata": {},
   "outputs": [
    {
     "data": {
      "text/plain": [
       "array([1. , 1.4, 1.8, 2.2, 2.6, 3. , 3.4, 3.8, 4.2, 4.6])"
      ]
     },
     "execution_count": 13,
     "metadata": {},
     "output_type": "execute_result"
    }
   ],
   "source": [
    "np.arange(1,5, 0.4)"
   ]
  },
  {
   "cell_type": "markdown",
   "metadata": {},
   "source": [
    "<div class=\"norm_fa\">\n",
    "برای تقسیم یک بازه با ابتدا و انتهای مشخص به تعداد معین از linspace استفاده میکنیم.مثلا از بازه 1 تا 10، 4 تا عدد با فاصله برابر میخواهیم:\n",
    "</div>"
   ]
  },
  {
   "cell_type": "code",
   "execution_count": 14,
   "metadata": {},
   "outputs": [
    {
     "data": {
      "text/plain": [
       "array([ 1.,  4.,  7., 10.])"
      ]
     },
     "execution_count": 14,
     "metadata": {},
     "output_type": "execute_result"
    }
   ],
   "source": [
    "np.linspace(1,10,4)"
   ]
  },
  {
   "cell_type": "markdown",
   "metadata": {},
   "source": [
    "<div class=\"norm_fa\">\n",
    "از بازه 0 تا 1 ، 11 عدد با فاصله برابر میخوایم:\n",
    "</div>"
   ]
  },
  {
   "cell_type": "code",
   "execution_count": 15,
   "metadata": {},
   "outputs": [
    {
     "data": {
      "text/plain": [
       "array([0. , 0.1, 0.2, 0.3, 0.4, 0.5, 0.6, 0.7, 0.8, 0.9, 1. ])"
      ]
     },
     "execution_count": 15,
     "metadata": {},
     "output_type": "execute_result"
    }
   ],
   "source": [
    "np.linspace(0,1,11)"
   ]
  },
  {
   "cell_type": "markdown",
   "metadata": {},
   "source": [
    "<div class=\"norm_fa\">\n",
    "فرق arange با linspace اینه که در arange گام پرش ثابته و در linspace تعداد نقاط.یک تابع logspace هم داریم که از بازه تعداد  نقاط ثابت با گامهای لگاریتمی استخراج میکنه، فقط باید لگاریتم مبنای 10 نقطه شروع و پایان رو بهش بدید:\n",
    "</div>"
   ]
  },
  {
   "cell_type": "code",
   "execution_count": 16,
   "metadata": {},
   "outputs": [
    {
     "data": {
      "text/plain": [
       "array([ 10.        ,  11.78768635,  13.89495494,  16.37893707,\n",
       "        19.30697729,  22.75845926,  26.82695795,  31.6227766 ,\n",
       "        37.2759372 ,  43.93970561,  51.79474679,  61.05402297,\n",
       "        71.9685673 ,  84.83428982, 100.        ])"
      ]
     },
     "execution_count": 16,
     "metadata": {},
     "output_type": "execute_result"
    }
   ],
   "source": [
    "np.logspace(np.log10(10),np.log10(100),15)"
   ]
  },
  {
   "cell_type": "markdown",
   "metadata": {},
   "source": [
    "<div class=\"norm_fa\">\n",
    "که پانزده تا عدد بین 10 تا 100 بهمون میده که گامهای بینشون لگاریتمیه و به مرور فاصله اعداد با عدد قبلیشون بیشتر میشه.\n",
    "</div>"
   ]
  },
  {
   "cell_type": "markdown",
   "metadata": {},
   "source": [
    "<div class=\"norm_fa\">\n",
    "برای ساخت ماتریس که همه عناصرش 1 باشند از تابع ones و برای صفر از zeros استفاده میکنیم و ابعاد ماتریس رو به صورت یک tuple بهش میدیم:\n",
    "</div>"
   ]
  },
  {
   "cell_type": "code",
   "execution_count": 17,
   "metadata": {},
   "outputs": [
    {
     "data": {
      "text/plain": [
       "array([[1., 1., 1., 1.],\n",
       "       [1., 1., 1., 1.],\n",
       "       [1., 1., 1., 1.],\n",
       "       [1., 1., 1., 1.]])"
      ]
     },
     "execution_count": 17,
     "metadata": {},
     "output_type": "execute_result"
    }
   ],
   "source": [
    "np.ones((4, 4))"
   ]
  },
  {
   "cell_type": "code",
   "execution_count": 18,
   "metadata": {},
   "outputs": [
    {
     "data": {
      "text/plain": [
       "array([[0., 0., 0., 0., 0.],\n",
       "       [0., 0., 0., 0., 0.],\n",
       "       [0., 0., 0., 0., 0.]])"
      ]
     },
     "execution_count": 18,
     "metadata": {},
     "output_type": "execute_result"
    }
   ],
   "source": [
    "np.zeros((3,5))"
   ]
  },
  {
   "cell_type": "markdown",
   "metadata": {},
   "source": [
    "<div class=\"norm_fa\">\n",
    "این دو تا تابع یک پارامتر دیگه به نام dtype هم میگیرن که نوع ریاضی اعضای ماتریس رو مشخص میکنه. مثلا اگر ماتریس ones از نوع مختلط بخواهیم:\n",
    "</div>"
   ]
  },
  {
   "cell_type": "code",
   "execution_count": 19,
   "metadata": {},
   "outputs": [
    {
     "data": {
      "text/plain": [
       "array([[1.+0.j, 1.+0.j, 1.+0.j, 1.+0.j],\n",
       "       [1.+0.j, 1.+0.j, 1.+0.j, 1.+0.j],\n",
       "       [1.+0.j, 1.+0.j, 1.+0.j, 1.+0.j],\n",
       "       [1.+0.j, 1.+0.j, 1.+0.j, 1.+0.j]])"
      ]
     },
     "execution_count": 19,
     "metadata": {},
     "output_type": "execute_result"
    }
   ],
   "source": [
    "np.ones((4, 4), dtype=np.complex)"
   ]
  },
  {
   "cell_type": "markdown",
   "metadata": {},
   "source": [
    "<div class=\"norm_fa\">\n",
    "مقادیر معتبر برای dtype اینها هستند:\n",
    "np.complex برای اعدا مختلط, \n",
    "np.int8, np.int16, np.int32, np.int64 برای اعداد صحیح علامتدار, \n",
    "np.float16, np.float32, np.float64 برای اعداد اعشاری, \n",
    "np.uint16, np.uint32, np.uint64 برای اعداد صحیح بدون علامت\n",
    "</div>"
   ]
  },
  {
   "cell_type": "markdown",
   "metadata": {},
   "source": [
    "<div class=\"norm_fa\">\n",
    "ماتریس واحد رو هم با تابع eye میسازیم:\n",
    "</div>"
   ]
  },
  {
   "cell_type": "code",
   "execution_count": 20,
   "metadata": {},
   "outputs": [
    {
     "data": {
      "text/plain": [
       "array([[1., 0., 0.],\n",
       "       [0., 1., 0.],\n",
       "       [0., 0., 1.]])"
      ]
     },
     "execution_count": 20,
     "metadata": {},
     "output_type": "execute_result"
    }
   ],
   "source": [
    "np.eye(3)"
   ]
  },
  {
   "cell_type": "markdown",
   "metadata": {},
   "source": [
    "<div class=\"titr_fa\">\n",
    "2- تولید اعداد تصادفی\n",
    "</div>"
   ]
  },
  {
   "cell_type": "markdown",
   "metadata": {},
   "source": [
    "<div class=\"norm_fa\">\n",
    "حالا سراغ تولید اعداد تصادفی میریم. دو تا توزیع مهم برای تولید اعداد تصادفی داریم : یکنواخت و گاوسی. اینا یعنی چی؟ از توزیع یکنواخت شروع میکنیم:\n",
    "</div>"
   ]
  },
  {
   "cell_type": "code",
   "execution_count": 21,
   "metadata": {},
   "outputs": [
    {
     "data": {
      "text/plain": [
       "array([[0.3756344 , 0.90233306, 0.1375995 , 0.99084453, 0.97942387,\n",
       "        0.55801556, 0.5568001 , 0.32760203, 0.80889496, 0.16096867,\n",
       "        0.27003026, 0.09895287, 0.64828136, 0.23600891, 0.14034868,\n",
       "        0.23665831, 0.7972643 , 0.98966386, 0.19744077, 0.40562954]])"
      ]
     },
     "execution_count": 21,
     "metadata": {},
     "output_type": "execute_result"
    }
   ],
   "source": [
    "np.random.rand(1,20)"
   ]
  },
  {
   "cell_type": "markdown",
   "metadata": {},
   "source": [
    "<div class=\"norm_fa\">\n",
    "که برامون 20 تا عدد تصادفی بین 0 تا 1 تولید میکنه که شانس انتخاب شدن از همه جای این بازه با هم برابره. یعنی مثلا یک میلیون عدد تصادفی با این توزیع تولید کنید و تعداد اونهایی که بین 0 تا 0.1 هستند رو بشمارید احتمالا نزدیک تعداد اونهایی که بین 0.9 تا 1 هستند.(یا هر بازه دیگر با طول 0.1). اگر بخواهیم به جای صفر و یک، بین a,b برامون اعداد تصادفی تولید بشه از این فرمول استفاده میکنیم:\n",
    "</div>"
   ]
  },
  {
   "cell_type": "code",
   "execution_count": 22,
   "metadata": {},
   "outputs": [],
   "source": [
    "#(b-a) * np.random.rand(ابعاد ماتریس دلخواه) + a"
   ]
  },
  {
   "cell_type": "markdown",
   "metadata": {},
   "source": [
    "<div class=\"norm_fa\">\n",
    "مثلا 20 عدد بین 2و5\n",
    "</div>"
   ]
  },
  {
   "cell_type": "code",
   "execution_count": 23,
   "metadata": {},
   "outputs": [
    {
     "data": {
      "text/plain": [
       "array([[4.35316675, 2.18119736, 3.43178322, 4.76958118, 2.37552475,\n",
       "        4.23445577, 2.03242133, 4.13035807, 4.63918657, 4.38730227,\n",
       "        4.72660014, 3.57864619, 3.31436614, 4.30411698, 3.84090825,\n",
       "        2.98123599, 4.99701824, 4.85172761, 4.46806026, 4.65936171]])"
      ]
     },
     "execution_count": 23,
     "metadata": {},
     "output_type": "execute_result"
    }
   ],
   "source": [
    "(5-2)*np.random.rand(1,20) + 2"
   ]
  },
  {
   "cell_type": "markdown",
   "metadata": {},
   "source": [
    "<div class=\"norm_fa\">\n",
    "اما اعداد تصادفی گاوسی یا نرمال یا استاندارد با randn تولید میشن و توزیعشون فرق داره.\n",
    "</div>"
   ]
  },
  {
   "cell_type": "code",
   "execution_count": 24,
   "metadata": {},
   "outputs": [
    {
     "data": {
      "text/plain": [
       "array([[-0.20268403,  1.24981011, -0.32934498, -0.95969644,  0.11731372,\n",
       "         0.73241878,  0.64427743,  1.09750409, -0.66356479,  1.01457575,\n",
       "         1.07618613,  0.75146773, -0.52147204, -1.03646218, -0.05561395,\n",
       "        -1.61663065,  0.74230641, -0.70751792, -0.58220838, -0.82017621]])"
      ]
     },
     "execution_count": 24,
     "metadata": {},
     "output_type": "execute_result"
    }
   ],
   "source": [
    "np.random.randn(1,20)"
   ]
  },
  {
   "cell_type": "markdown",
   "metadata": {},
   "source": [
    "<div class=\"norm_fa\">\n",
    "ساده بخوام یگم اگر تعداد زیادی از اعداد تصادفی با این توزیع درست کنید یه احتمال 65 درصد اعداد بین 1و 1- و به احتمال 95 درصد بین 2و 2- و به احتمال 99.7 درصد بین 3 و 3- هستند. یا این جوری بگم که تراکمشون حول صفر زیادتره و هرچی از صفر دور بشیم تراکم اعداد هم کمتر میشه. یعنی از یک توزیع گوسی N(0,1) با میانگین صفر و واریانس 1 تولید میشن. اگر بخواهیم میانگین توزیع رو از صفر به mu و واریانس رو از 1 به sigma^2 تغییر بدیم از فرمول زیر استفاده میکنیم: \n",
    "</div>"
   ]
  },
  {
   "cell_type": "code",
   "execution_count": 25,
   "metadata": {},
   "outputs": [],
   "source": [
    "#sigma * np.random.randn(ابعاد ماتریس دلخواه) + mu"
   ]
  },
  {
   "cell_type": "markdown",
   "metadata": {},
   "source": [
    "<div class=\"norm_fa\">\n",
    "برای تولید اعداد تصادفی صحیح از randint استفاده میکنیم. برای تولید یک آرایه 2 در 20 از اعداد تصادفی صحیح بین 0 تا 10 اینجوری مینویسیم:\n",
    "</div>"
   ]
  },
  {
   "cell_type": "code",
   "execution_count": 26,
   "metadata": {},
   "outputs": [
    {
     "data": {
      "text/plain": [
       "array([[9, 8, 6, 7, 7, 9, 2, 9, 6, 1, 7, 2, 8, 5, 5, 0, 1, 5, 5, 5],\n",
       "       [4, 9, 9, 9, 5, 8, 9, 8, 4, 4, 4, 7, 4, 4, 9, 7, 5, 7, 8, 7]])"
      ]
     },
     "execution_count": 26,
     "metadata": {},
     "output_type": "execute_result"
    }
   ],
   "source": [
    "np.random.randint(0,10, (2,20))"
   ]
  },
  {
   "cell_type": "markdown",
   "metadata": {},
   "source": [
    "<div class=\"norm_fa\">\n",
    "لازم به توضیح که این اعداد شبه تصادفین و با الگوریتم Mersenne Twister ایجاد میشن. برای همین میتونیم تولید شدنشون رو با تابع seed کنترل کنیم. تابع seed یک عدد میگیره و بعد از اجرا شدنش ترتیب اعداد تولید شده یکسان ولی شبه تصادفی خواهد بود. مثلا:\n",
    "</div>"
   ]
  },
  {
   "cell_type": "code",
   "execution_count": 27,
   "metadata": {},
   "outputs": [
    {
     "name": "stdout",
     "output_type": "stream",
     "text": [
      "[[0.1139046  0.74788082 0.6110594  0.8096918  0.71285749 0.14003681\n",
      "  0.26751188 0.14760445 0.22806792 0.23556173]]\n",
      "[[0.69002382 0.14834782 0.44560583 0.70084254 0.09663865 0.88263259\n",
      "  0.86983229 0.84459421 0.27370208 0.78567954]]\n"
     ]
    }
   ],
   "source": [
    "np.random.seed(201)\n",
    "print(np.random.rand(1,10))\n",
    "print(np.random.rand(1,10))"
   ]
  },
  {
   "cell_type": "markdown",
   "metadata": {},
   "source": [
    "<div class=\"norm_fa\">\n",
    "ما اینجا دو بار تابع rand رو بعد از تنظیم seed به 201 فراخوانی کردیم و این اعداد تولید شدند حالا اگه دو باره seed رو تنظیم کنیم:\n",
    "</div>"
   ]
  },
  {
   "cell_type": "code",
   "execution_count": 28,
   "metadata": {},
   "outputs": [
    {
     "name": "stdout",
     "output_type": "stream",
     "text": [
      "[[0.1139046  0.74788082 0.6110594  0.8096918  0.71285749 0.14003681\n",
      "  0.26751188 0.14760445 0.22806792 0.23556173]]\n",
      "[[0.69002382 0.14834782 0.44560583 0.70084254 0.09663865 0.88263259\n",
      "  0.86983229 0.84459421 0.27370208 0.78567954]]\n"
     ]
    }
   ],
   "source": [
    "np.random.seed(201)\n",
    "print(np.random.rand(1,10))\n",
    "print(np.random.rand(1,10))"
   ]
  },
  {
   "cell_type": "markdown",
   "metadata": {},
   "source": [
    "<div class=\"norm_fa\">\n",
    "میبینیم که دو باره این اعداد شبه تصادفی با همون ترتیب تکرار شدند. این کارکرد برای ایراد یابی برنامه هایی که از اعداد تصادفی استفاده میکنند لازمه. اگر بخواهیم دیگه خیلی (شبه) تصادفی باشیم seed رو بدون پارامتر صدا کنیم. اما یک کتابخونه دیگه به نام rdrand هست که از مکانیزم تولید اعداد تصادفی واقعی داخل CPU شما استفاده میکنه و کیفیت تصادفی بودن اعداد تولید شده با اون خیلی بالاتره.\n",
    "</div>"
   ]
  },
  {
   "cell_type": "markdown",
   "metadata": {},
   "source": [
    "<div class=\"titr_fa\">\n",
    "3- کار با اندیس ها و برش ها\n",
    "</div>"
   ]
  },
  {
   "cell_type": "markdown",
   "metadata": {},
   "source": [
    "<div class=\"norm_fa\">\n",
    "برای دسترسی به عناصر مختلف در ماتریس، اندیس اون عنصر را بین [] وارد میکنیم. اندیس ها از صفر شروع میشن. همچنین اعداد منفی برای دسترسی از انتها استفاده میشن. اندیس 1- معادل آخری، 2- معادل یکی مونده به آخر و ... هستند. یک برش از آرابه خودش یک آرایست و همه کارهای آرایه رو میشه روش انجام داد.\n",
    "</div>"
   ]
  },
  {
   "cell_type": "code",
   "execution_count": 29,
   "metadata": {},
   "outputs": [
    {
     "data": {
      "text/plain": [
       "array([1, 2, 3, 4, 5, 6, 7, 8, 9])"
      ]
     },
     "execution_count": 29,
     "metadata": {},
     "output_type": "execute_result"
    }
   ],
   "source": [
    "d = np.arange(1, 10)\n",
    "d"
   ]
  },
  {
   "cell_type": "code",
   "execution_count": 30,
   "metadata": {},
   "outputs": [
    {
     "data": {
      "text/plain": [
       "(1, 6, 9)"
      ]
     },
     "execution_count": 30,
     "metadata": {},
     "output_type": "execute_result"
    }
   ],
   "source": [
    "d[0], d[5], d[8]"
   ]
  },
  {
   "cell_type": "code",
   "execution_count": 31,
   "metadata": {},
   "outputs": [
    {
     "data": {
      "text/plain": [
       "(9, 6, 1)"
      ]
     },
     "execution_count": 31,
     "metadata": {},
     "output_type": "execute_result"
    }
   ],
   "source": [
    "d[-1], d[-4], d[-9]"
   ]
  },
  {
   "cell_type": "code",
   "execution_count": 32,
   "metadata": {},
   "outputs": [
    {
     "data": {
      "text/plain": [
       "array([[1, 2, 3],\n",
       "       [4, 5, 6],\n",
       "       [7, 8, 9]])"
      ]
     },
     "execution_count": 32,
     "metadata": {},
     "output_type": "execute_result"
    }
   ],
   "source": [
    "e = np.array([[1,2,3], [4,5,6], [7,8,9]])\n",
    "e"
   ]
  },
  {
   "cell_type": "code",
   "execution_count": 33,
   "metadata": {},
   "outputs": [
    {
     "data": {
      "text/plain": [
       "(1, 5, 8)"
      ]
     },
     "execution_count": 33,
     "metadata": {},
     "output_type": "execute_result"
    }
   ],
   "source": [
    "e[0,0], e[1, 1], e[2,1]"
   ]
  },
  {
   "cell_type": "markdown",
   "metadata": {},
   "source": [
    "<div class=\"norm_fa\">\n",
    "برای دسترسی به یک برش از آرایه، شروع و پایان اون قطاع رو با یک : ازهم جدا میکنیم. مثلا برش 6 تا 7 از ماتریس d میشه:\n",
    "</div>"
   ]
  },
  {
   "cell_type": "code",
   "execution_count": 34,
   "metadata": {},
   "outputs": [
    {
     "data": {
      "text/plain": [
       "array([7, 8])"
      ]
     },
     "execution_count": 34,
     "metadata": {},
     "output_type": "execute_result"
    }
   ],
   "source": [
    "d[6:8]"
   ]
  },
  {
   "cell_type": "markdown",
   "metadata": {},
   "source": [
    "<div class=\"norm_fa\">\n",
    "دقت میکنیم که خود عددی که در قسمت پایان برش نوشته بشه در برش نمیاد و تا قبل از اون در برش منعکس میشن. در مثال بالا هم خود اندیس شماره 8 در قطاع وارد نمیشه و اندیس های 6 و 7 اومدن. میتونیم یک گام پرش هم به برش اضافه کنیم که البته اختیاریه:\n",
    "</div>"
   ]
  },
  {
   "cell_type": "code",
   "execution_count": 35,
   "metadata": {},
   "outputs": [
    {
     "data": {
      "text/plain": [
       "array([4, 6, 8])"
      ]
     },
     "execution_count": 35,
     "metadata": {},
     "output_type": "execute_result"
    }
   ],
   "source": [
    "d[3:9:2]"
   ]
  },
  {
   "cell_type": "markdown",
   "metadata": {},
   "source": [
    "<div class=\"norm_fa\">\n",
    "و اینجوری میخونیم: از ماتریس d اندیس های بین 3 تا 9 رو با پرش 2 تا 2 تا به من بده (حواسم هم هست که خود اندیس 9 در برش نمیاد). میشه جای هرکدوم از بخش های برش رو خالی گذاشت. اگر جای شروع چیزی ننویسیم یعنی از ابتدا شروع کن. اگر جای پایان برش چیزی ننویسیم یعنی تا انتها برو. مثلا میگیم تا اندیس شماره 4 (یعنی اندیس های 0و 1و 2و 3) رو بهم بده:\n",
    "</div>"
   ]
  },
  {
   "cell_type": "code",
   "execution_count": 36,
   "metadata": {},
   "outputs": [
    {
     "data": {
      "text/plain": [
       "array([1, 2, 3, 4])"
      ]
     },
     "execution_count": 36,
     "metadata": {},
     "output_type": "execute_result"
    }
   ],
   "source": [
    "d[:4]"
   ]
  },
  {
   "cell_type": "markdown",
   "metadata": {},
   "source": [
    "<div class=\"norm_fa\">\n",
    "یا از اندیس 6 به بعد (معادل اندیس های 6و 7و 8 در ماتریس d)\n",
    " رو بهم بده:\n",
    "</div>\n"
   ]
  },
  {
   "cell_type": "code",
   "execution_count": 37,
   "metadata": {},
   "outputs": [
    {
     "data": {
      "text/plain": [
       "array([7, 8, 9])"
      ]
     },
     "execution_count": 37,
     "metadata": {},
     "output_type": "execute_result"
    }
   ],
   "source": [
    "d[6:]"
   ]
  },
  {
   "cell_type": "markdown",
   "metadata": {},
   "source": [
    "<div class=\"norm_fa\">\n",
    "از اعداد منفی هم در هر کدوم از ابتدا و انتها و گام پرش میتونبم استفاده کنیم ولی در گام پرش جای ابتدا و انتها رو عوض میکنه. مثلا میخوایم بگیم یک برش از ماتریس d از انتها به ابتدا، به صورت برعکس به من بده:\n",
    "</div>"
   ]
  },
  {
   "cell_type": "code",
   "execution_count": 38,
   "metadata": {},
   "outputs": [
    {
     "data": {
      "text/plain": [
       "array([9, 8, 7, 6, 5, 4, 3, 2, 1])"
      ]
     },
     "execution_count": 38,
     "metadata": {},
     "output_type": "execute_result"
    }
   ],
   "source": [
    "d[::-1]"
   ]
  },
  {
   "cell_type": "code",
   "execution_count": 39,
   "metadata": {},
   "outputs": [
    {
     "data": {
      "text/plain": [
       "array([1, 4, 7])"
      ]
     },
     "execution_count": 39,
     "metadata": {},
     "output_type": "execute_result"
    }
   ],
   "source": [
    "d[::3] # (گام پرش 3) یه صورت دو تا در میون"
   ]
  },
  {
   "cell_type": "code",
   "execution_count": 40,
   "metadata": {},
   "outputs": [
    {
     "data": {
      "text/plain": [
       "array([5, 4, 3, 2, 1])"
      ]
     },
     "execution_count": 40,
     "metadata": {},
     "output_type": "execute_result"
    }
   ],
   "source": [
    "d[4::-1] # از اندیس 4 تا ابتدا به صورت برعکس"
   ]
  },
  {
   "cell_type": "code",
   "execution_count": 41,
   "metadata": {},
   "outputs": [
    {
     "data": {
      "text/plain": [
       "array([2, 3, 4, 5, 6, 7, 8])"
      ]
     },
     "execution_count": 41,
     "metadata": {},
     "output_type": "execute_result"
    }
   ],
   "source": [
    "d[1:-1] # عنصر اول و آخر رو حذف کن"
   ]
  },
  {
   "cell_type": "code",
   "execution_count": 42,
   "metadata": {},
   "outputs": [
    {
     "data": {
      "text/plain": [
       "array([7, 8, 9])"
      ]
     },
     "execution_count": 42,
     "metadata": {},
     "output_type": "execute_result"
    }
   ],
   "source": [
    "d[-3:] #از 2 تا مونده به آخر تا آخر رو به من بده"
   ]
  },
  {
   "cell_type": "markdown",
   "metadata": {},
   "source": [
    "<div class=\"norm_fa\">\n",
    "برای ماتریس های دو بعدی هم همینطوره و برای هرکدوم از ابعاد میتونید یک برش بنویسید. این عکس که از <a href=\"https://scipy-lectures.org\">این سایت</a>  برداشتم خیلی خوب این مفهوم رو توصیف میکنه:\n",
    "</div>"
   ]
  },
  {
   "cell_type": "markdown",
   "metadata": {},
   "source": [
    "![توصیف تصویری برش ها در ماتریس با ابعاد بالاتر](./notebook_imgs/np_indexing.png)"
   ]
  },
  {
   "cell_type": "markdown",
   "metadata": {},
   "source": [
    "<div class=\"norm_fa\">\n",
    "مخصوصا میخوام روی آبیه و قرمزه تاکید کنم. آبیه میگه تمام سطرها، از ستون با اندیس 2 ماتریس a رو به من بده. قرمزه میگه از سطر با اندیس 0 ، ستونهای بین اندیس های 4و 5 رو به من بده. \n",
    "</div>"
   ]
  },
  {
   "cell_type": "markdown",
   "metadata": {},
   "source": [
    "<div class=\"norm_fa\">\n",
    "از برشها و اندیس ها برای مقداردهی عناصر آرایه هم میشه استفاده کرد. مثلا میخوایم بگیم همه عناصر بعد از اندیس 5 ماتریس d رو به 10 تغییر بده:\n",
    "</div>"
   ]
  },
  {
   "cell_type": "code",
   "execution_count": 43,
   "metadata": {},
   "outputs": [
    {
     "data": {
      "text/plain": [
       "array([ 1,  2,  3,  4,  5, 10, 10, 10, 10])"
      ]
     },
     "execution_count": 43,
     "metadata": {},
     "output_type": "execute_result"
    }
   ],
   "source": [
    "d[5:] = 10\n",
    "d"
   ]
  },
  {
   "cell_type": "markdown",
   "metadata": {},
   "source": [
    "<div class=\"norm_fa\">\n",
    "یا اینکه ترتیب عناصر  تا اندیس 5 ماتریس d رو برعکس کن:\n",
    "</div>"
   ]
  },
  {
   "cell_type": "code",
   "execution_count": 44,
   "metadata": {},
   "outputs": [
    {
     "data": {
      "text/plain": [
       "array([ 5,  4,  3,  2,  1, 10, 10, 10, 10])"
      ]
     },
     "execution_count": 44,
     "metadata": {},
     "output_type": "execute_result"
    }
   ],
   "source": [
    "d[:5] = d[4::-1]\n",
    "d"
   ]
  },
  {
   "cell_type": "markdown",
   "metadata": {},
   "source": [
    "<div class=\"norm_fa\">\n",
    "میشه از یک ماتریس هم برای اندیس گذاری و برش یک ماتریس دیگه استفاده کرد. مثلا میخواهیم از ماتریس d فقط اندیسهای 1,3,5,7 رو استخراج کنیم:\n",
    "</div>"
   ]
  },
  {
   "cell_type": "code",
   "execution_count": 49,
   "metadata": {},
   "outputs": [
    {
     "data": {
      "text/plain": [
       "array([ 4,  2, 10, 10])"
      ]
     },
     "execution_count": 49,
     "metadata": {},
     "output_type": "execute_result"
    }
   ],
   "source": [
    "d[[1,3,5,7]]"
   ]
  },
  {
   "cell_type": "markdown",
   "metadata": {},
   "source": [
    "<div class=\"norm_fa\">\n",
    "برای ماتریس های دو (یاچند) بعدی هم ممکنه: \n",
    "</div>"
   ]
  },
  {
   "cell_type": "code",
   "execution_count": 50,
   "metadata": {},
   "outputs": [
    {
     "data": {
      "text/plain": [
       "array([[ 1,  2,  3,  4,  5],\n",
       "       [ 6,  7,  8,  9, 10],\n",
       "       [11, 12, 13, 14, 15]])"
      ]
     },
     "execution_count": 50,
     "metadata": {},
     "output_type": "execute_result"
    }
   ],
   "source": [
    "f = np.array([[1,2,3,4,5],[6,7,8,9,10],[11,12,13,14,15]])\n",
    "f"
   ]
  },
  {
   "cell_type": "markdown",
   "metadata": {},
   "source": [
    "<div class=\"norm_fa\">\n",
    "میخواهیم عناصر اندیسهای (0,1) و (1,2) و (2,4) رو استخراج کنیم:\n",
    "</div>"
   ]
  },
  {
   "cell_type": "code",
   "execution_count": 54,
   "metadata": {},
   "outputs": [
    {
     "data": {
      "text/plain": [
       "array([ 2,  8, 15])"
      ]
     },
     "execution_count": 54,
     "metadata": {},
     "output_type": "execute_result"
    }
   ],
   "source": [
    "f[[0,1,2],[1,2,4]]"
   ]
  },
  {
   "cell_type": "markdown",
   "metadata": {},
   "source": [
    "<div class=\"norm_fa\">\n",
    "یا بهشون مقدار بدیم:\n",
    "</div>"
   ]
  },
  {
   "cell_type": "code",
   "execution_count": 55,
   "metadata": {},
   "outputs": [
    {
     "data": {
      "text/plain": [
       "array([[ 1, -1,  3,  4,  5],\n",
       "       [ 6,  7, -1,  9, 10],\n",
       "       [11, 12, 13, 14, -1]])"
      ]
     },
     "execution_count": 55,
     "metadata": {},
     "output_type": "execute_result"
    }
   ],
   "source": [
    "f[(0,1,2),(1,2,4)] = -1\n",
    "f"
   ]
  },
  {
   "cell_type": "markdown",
   "metadata": {},
   "source": [
    "<div class=\"norm_fa\">\n",
    "حالا میریم سراغ اندیس گذاری منطقی.  ماتریس ها رو میشه در یک گزاره منطقی به کار برد که خروجی اون یک ماتریس با ابعاد ماتریس اصلیه و به جای عناصری که در شرط صدق میکن True و به جای بقیه False اومده. حالا برای آزمایش اول یک ماتریس تصادفی درست میکنیم:\n",
    "</div>"
   ]
  },
  {
   "cell_type": "code",
   "execution_count": 56,
   "metadata": {},
   "outputs": [
    {
     "data": {
      "text/plain": [
       "array([[10,  3,  8,  0, 19, 10, 11,  9, 10,  6,  0, 12,  7, 14, 17,  2,\n",
       "         2,  1, 19,  5]])"
      ]
     },
     "execution_count": 56,
     "metadata": {},
     "output_type": "execute_result"
    }
   ],
   "source": [
    "np.random.seed(3)\n",
    "g = np.random.randint(0, 20, (1,20))\n",
    "g"
   ]
  },
  {
   "cell_type": "markdown",
   "metadata": {},
   "source": [
    "<div class=\"norm_fa\">\n",
    " و میخوایم ببینیم کدام یک از عناصرش بر 3 بخشپذیره:\n",
    "</div>"
   ]
  },
  {
   "cell_type": "code",
   "execution_count": 57,
   "metadata": {},
   "outputs": [
    {
     "data": {
      "text/plain": [
       "array([[False,  True, False,  True, False, False, False,  True, False,\n",
       "         True,  True,  True, False, False, False, False, False, False,\n",
       "        False, False]])"
      ]
     },
     "execution_count": 57,
     "metadata": {},
     "output_type": "execute_result"
    }
   ],
   "source": [
    "g%3==0"
   ]
  },
  {
   "cell_type": "markdown",
   "metadata": {},
   "source": [
    "<div class=\"norm_fa\">\n",
    "میبینیم که در این ماتریس معادل اندیس هایی در ماتریس g که اعداد اون اندیس بر 3 بخشپذیرند True درج شده. حالا اگر از این ماتریس برای برش ماتریس g استفاده کنیم:\n",
    "</div>"
   ]
  },
  {
   "cell_type": "code",
   "execution_count": 58,
   "metadata": {},
   "outputs": [
    {
     "data": {
      "text/plain": [
       "array([ 3,  0,  9,  6,  0, 12])"
      ]
     },
     "execution_count": 58,
     "metadata": {},
     "output_type": "execute_result"
    }
   ],
   "source": [
    "g[g%3==0]"
   ]
  },
  {
   "cell_type": "markdown",
   "metadata": {},
   "source": [
    "<div class=\"norm_fa\">\n",
    "    میبینیم فقط عناصری از g اومدن که در ماتریس دوم معادل اندیسشون True درج شده (بر 3 بخشپذیرن). اندیس گذاری منطقی رو مبشه با عملگر های دیگه هم به کار برد:\n",
    "</div>"
   ]
  },
  {
   "cell_type": "code",
   "execution_count": 59,
   "metadata": {},
   "outputs": [
    {
     "data": {
      "text/plain": [
       "array([19, 11, 12, 14, 17, 19])"
      ]
     },
     "execution_count": 59,
     "metadata": {},
     "output_type": "execute_result"
    }
   ],
   "source": [
    "g[g>10]"
   ]
  },
  {
   "cell_type": "code",
   "execution_count": 60,
   "metadata": {},
   "outputs": [
    {
     "data": {
      "text/plain": [
       "array([3, 0, 0, 2, 2, 1, 5])"
      ]
     },
     "execution_count": 60,
     "metadata": {},
     "output_type": "execute_result"
    }
   ],
   "source": [
    "g[g<=5]"
   ]
  },
  {
   "cell_type": "markdown",
   "metadata": {},
   "source": [
    "<div class=\"norm_fa\">\n",
    "یا برای مقدار دهی ازشون استفاده کرد.مثلا میخواهیم اون عناصری که بر 2 بخشپذیر نیستند رو صفر کنیم:\n",
    "</div>"
   ]
  },
  {
   "cell_type": "code",
   "execution_count": 61,
   "metadata": {},
   "outputs": [
    {
     "data": {
      "text/plain": [
       "array([[10,  0,  8,  0,  0, 10,  0,  0, 10,  6,  0, 12,  0, 14,  0,  2,\n",
       "         2,  0,  0,  0]])"
      ]
     },
     "execution_count": 61,
     "metadata": {},
     "output_type": "execute_result"
    }
   ],
   "source": [
    "g[g%2!=0] = 0\n",
    "g"
   ]
  },
  {
   "cell_type": "markdown",
   "metadata": {},
   "source": [
    "<div class=\"titr_fa\">\n",
    "4- عملیات اعداد با آرایه ها\n",
    "</div>"
   ]
  },
  {
   "cell_type": "code",
   "execution_count": 62,
   "metadata": {},
   "outputs": [
    {
     "data": {
      "text/plain": [
       "array([1, 2, 3, 4, 5, 6, 7, 8, 9])"
      ]
     },
     "execution_count": 62,
     "metadata": {},
     "output_type": "execute_result"
    }
   ],
   "source": [
    "h = np.array([1, 2, 3, 4, 5, 6, 7, 8, 9])\n",
    "h"
   ]
  },
  {
   "cell_type": "code",
   "execution_count": 63,
   "metadata": {},
   "outputs": [
    {
     "data": {
      "text/plain": [
       "array([ 2,  3,  4,  5,  6,  7,  8,  9, 10])"
      ]
     },
     "execution_count": 63,
     "metadata": {},
     "output_type": "execute_result"
    }
   ],
   "source": [
    "h + 1"
   ]
  },
  {
   "cell_type": "code",
   "execution_count": 64,
   "metadata": {},
   "outputs": [
    {
     "data": {
      "text/plain": [
       "array([-2, -1,  0,  1,  2,  3,  4,  5,  6])"
      ]
     },
     "execution_count": 64,
     "metadata": {},
     "output_type": "execute_result"
    }
   ],
   "source": [
    "h-3"
   ]
  },
  {
   "cell_type": "code",
   "execution_count": 65,
   "metadata": {},
   "outputs": [
    {
     "data": {
      "text/plain": [
       "array([ 2,  4,  6,  8, 10, 12, 14, 16, 18])"
      ]
     },
     "execution_count": 65,
     "metadata": {},
     "output_type": "execute_result"
    }
   ],
   "source": [
    "2*h"
   ]
  },
  {
   "cell_type": "code",
   "execution_count": 66,
   "metadata": {},
   "outputs": [
    {
     "data": {
      "text/plain": [
       "array([0.33333333, 0.66666667, 1.        , 1.33333333, 1.66666667,\n",
       "       2.        , 2.33333333, 2.66666667, 3.        ])"
      ]
     },
     "execution_count": 66,
     "metadata": {},
     "output_type": "execute_result"
    }
   ],
   "source": [
    "h/3"
   ]
  },
  {
   "cell_type": "markdown",
   "metadata": {},
   "source": [
    "<div class=\"norm_fa\">\n",
    "عملگر به توان رسوندن در پایتون **ه:\n",
    "</div>"
   ]
  },
  {
   "cell_type": "code",
   "execution_count": 67,
   "metadata": {},
   "outputs": [
    {
     "data": {
      "text/plain": [
       "array([  2,   4,   8,  16,  32,  64, 128, 256, 512], dtype=int32)"
      ]
     },
     "execution_count": 67,
     "metadata": {},
     "output_type": "execute_result"
    }
   ],
   "source": [
    "2**h"
   ]
  },
  {
   "cell_type": "code",
   "execution_count": 68,
   "metadata": {},
   "outputs": [
    {
     "data": {
      "text/plain": [
       "array([ 1,  4,  9, 16, 25, 36, 49, 64, 81], dtype=int32)"
      ]
     },
     "execution_count": 68,
     "metadata": {},
     "output_type": "execute_result"
    }
   ],
   "source": [
    "h**2"
   ]
  },
  {
   "cell_type": "markdown",
   "metadata": {},
   "source": [
    "<div class=\"norm_fa\">\n",
    "توان میتونه عدد صحیح نباشه. مثلا اگه بخواهیم جذر عناصر h رو بگیریم:\n",
    "</div>"
   ]
  },
  {
   "cell_type": "code",
   "execution_count": 69,
   "metadata": {},
   "outputs": [
    {
     "data": {
      "text/plain": [
       "array([1.        , 1.41421356, 1.73205081, 2.        , 2.23606798,\n",
       "       2.44948974, 2.64575131, 2.82842712, 3.        ])"
      ]
     },
     "execution_count": 69,
     "metadata": {},
     "output_type": "execute_result"
    }
   ],
   "source": [
    "h**0.5"
   ]
  },
  {
   "cell_type": "markdown",
   "metadata": {},
   "source": [
    "<div class=\"titr_fa\">\n",
    "5 - توابع پایه ریاضی:\n",
    "</div>"
   ]
  },
  {
   "cell_type": "code",
   "execution_count": 70,
   "metadata": {},
   "outputs": [
    {
     "data": {
      "text/plain": [
       "array([1.        , 1.41421356, 1.73205081, 2.        , 2.23606798,\n",
       "       2.44948974, 2.64575131, 2.82842712, 3.        ])"
      ]
     },
     "execution_count": 70,
     "metadata": {},
     "output_type": "execute_result"
    }
   ],
   "source": [
    "i = np.sqrt(h) # جذر عناصر آرایه\n",
    "i"
   ]
  },
  {
   "cell_type": "code",
   "execution_count": 71,
   "metadata": {},
   "outputs": [
    {
     "data": {
      "text/plain": [
       "array([1, 3, 5, 6, 9, 3, 2])"
      ]
     },
     "execution_count": 71,
     "metadata": {},
     "output_type": "execute_result"
    }
   ],
   "source": [
    "np.abs(np.array([-1, -3, 5, 6, -9, -3, 2])) #قدر مطلق "
   ]
  },
  {
   "cell_type": "markdown",
   "metadata": {},
   "source": [
    "<div class=\"norm_fa\">\n",
    " j در نامپای برای ساختن اعداد مختلط به کار میره و بهتره برای اسم ماتریس ازش استفاده نکنیم:\n",
    "</div>"
   ]
  },
  {
   "cell_type": "code",
   "execution_count": 72,
   "metadata": {},
   "outputs": [
    {
     "data": {
      "text/plain": [
       "array([ 1.+1.j,  2.+3.j,  6.-7.j, -0.-2.j,  1.+0.j])"
      ]
     },
     "execution_count": 72,
     "metadata": {},
     "output_type": "execute_result"
    }
   ],
   "source": [
    "k = np.array([1+1j, 2+3j, 6-7j, -2j, 1])\n",
    "k"
   ]
  },
  {
   "cell_type": "code",
   "execution_count": 73,
   "metadata": {},
   "outputs": [
    {
     "data": {
      "text/plain": [
       "array([ 1.57079633,  3.14159265,  4.71238898,  6.28318531,  7.85398163,\n",
       "        9.42477796, 10.99557429, 12.56637061, 14.13716694])"
      ]
     },
     "execution_count": 73,
     "metadata": {},
     "output_type": "execute_result"
    }
   ],
   "source": [
    "l = np.pi * h /2 # عدد pi \n",
    "l"
   ]
  },
  {
   "cell_type": "code",
   "execution_count": 74,
   "metadata": {},
   "outputs": [
    {
     "data": {
      "text/plain": [
       "array([ 1.0000000e+00,  1.2246468e-16, -1.0000000e+00, -2.4492936e-16,\n",
       "        1.0000000e+00,  3.6739404e-16, -1.0000000e+00, -4.8985872e-16,\n",
       "        1.0000000e+00])"
      ]
     },
     "execution_count": 74,
     "metadata": {},
     "output_type": "execute_result"
    }
   ],
   "source": [
    "np.sin(l) # سینوس هر عنصر، این تابع فرض میکند که عناصر آرایه بر حسب رادیان هستند، نه درجه"
   ]
  },
  {
   "cell_type": "markdown",
   "metadata": {},
   "source": [
    "<div class=\"norm_fa\">\n",
    "ما اون e رو به صورت \"ضربدر 10 به توان\" میخونیم. مثلا 1e-16 میشه 1 ضربدر 10 به توان منفی 16، که البته عدد خیلی کوچیکیه و نزدیک به صفر.\n",
    "</div>"
   ]
  },
  {
   "cell_type": "code",
   "execution_count": 75,
   "metadata": {},
   "outputs": [
    {
     "data": {
      "text/plain": [
       "array([ 6.1232340e-17, -1.0000000e+00, -1.8369702e-16,  1.0000000e+00,\n",
       "        3.0616170e-16, -1.0000000e+00, -4.2862638e-16,  1.0000000e+00,\n",
       "        5.5109106e-16])"
      ]
     },
     "execution_count": 75,
     "metadata": {},
     "output_type": "execute_result"
    }
   ],
   "source": [
    "np.cos(l) # تابع کسینوس، توضیحات مانند سینوس"
   ]
  },
  {
   "cell_type": "code",
   "execution_count": 76,
   "metadata": {},
   "outputs": [
    {
     "data": {
      "text/plain": [
       "array([ 1.63312394e+16, -1.22464680e-16,  5.44374645e+15, -2.44929360e-16,\n",
       "        3.26624787e+15, -3.67394040e-16,  2.33303419e+15, -4.89858720e-16,\n",
       "        1.81458215e+15])"
      ]
     },
     "execution_count": 76,
     "metadata": {},
     "output_type": "execute_result"
    }
   ],
   "source": [
    "np.tan(l) # تانژانت"
   ]
  },
  {
   "cell_type": "code",
   "execution_count": 77,
   "metadata": {},
   "outputs": [
    {
     "data": {
      "text/plain": [
       "array([0.78539816, 1.10714872, 1.24904577, 1.32581766, 1.37340077,\n",
       "       1.40564765, 1.42889927, 1.44644133, 1.46013911])"
      ]
     },
     "execution_count": 77,
     "metadata": {},
     "output_type": "execute_result"
    }
   ],
   "source": [
    "m = np.arctan(h) # آرکتانژانت، خروجی برحسب رادیان است\n",
    "m"
   ]
  },
  {
   "cell_type": "markdown",
   "metadata": {},
   "source": [
    "<div class=\"norm_fa\">\n",
    "اگر میخواهیم معادل درجه بک زاویه برحسب رادیان را ببینیم از تابع rad2deg استفاده میکنیم:\n",
    "</div>"
   ]
  },
  {
   "cell_type": "code",
   "execution_count": 78,
   "metadata": {},
   "outputs": [
    {
     "data": {
      "text/plain": [
       "array([45.        , 63.43494882, 71.56505118, 75.96375653, 78.69006753,\n",
       "       80.53767779, 81.86989765, 82.87498365, 83.65980825])"
      ]
     },
     "execution_count": 78,
     "metadata": {},
     "output_type": "execute_result"
    }
   ],
   "source": [
    "np.rad2deg(m)"
   ]
  },
  {
   "cell_type": "code",
   "execution_count": 79,
   "metadata": {},
   "outputs": [
    {
     "data": {
      "text/plain": [
       "array([2.71828183e+00, 7.38905610e+00, 2.00855369e+01, 5.45981500e+01,\n",
       "       1.48413159e+02, 4.03428793e+02, 1.09663316e+03, 2.98095799e+03,\n",
       "       8.10308393e+03])"
      ]
     },
     "execution_count": 79,
     "metadata": {},
     "output_type": "execute_result"
    }
   ],
   "source": [
    "n = np.exp(h) # عدد نپر به توان اعضای آرایه\n",
    "n"
   ]
  },
  {
   "cell_type": "code",
   "execution_count": 80,
   "metadata": {},
   "outputs": [
    {
     "data": {
      "text/plain": [
       "array([0.        , 0.30103   , 0.47712125, 0.60205999, 0.69897   ,\n",
       "       0.77815125, 0.84509804, 0.90308999, 0.95424251])"
      ]
     },
     "execution_count": 80,
     "metadata": {},
     "output_type": "execute_result"
    }
   ],
   "source": [
    "np.log10(h) # لگاریتم در مبنای 10 عناصر آرایه"
   ]
  },
  {
   "cell_type": "markdown",
   "metadata": {},
   "source": [
    "<div class=\"norm_fa\">\n",
    "لگاریتم پایه طبیعی در numpy با تابع log حساب میشه. من تو دبیرستان با اسم ln میشناختم. معکوس تابع exp:\n",
    "</div>"
   ]
  },
  {
   "cell_type": "code",
   "execution_count": 81,
   "metadata": {},
   "outputs": [
    {
     "data": {
      "text/plain": [
       "array([1., 2., 3., 4., 5., 6., 7., 8., 9.])"
      ]
     },
     "execution_count": 81,
     "metadata": {},
     "output_type": "execute_result"
    }
   ],
   "source": [
    "np.log(n) # "
   ]
  },
  {
   "cell_type": "markdown",
   "metadata": {},
   "source": [
    "<div class=\"norm_fa\">\n",
    "روی اعداد مختلط هم میتونیم محاسبه کنیم:\n",
    "</div>"
   ]
  },
  {
   "cell_type": "code",
   "execution_count": 82,
   "metadata": {},
   "outputs": [
    {
     "data": {
      "text/plain": [
       "array([1.41421356, 3.60555128, 9.21954446, 2.        , 1.        ])"
      ]
     },
     "execution_count": 82,
     "metadata": {},
     "output_type": "execute_result"
    }
   ],
   "source": [
    "np.abs(k) # اندازه"
   ]
  },
  {
   "cell_type": "code",
   "execution_count": 83,
   "metadata": {},
   "outputs": [
    {
     "data": {
      "text/plain": [
       "array([ 0.78539816,  0.98279372, -0.86217005, -1.57079633,  0.        ])"
      ]
     },
     "execution_count": 83,
     "metadata": {},
     "output_type": "execute_result"
    }
   ],
   "source": [
    "np.angle(k) # زاویه برحسب رادیان"
   ]
  },
  {
   "cell_type": "code",
   "execution_count": 84,
   "metadata": {},
   "outputs": [
    {
     "data": {
      "text/plain": [
       "array([ 1.,  2.,  6., -0.,  1.])"
      ]
     },
     "execution_count": 84,
     "metadata": {},
     "output_type": "execute_result"
    }
   ],
   "source": [
    "np.real(k) # بخش حقیقی"
   ]
  },
  {
   "cell_type": "code",
   "execution_count": 85,
   "metadata": {},
   "outputs": [
    {
     "data": {
      "text/plain": [
       "array([ 1.,  3., -7., -2.,  0.])"
      ]
     },
     "execution_count": 85,
     "metadata": {},
     "output_type": "execute_result"
    }
   ],
   "source": [
    "np.imag(k) # بخش موهومی"
   ]
  },
  {
   "cell_type": "code",
   "execution_count": 86,
   "metadata": {},
   "outputs": [
    {
     "data": {
      "text/plain": [
       "array([ 1.-1.j,  2.-3.j,  6.+7.j, -0.+2.j,  1.-0.j])"
      ]
     },
     "execution_count": 86,
     "metadata": {},
     "output_type": "execute_result"
    }
   ],
   "source": [
    "np.conj(k) # مزدوج مختلط"
   ]
  },
  {
   "cell_type": "markdown",
   "metadata": {},
   "source": [
    "<div class=\"titr_fa\">\n",
    "6- عملیات آرایه با آرایه (ماتریس با ماتریس)\n",
    "</div>"
   ]
  },
  {
   "cell_type": "markdown",
   "metadata": {},
   "source": [
    "<div class=\"norm_fa\">\n",
    "عملیات عنصر به عنصر\n",
    "</div>"
   ]
  },
  {
   "cell_type": "code",
   "execution_count": 87,
   "metadata": {},
   "outputs": [
    {
     "data": {
      "text/plain": [
       "array([[1., 1., 1., 1.],\n",
       "       [1., 1., 1., 1.],\n",
       "       [1., 1., 1., 1.],\n",
       "       [1., 1., 1., 1.]])"
      ]
     },
     "execution_count": 87,
     "metadata": {},
     "output_type": "execute_result"
    }
   ],
   "source": [
    "o = np.ones((4,4))\n",
    "o"
   ]
  },
  {
   "cell_type": "code",
   "execution_count": 88,
   "metadata": {},
   "outputs": [
    {
     "data": {
      "text/plain": [
       "array([[2., 2., 2., 2.],\n",
       "       [2., 2., 2., 2.],\n",
       "       [2., 2., 2., 2.],\n",
       "       [2., 2., 2., 2.]])"
      ]
     },
     "execution_count": 88,
     "metadata": {},
     "output_type": "execute_result"
    }
   ],
   "source": [
    "o + o # جمع عناصر در اندیس های متناظر"
   ]
  },
  {
   "cell_type": "code",
   "execution_count": 89,
   "metadata": {},
   "outputs": [
    {
     "data": {
      "text/plain": [
       "array([[2., 2., 2., 2.],\n",
       "       [2., 2., 2., 2.],\n",
       "       [2., 2., 2., 2.],\n",
       "       [2., 2., 2., 2.]])"
      ]
     },
     "execution_count": 89,
     "metadata": {},
     "output_type": "execute_result"
    }
   ],
   "source": [
    "np.add(o,o) # معادل o+o"
   ]
  },
  {
   "cell_type": "code",
   "execution_count": 90,
   "metadata": {},
   "outputs": [
    {
     "data": {
      "text/plain": [
       "array([[0.5, 0.5, 0.5, 0.5],\n",
       "       [0.5, 0.5, 0.5, 0.5],\n",
       "       [0.5, 0.5, 0.5, 0.5],\n",
       "       [0.5, 0.5, 0.5, 0.5]])"
      ]
     },
     "execution_count": 90,
     "metadata": {},
     "output_type": "execute_result"
    }
   ],
   "source": [
    "o / (o+o)# تقسیم عناصر در اندیس های متناظر"
   ]
  },
  {
   "cell_type": "code",
   "execution_count": 91,
   "metadata": {},
   "outputs": [
    {
     "data": {
      "text/plain": [
       "array([[0.5, 0.5, 0.5, 0.5],\n",
       "       [0.5, 0.5, 0.5, 0.5],\n",
       "       [0.5, 0.5, 0.5, 0.5],\n",
       "       [0.5, 0.5, 0.5, 0.5]])"
      ]
     },
     "execution_count": 91,
     "metadata": {},
     "output_type": "execute_result"
    }
   ],
   "source": [
    "np.divide(o, o+o) # معادل تقسیم عنصر به عنصر"
   ]
  },
  {
   "cell_type": "code",
   "execution_count": 92,
   "metadata": {},
   "outputs": [
    {
     "data": {
      "text/plain": [
       "array([[0., 1., 1., 1.],\n",
       "       [1., 0., 1., 1.],\n",
       "       [1., 1., 0., 1.],\n",
       "       [1., 1., 1., 0.]])"
      ]
     },
     "execution_count": 92,
     "metadata": {},
     "output_type": "execute_result"
    }
   ],
   "source": [
    "o - np.eye(4) # eye ماتریس واحد"
   ]
  },
  {
   "cell_type": "code",
   "execution_count": 93,
   "metadata": {},
   "outputs": [
    {
     "data": {
      "text/plain": [
       "array([[0., 1., 1., 1.],\n",
       "       [1., 0., 1., 1.],\n",
       "       [1., 1., 0., 1.],\n",
       "       [1., 1., 1., 0.]])"
      ]
     },
     "execution_count": 93,
     "metadata": {},
     "output_type": "execute_result"
    }
   ],
   "source": [
    "np.subtract(o, np.eye(4))"
   ]
  },
  {
   "cell_type": "code",
   "execution_count": 94,
   "metadata": {},
   "outputs": [
    {
     "data": {
      "text/plain": [
       "array([[1., 1., 1., 1.],\n",
       "       [1., 1., 1., 1.],\n",
       "       [1., 1., 1., 1.],\n",
       "       [1., 1., 1., 1.]])"
      ]
     },
     "execution_count": 94,
     "metadata": {},
     "output_type": "execute_result"
    }
   ],
   "source": [
    "o * o # ضرب عنصر در عنصرهای متناظر"
   ]
  },
  {
   "cell_type": "code",
   "execution_count": 95,
   "metadata": {},
   "outputs": [
    {
     "data": {
      "text/plain": [
       "array([[1., 1., 1., 1.],\n",
       "       [1., 1., 1., 1.],\n",
       "       [1., 1., 1., 1.],\n",
       "       [1., 1., 1., 1.]])"
      ]
     },
     "execution_count": 95,
     "metadata": {},
     "output_type": "execute_result"
    }
   ],
   "source": [
    "np.multiply(o,o) #معادل o*o"
   ]
  },
  {
   "cell_type": "code",
   "execution_count": 96,
   "metadata": {},
   "outputs": [
    {
     "data": {
      "text/plain": [
       "array([[4., 4., 4., 4.],\n",
       "       [4., 4., 4., 4.],\n",
       "       [4., 4., 4., 4.],\n",
       "       [4., 4., 4., 4.]])"
      ]
     },
     "execution_count": 96,
     "metadata": {},
     "output_type": "execute_result"
    }
   ],
   "source": [
    "np.dot(o, o) # ضرب ماتریس در ماتریس"
   ]
  },
  {
   "cell_type": "markdown",
   "metadata": {},
   "source": [
    "<div class=\"norm_fa\">\n",
    "در تمامی این عملیاتها باید ابعاد ماتریسها با هم همخوانی داشته باشد در غیر اینصورت:\n",
    "</div>"
   ]
  },
  {
   "cell_type": "code",
   "execution_count": 97,
   "metadata": {},
   "outputs": [
    {
     "ename": "ValueError",
     "evalue": "operands could not be broadcast together with shapes (4,4) (3,3) ",
     "output_type": "error",
     "traceback": [
      "\u001b[1;31m---------------------------------------------------------------------------\u001b[0m",
      "\u001b[1;31mValueError\u001b[0m                                Traceback (most recent call last)",
      "\u001b[1;32m<ipython-input-97-0b5ed73b82e4>\u001b[0m in \u001b[0;36m<module>\u001b[1;34m\u001b[0m\n\u001b[1;32m----> 1\u001b[1;33m \u001b[0mnp\u001b[0m\u001b[1;33m.\u001b[0m\u001b[0mones\u001b[0m\u001b[1;33m(\u001b[0m\u001b[1;33m(\u001b[0m\u001b[1;36m4\u001b[0m\u001b[1;33m,\u001b[0m\u001b[1;36m4\u001b[0m\u001b[1;33m)\u001b[0m\u001b[1;33m)\u001b[0m \u001b[1;33m+\u001b[0m \u001b[0mnp\u001b[0m\u001b[1;33m.\u001b[0m\u001b[0mones\u001b[0m\u001b[1;33m(\u001b[0m\u001b[1;33m(\u001b[0m\u001b[1;36m3\u001b[0m\u001b[1;33m,\u001b[0m\u001b[1;36m3\u001b[0m\u001b[1;33m)\u001b[0m\u001b[1;33m)\u001b[0m\u001b[1;33m\u001b[0m\u001b[1;33m\u001b[0m\u001b[0m\n\u001b[0m",
      "\u001b[1;31mValueError\u001b[0m: operands could not be broadcast together with shapes (4,4) (3,3) "
     ]
    }
   ],
   "source": [
    "np.ones((4,4)) + np.ones((3,3))"
   ]
  },
  {
   "cell_type": "markdown",
   "metadata": {},
   "source": [
    "<div class=\"norm_fa\">\n",
    "میگه آرایه ها رو باهم نمیتونه پخش (broadcast) کنه. راجع به پخش در ادامه صحبت خواهیم کرد. برای ضرب دو ماتریس ابعاد داخلیشون باید با هم برابر باشه و گرنه:\n",
    "</div>"
   ]
  },
  {
   "cell_type": "code",
   "execution_count": 98,
   "metadata": {},
   "outputs": [
    {
     "ename": "ValueError",
     "evalue": "shapes (4,4) and (3,4) not aligned: 4 (dim 1) != 3 (dim 0)",
     "output_type": "error",
     "traceback": [
      "\u001b[1;31m---------------------------------------------------------------------------\u001b[0m",
      "\u001b[1;31mValueError\u001b[0m                                Traceback (most recent call last)",
      "\u001b[1;32m<ipython-input-98-98d542211c5e>\u001b[0m in \u001b[0;36m<module>\u001b[1;34m\u001b[0m\n\u001b[1;32m----> 1\u001b[1;33m \u001b[0mnp\u001b[0m\u001b[1;33m.\u001b[0m\u001b[0mdot\u001b[0m\u001b[1;33m(\u001b[0m\u001b[0mnp\u001b[0m\u001b[1;33m.\u001b[0m\u001b[0mones\u001b[0m\u001b[1;33m(\u001b[0m\u001b[1;33m(\u001b[0m\u001b[1;36m4\u001b[0m\u001b[1;33m,\u001b[0m\u001b[1;36m4\u001b[0m\u001b[1;33m)\u001b[0m\u001b[1;33m)\u001b[0m \u001b[1;33m,\u001b[0m \u001b[0mnp\u001b[0m\u001b[1;33m.\u001b[0m\u001b[0mones\u001b[0m\u001b[1;33m(\u001b[0m\u001b[1;33m(\u001b[0m\u001b[1;36m3\u001b[0m\u001b[1;33m,\u001b[0m\u001b[1;36m4\u001b[0m\u001b[1;33m)\u001b[0m\u001b[1;33m)\u001b[0m\u001b[1;33m)\u001b[0m\u001b[1;33m\u001b[0m\u001b[1;33m\u001b[0m\u001b[0m\n\u001b[0m",
      "\u001b[1;31mValueError\u001b[0m: shapes (4,4) and (3,4) not aligned: 4 (dim 1) != 3 (dim 0)"
     ]
    }
   ],
   "source": [
    "np.dot(np.ones((4,4)) , np.ones((3,4)))"
   ]
  },
  {
   "cell_type": "markdown",
   "metadata": {},
   "source": [
    "<div class=\"norm_fa\">\n",
    "روی ماتریس ها عملیات منطقی رو هم میتونیم انجام بدیم. طبق یک قراداد قدیمی که از زبان C به ارث رسیده، عدد 0 معادل غلط (False) و 1 (یا هر چیز دیگه به جز 0) معادل صحیح (True) در نظر گرفته میشه:\n",
    "</div>"
   ]
  },
  {
   "cell_type": "code",
   "execution_count": 99,
   "metadata": {},
   "outputs": [
    {
     "data": {
      "text/plain": [
       "array([[ True, False, False, False],\n",
       "       [False,  True, False, False],\n",
       "       [False, False,  True, False],\n",
       "       [False, False, False,  True]])"
      ]
     },
     "execution_count": 99,
     "metadata": {},
     "output_type": "execute_result"
    }
   ],
   "source": [
    "o == np.eye(4) # برابری عنصر به عنصر"
   ]
  },
  {
   "cell_type": "code",
   "execution_count": 100,
   "metadata": {},
   "outputs": [],
   "source": [
    "p = np.array([0, 0, 1, 1])\n",
    "q = np.array([0, 1, 0, 1])"
   ]
  },
  {
   "cell_type": "code",
   "execution_count": 101,
   "metadata": {},
   "outputs": [
    {
     "data": {
      "text/plain": [
       "array([False, False, False,  True])"
      ]
     },
     "execution_count": 101,
     "metadata": {},
     "output_type": "execute_result"
    }
   ],
   "source": [
    "np.logical_and(p,q)"
   ]
  },
  {
   "cell_type": "code",
   "execution_count": 102,
   "metadata": {},
   "outputs": [
    {
     "data": {
      "text/plain": [
       "array([False,  True,  True,  True])"
      ]
     },
     "execution_count": 102,
     "metadata": {},
     "output_type": "execute_result"
    }
   ],
   "source": [
    "np.logical_or(p,q)"
   ]
  },
  {
   "cell_type": "code",
   "execution_count": 103,
   "metadata": {},
   "outputs": [
    {
     "data": {
      "text/plain": [
       "array([False,  True,  True, False])"
      ]
     },
     "execution_count": 103,
     "metadata": {},
     "output_type": "execute_result"
    }
   ],
   "source": [
    "np.logical_xor(p,q)"
   ]
  },
  {
   "cell_type": "code",
   "execution_count": 104,
   "metadata": {},
   "outputs": [
    {
     "data": {
      "text/plain": [
       "array([ True,  True, False, False])"
      ]
     },
     "execution_count": 104,
     "metadata": {},
     "output_type": "execute_result"
    }
   ],
   "source": [
    "np.logical_not(p)"
   ]
  },
  {
   "cell_type": "code",
   "execution_count": 105,
   "metadata": {},
   "outputs": [
    {
     "data": {
      "text/plain": [
       "array([[ 0,  1,  2,  3,  4],\n",
       "       [ 5,  6,  7,  8,  9],\n",
       "       [10, 11, 12, 13, 14],\n",
       "       [15, 16, 17, 18, 19]])"
      ]
     },
     "execution_count": 105,
     "metadata": {},
     "output_type": "execute_result"
    }
   ],
   "source": [
    "R = np.array([[0,1,2,3,4], [5,6,7,8,9], [10,11,12,13,14], [15,16, 17,18,19]])\n",
    "R"
   ]
  },
  {
   "cell_type": "markdown",
   "metadata": {},
   "source": [
    "<div class=\"norm_fa\">\n",
    "در عملیات آرایه با آرایه numpy یک مفهومی داره به اسم پخش (broadcast). مثلا ما میدونیم در جمع دو ماتریس، هر دو ماتریس جمع شونده باید سطر و ستونهای یکسان داشته باشند. اما مثلا ما یک عدد صحیح (که بعدش 1ه) رو با یک ماتریس دو بعدی جمع کردیم. اینجا  numpy عملیات پخش رو انجام میده. مثلا اگر یک ماتریس (3,3) رو بخواهیم با یک ماتریس (1,3) جمع کنیم، numpy سطر اول ماتریس دوم رو 3 بار زیر هم کپی میکنه تا یک ماتریس (3,3) ایجاد کنه و هر دو طرف عملگر جمع هم اندازه بشن و بعد اونها رو با هم جمع میکنه. در عملیات جزء به جزء هر وقت یکی از ابعاد ماتریس ها با هم بخونه، پخش انجام میشه. ماتریس 1 در 1 (یک عدد تنها) به هر ابعادی میتونه پخش بشه.\n",
    "</div>"
   ]
  },
  {
   "cell_type": "markdown",
   "metadata": {},
   "source": [
    "<div class=\"norm_fa\">\n",
    "و بالاخره ترانهاده یک ماتریس:\n",
    "</div>"
   ]
  },
  {
   "cell_type": "code",
   "execution_count": 106,
   "metadata": {},
   "outputs": [
    {
     "data": {
      "text/plain": [
       "array([[ 0,  5, 10, 15],\n",
       "       [ 1,  6, 11, 16],\n",
       "       [ 2,  7, 12, 17],\n",
       "       [ 3,  8, 13, 18],\n",
       "       [ 4,  9, 14, 19]])"
      ]
     },
     "execution_count": 106,
     "metadata": {},
     "output_type": "execute_result"
    }
   ],
   "source": [
    "R.T"
   ]
  },
  {
   "cell_type": "markdown",
   "metadata": {},
   "source": [
    "<div class=\"titr_fa\">\n",
    "7- کاهش (Reduction):\n",
    "</div>"
   ]
  },
  {
   "cell_type": "markdown",
   "metadata": {},
   "source": [
    "<div class=\"norm_fa\">\n",
    "کاهش ها عملیاتی هستند که یک ورودی آرایه بزرگ میگیرن و روی اون محاسباتی انجام میدن و یک آرایه کوچکتر و یا یک عدد خروجی میدن. مثلا تابع مجموع:\n",
    "</div>"
   ]
  },
  {
   "cell_type": "code",
   "execution_count": 107,
   "metadata": {},
   "outputs": [
    {
     "data": {
      "text/plain": [
       "190"
      ]
     },
     "execution_count": 107,
     "metadata": {},
     "output_type": "execute_result"
    }
   ],
   "source": [
    "np.sum(R)"
   ]
  },
  {
   "cell_type": "markdown",
   "metadata": {},
   "source": [
    "<div class=\"norm_fa\">\n",
    "تقریبا در همه این توابع میتونیم بجای کاهش کل ماتریس، روی سطرها یا ستونها (و اگر ابعاد بیشتری دارند، روی اونها هم) به صورت مجزا کاهش انجام بدیم. پارامتر axis  محور مورد نظر برای کاهش رو مشخص میکنه. محور 0، سطرهای یک ماتریس رو کاهش میده. محور 1 ستونها و به همین ترتیب:\n",
    "</div>"
   ]
  },
  {
   "cell_type": "code",
   "execution_count": 108,
   "metadata": {},
   "outputs": [
    {
     "data": {
      "text/plain": [
       "array([30, 34, 38, 42, 46])"
      ]
     },
     "execution_count": 108,
     "metadata": {},
     "output_type": "execute_result"
    }
   ],
   "source": [
    "np.sum(R, axis = 0)"
   ]
  },
  {
   "cell_type": "markdown",
   "metadata": {},
   "source": [
    "<div class=\"norm_fa\">\n",
    "دستور بالا سطرها رو کاهش میده و میکنه یک سطر. حالا اون یک سطر چجوری ساخته میشه؟ : \n",
    "</div>"
   ]
  },
  {
   "cell_type": "markdown",
   "metadata": {},
   "source": [
    "<div class=\"norm_fa\">\n",
    "اگر تصویری میخواید فکر کنید تمام سطرها رو در نظر بگیرید که به هم نزدیک میشن و فشرده میشن و آخرش میمونه 1 سطر که چند تا ستون داره. اعضای اون یک سطر چی هستن؟ اولین ستون مجموع تمام عناصریه که قبلا در ستون اول و در سطرهای مختلف بودن.\n",
    "</div>"
   ]
  },
  {
   "cell_type": "markdown",
   "metadata": {},
   "source": [
    "<div class=\"norm_fa\">\n",
    "اگر برنامه نویس هستید R[i,j] رو در نظر بگیرید که i اندیس سطرهاست و اول اومده و j اندیس ستونهاست که دوم اومده .اگر ابعاد ماتریس بیشتر باشه کاهش روی اونها رو هم میتونیم در نظر بگیریم. کاهش روی محور صفر (axis = 0)  یعنی یک حلقه روی تمامی مقادیر ممکن برای i در حالی که j (و بقیه اندیسها) ثابت هستند و جمع همه اونها.\n",
    "</div>"
   ]
  },
  {
   "cell_type": "markdown",
   "metadata": {},
   "source": [
    "<div class=\"norm_fa\">\n",
    "اگر هم حوصله ندارید، حفظ کنید که محور 0 از بالا به پایینه و محور 1 از چپ به راست. محور 2 در عمقه و برای ابعاد بالاتر رو هم یه کاریش بکنید.\n",
    "</div>"
   ]
  },
  {
   "cell_type": "code",
   "execution_count": 109,
   "metadata": {},
   "outputs": [
    {
     "data": {
      "text/plain": [
       "array([10, 35, 60, 85])"
      ]
     },
     "execution_count": 109,
     "metadata": {},
     "output_type": "execute_result"
    }
   ],
   "source": [
    "np.sum(R, axis = 1)"
   ]
  },
  {
   "cell_type": "markdown",
   "metadata": {},
   "source": [
    "<div class=\"norm_fa\">\n",
    "axis = 1 ستونها رو کاهش میده و میکنه یک ستون.\n",
    "</div>"
   ]
  },
  {
   "cell_type": "markdown",
   "metadata": {},
   "source": [
    "<div class=\"norm_fa\">\n",
    "چون R یک آرایه numpyه، معمولا میشه این دستورات رو به شکل دیگه ای هم نوشت:\n",
    "</div>"
   ]
  },
  {
   "cell_type": "code",
   "execution_count": 110,
   "metadata": {},
   "outputs": [
    {
     "data": {
      "text/plain": [
       "190"
      ]
     },
     "execution_count": 110,
     "metadata": {},
     "output_type": "execute_result"
    }
   ],
   "source": [
    "R.sum()"
   ]
  },
  {
   "cell_type": "code",
   "execution_count": 111,
   "metadata": {},
   "outputs": [
    {
     "data": {
      "text/plain": [
       "array([30, 34, 38, 42, 46])"
      ]
     },
     "execution_count": 111,
     "metadata": {},
     "output_type": "execute_result"
    }
   ],
   "source": [
    "R.sum(axis = 0)"
   ]
  },
  {
   "cell_type": "markdown",
   "metadata": {},
   "source": [
    "<div class=\"norm_fa\">\n",
    "حالا میریم سراغ کاهشهای دیگه:\n",
    "</div>"
   ]
  },
  {
   "cell_type": "code",
   "execution_count": 112,
   "metadata": {},
   "outputs": [
    {
     "data": {
      "text/plain": [
       "0"
      ]
     },
     "execution_count": 112,
     "metadata": {},
     "output_type": "execute_result"
    }
   ],
   "source": [
    "R.min()#کمینه کل ماتریس"
   ]
  },
  {
   "cell_type": "code",
   "execution_count": 113,
   "metadata": {},
   "outputs": [
    {
     "data": {
      "text/plain": [
       "array([ 0,  5, 10, 15])"
      ]
     },
     "execution_count": 113,
     "metadata": {},
     "output_type": "execute_result"
    }
   ],
   "source": [
    "R.min(axis = 1) # کمینه محور 1. هر ستون کمینه تمام عناصریه که در اون ستون ولی در سطرهای مختلف بودن"
   ]
  },
  {
   "cell_type": "code",
   "execution_count": 114,
   "metadata": {},
   "outputs": [
    {
     "data": {
      "text/plain": [
       "array([15, 16, 17, 18, 19])"
      ]
     },
     "execution_count": 114,
     "metadata": {},
     "output_type": "execute_result"
    }
   ],
   "source": [
    "R.max(axis = 0) # بیشنه محور 0. عمودی"
   ]
  },
  {
   "cell_type": "code",
   "execution_count": 115,
   "metadata": {},
   "outputs": [
    {
     "data": {
      "text/plain": [
       "array([4, 4, 4, 4], dtype=int64)"
      ]
     },
     "execution_count": 115,
     "metadata": {},
     "output_type": "execute_result"
    }
   ],
   "source": [
    "R.argmax(axis = 1) # اندیس عنصر بیشینه. تمام عناصر بیشینه در ستون آخر با اندیس 4 هستند"
   ]
  },
  {
   "cell_type": "code",
   "execution_count": 116,
   "metadata": {},
   "outputs": [
    {
     "data": {
      "text/plain": [
       "array([0, 0, 0, 0, 0], dtype=int64)"
      ]
     },
     "execution_count": 116,
     "metadata": {},
     "output_type": "execute_result"
    }
   ],
   "source": [
    "R.argmin(axis = 0) # اندیس عنصر کمینه در هر محور 0. همگی در سطر اول هستند"
   ]
  },
  {
   "cell_type": "code",
   "execution_count": 117,
   "metadata": {},
   "outputs": [
    {
     "data": {
      "text/plain": [
       "9.5"
      ]
     },
     "execution_count": 117,
     "metadata": {},
     "output_type": "execute_result"
    }
   ],
   "source": [
    "R.mean() # میانگین کل ماتریس"
   ]
  },
  {
   "cell_type": "markdown",
   "metadata": {},
   "source": [
    "<div class=\"norm_fa\">\n",
    "قبلا گفتیم برشهای یک ماتریس خودشون یک ماتریس هستن:\n",
    "</div>"
   ]
  },
  {
   "cell_type": "code",
   "execution_count": 118,
   "metadata": {},
   "outputs": [
    {
     "data": {
      "text/plain": [
       "8.0"
      ]
     },
     "execution_count": 118,
     "metadata": {},
     "output_type": "execute_result"
    }
   ],
   "source": [
    "R[:,:2].mean() #میانگین کل برش تمام سطرهای دو ستون اول"
   ]
  },
  {
   "cell_type": "markdown",
   "metadata": {},
   "source": [
    "<div class=\"norm_fa\">\n",
    "و میشه محورها رو هم اعمال کرد تا قشنگ سردرد بگیریم:\n",
    "</div>"
   ]
  },
  {
   "cell_type": "code",
   "execution_count": 119,
   "metadata": {},
   "outputs": [
    {
     "data": {
      "text/plain": [
       "array([ 2.,  7., 12.])"
      ]
     },
     "execution_count": 119,
     "metadata": {},
     "output_type": "execute_result"
    }
   ],
   "source": [
    "R[:-1,:].mean(axis = 1) #میانگین روی محور 1 برش همه سطرها به جز آخری و همه ستونها"
   ]
  },
  {
   "cell_type": "code",
   "execution_count": 120,
   "metadata": {},
   "outputs": [
    {
     "data": {
      "text/plain": [
       "array([ 2.,  7., 12., 17.])"
      ]
     },
     "execution_count": 120,
     "metadata": {},
     "output_type": "execute_result"
    }
   ],
   "source": [
    "np.median(R, axis = -1) # میانه آخرین محور. در اینجا محور 1"
   ]
  },
  {
   "cell_type": "markdown",
   "metadata": {},
   "source": [
    "<div class=\"norm_fa\">\n",
    "قبلا گفتیم که عدد صفر ومیتونیم جای False و غیرصفر رو جای True استفاده کنیم. همچینین گفتیم که در اندیس گذاری منطقی خروجی یک ماتریس با ابعاد ماتریس اصلیه که به جای عناصری که در شرط صدق میکن True و به جای بقیه False اومده. حالا اگر از ترکیب تابع count_nonzero و اندیس های منطقی استفاده کنیم میتونیم تعداد عناصری از آرایه که در اون شرط صدق کردن رو بشمریم:\n",
    "</div>"
   ]
  },
  {
   "cell_type": "code",
   "execution_count": 121,
   "metadata": {},
   "outputs": [
    {
     "data": {
      "text/plain": [
       "10"
      ]
     },
     "execution_count": 121,
     "metadata": {},
     "output_type": "execute_result"
    }
   ],
   "source": [
    "np.count_nonzero(R < 10)"
   ]
  },
  {
   "cell_type": "code",
   "execution_count": 122,
   "metadata": {},
   "outputs": [
    {
     "data": {
      "text/plain": [
       "array([[False, False, False, False, False],\n",
       "       [False, False, False,  True,  True],\n",
       "       [ True,  True,  True,  True,  True],\n",
       "       [ True,  True,  True,  True,  True]])"
      ]
     },
     "execution_count": 122,
     "metadata": {},
     "output_type": "execute_result"
    }
   ],
   "source": [
    "R > 7"
   ]
  },
  {
   "cell_type": "code",
   "execution_count": 149,
   "metadata": {},
   "outputs": [
    {
     "data": {
      "text/plain": [
       "array([0, 2, 5, 5], dtype=int64)"
      ]
     },
     "execution_count": 149,
     "metadata": {},
     "output_type": "execute_result"
    }
   ],
   "source": [
    "np.count_nonzero(R > 7, axis = 1)"
   ]
  },
  {
   "cell_type": "markdown",
   "metadata": {},
   "source": [
    "<div class=\"titr_fa\">\n",
    "8- تغییر ابعاد آرایه ها\n",
    "</div>"
   ]
  },
  {
   "cell_type": "markdown",
   "metadata": {},
   "source": [
    "<div class=\"norm_fa\">\n",
    "اگر بخواهیم یک آرایه چند بعدی رو تخت کنیم، یعنی به یک ماتریس یک بعدی تبدیل کنیم از تابع flatten استفاده میکنیم:\n",
    "</div>"
   ]
  },
  {
   "cell_type": "code",
   "execution_count": 129,
   "metadata": {},
   "outputs": [
    {
     "data": {
      "text/plain": [
       "array([ 0,  1,  2,  3,  4,  5,  6,  7,  8,  9, 10, 11, 12, 13, 14, 15, 16,\n",
       "       17, 18, 19])"
      ]
     },
     "execution_count": 129,
     "metadata": {},
     "output_type": "execute_result"
    }
   ],
   "source": [
    "S = R.flatten() # سطرها را پشت سر هم ردیف کرده و یک ماتریس یک بعدی میسازد\n",
    "S"
   ]
  },
  {
   "cell_type": "markdown",
   "metadata": {},
   "source": [
    "<div class=\"norm_fa\">\n",
    "اگر آرایه دارای ابعاد بیشتری باشد، ابعاد از انتها به ابتدا تخت میشوند. معکوس این تابع reshapeه :\n",
    "</div>"
   ]
  },
  {
   "cell_type": "code",
   "execution_count": 130,
   "metadata": {},
   "outputs": [
    {
     "data": {
      "text/plain": [
       "array([[ 0,  1,  2,  3,  4,  5,  6,  7,  8,  9],\n",
       "       [10, 11, 12, 13, 14, 15, 16, 17, 18, 19]])"
      ]
     },
     "execution_count": 130,
     "metadata": {},
     "output_type": "execute_result"
    }
   ],
   "source": [
    "S.reshape((2,10))"
   ]
  },
  {
   "cell_type": "markdown",
   "metadata": {},
   "source": [
    "<div class=\"norm_fa\">\n",
    "اگر تعداد یکی از ابعاد رو حوصله ندارید محاسبه کنید، میتونید جاش 1- بگذارید تا خود numpy براتون مقدارش رو استنتاج کنه. مثلا میدونیم آرایه رو 5 سطری میخواهیم:\n",
    "</div>"
   ]
  },
  {
   "cell_type": "code",
   "execution_count": 131,
   "metadata": {},
   "outputs": [
    {
     "data": {
      "text/plain": [
       "array([[ 0,  1,  2,  3],\n",
       "       [ 4,  5,  6,  7],\n",
       "       [ 8,  9, 10, 11],\n",
       "       [12, 13, 14, 15],\n",
       "       [16, 17, 18, 19]])"
      ]
     },
     "execution_count": 131,
     "metadata": {},
     "output_type": "execute_result"
    }
   ],
   "source": [
    "S.reshape((5,-1))"
   ]
  },
  {
   "cell_type": "markdown",
   "metadata": {},
   "source": [
    "<div class=\"norm_fa\">\n",
    "اگر بخواهیم به یک ماتریس یک بعد اضافه کنیم میتونیم از np.newaxis به این شکل استفاده کنیم:\n",
    "</div>"
   ]
  },
  {
   "cell_type": "code",
   "execution_count": 132,
   "metadata": {},
   "outputs": [
    {
     "name": "stdout",
     "output_type": "stream",
     "text": [
      "(20,)\n",
      "(20, 1)\n"
     ]
    }
   ],
   "source": [
    "Q = S[:, np.newaxis]\n",
    "print(S.shape)\n",
    "print(Q.shape)"
   ]
  },
  {
   "cell_type": "code",
   "execution_count": 133,
   "metadata": {},
   "outputs": [
    {
     "data": {
      "text/plain": [
       "(20, 1, 1)"
      ]
     },
     "execution_count": 133,
     "metadata": {},
     "output_type": "execute_result"
    }
   ],
   "source": [
    "Q[:, np.newaxis].shape"
   ]
  },
  {
   "cell_type": "markdown",
   "metadata": {},
   "source": [
    "<div class=\"norm_fa\">\n",
    "برای چسبوندن دو ماتریس به هم از توابع vstackو hstack میتونیم استفاده کنیم. این توابع همه ماتریس هایی روی که میخواهیم به هم بچسبونیم رو از ما میگیرن و به ترتیب به صورت عمودی و افقی به هم میچسبونند :\n",
    "</div>"
   ]
  },
  {
   "cell_type": "code",
   "execution_count": 143,
   "metadata": {},
   "outputs": [
    {
     "name": "stdout",
     "output_type": "stream",
     "text": [
      "a = \n",
      "[0 1 2 3]\n",
      "c = \n",
      "[[0 1 2 3]\n",
      " [4 5 6 7]]\n"
     ]
    }
   ],
   "source": [
    "print('a = ')\n",
    "print(a)\n",
    "print('c = ')\n",
    "print(c)"
   ]
  },
  {
   "cell_type": "code",
   "execution_count": 141,
   "metadata": {},
   "outputs": [
    {
     "data": {
      "text/plain": [
       "array([[0, 1, 2, 3],\n",
       "       [0, 1, 2, 3],\n",
       "       [4, 5, 6, 7]])"
      ]
     },
     "execution_count": 141,
     "metadata": {},
     "output_type": "execute_result"
    }
   ],
   "source": [
    "np.vstack((a, c)) # ماتریس ها به ترتیبی که ذکر شدن زیرهمدیگه آورده میشن و به هم میچسبن"
   ]
  },
  {
   "cell_type": "code",
   "execution_count": 144,
   "metadata": {},
   "outputs": [
    {
     "data": {
      "text/plain": [
       "array([[0, 1, 2, 3],\n",
       "       [4, 5, 6, 7],\n",
       "       [0, 1, 2, 3]])"
      ]
     },
     "execution_count": 144,
     "metadata": {},
     "output_type": "execute_result"
    }
   ],
   "source": [
    "np.vstack((c, a))"
   ]
  },
  {
   "cell_type": "code",
   "execution_count": 145,
   "metadata": {},
   "outputs": [
    {
     "data": {
      "text/plain": [
       "array([ 0,  1,  2,  3,  4,  5,  6,  7,  8,  9, 10, 11, 12, 13, 14, 15, 16,\n",
       "       17, 18, 19,  0,  1,  2,  3])"
      ]
     },
     "execution_count": 145,
     "metadata": {},
     "output_type": "execute_result"
    }
   ],
   "source": [
    "np.hstack((S,a)) # کنار همدیگه میچسبن"
   ]
  },
  {
   "cell_type": "code",
   "execution_count": 146,
   "metadata": {},
   "outputs": [
    {
     "data": {
      "text/plain": [
       "array([[0, 1, 2, 3, 0, 1, 2, 3],\n",
       "       [4, 5, 6, 7, 4, 5, 6, 7]])"
      ]
     },
     "execution_count": 146,
     "metadata": {},
     "output_type": "execute_result"
    }
   ],
   "source": [
    "np.hstack((c,c))"
   ]
  },
  {
   "cell_type": "code",
   "execution_count": 217,
   "metadata": {},
   "outputs": [
    {
     "data": {
      "text/plain": [
       "array([ 0,  1,  2,  3,  4,  5,  6,  7,  8,  9, 10, 11, 12, 13, 14, 15, 16,\n",
       "       17, 18, 19,  0,  1,  2,  3,  4,  5,  6,  7,  8,  9])"
      ]
     },
     "execution_count": 217,
     "metadata": {},
     "output_type": "execute_result"
    }
   ],
   "source": [
    "np.resize(S,30) #تغییر اندازه ماتریس . عناصری که از قبل موجود نبودند با عناصر قبلی پر میشن"
   ]
  },
  {
   "cell_type": "code",
   "execution_count": 220,
   "metadata": {},
   "outputs": [
    {
     "data": {
      "text/plain": [
       "array([[0, 1, 2, 3, 4, 5, 6, 7],\n",
       "       [0, 1, 2, 3, 4, 5, 6, 7],\n",
       "       [0, 1, 2, 3, 4, 5, 6, 7],\n",
       "       [0, 1, 2, 3, 4, 5, 6, 7],\n",
       "       [0, 1, 2, 3, 4, 5, 6, 7],\n",
       "       [0, 1, 2, 3, 4, 5, 6, 7],\n",
       "       [0, 1, 2, 3, 4, 5, 6, 7],\n",
       "       [0, 1, 2, 3, 4, 5, 6, 7]])"
      ]
     },
     "execution_count": 220,
     "metadata": {},
     "output_type": "execute_result"
    }
   ],
   "source": [
    "np.resize(c, (8,8))"
   ]
  },
  {
   "cell_type": "markdown",
   "metadata": {},
   "source": [
    "<div class=\"titr_fa\">\n",
    "9 - سایر توابع مهم\n",
    "</div>"
   ]
  },
  {
   "cell_type": "code",
   "execution_count": 165,
   "metadata": {},
   "outputs": [
    {
     "data": {
      "text/plain": [
       "array([[15,  4,  3, 19,  7],\n",
       "       [14,  8, 14, 10,  8],\n",
       "       [ 7,  6,  4, 16,  7],\n",
       "       [12,  0, 11,  6, 19],\n",
       "       [12,  5, 16,  0,  2]])"
      ]
     },
     "execution_count": 165,
     "metadata": {},
     "output_type": "execute_result"
    }
   ],
   "source": [
    "np.random.seed(7)\n",
    "t = np.random.randint(0, 20, (5,5))\n",
    "t"
   ]
  },
  {
   "cell_type": "code",
   "execution_count": 166,
   "metadata": {},
   "outputs": [
    {
     "data": {
      "text/plain": [
       "array([[ 7,  0,  3,  0,  2],\n",
       "       [12,  4,  4,  6,  7],\n",
       "       [12,  5, 11, 10,  7],\n",
       "       [14,  6, 14, 16,  8],\n",
       "       [15,  8, 16, 19, 19]])"
      ]
     },
     "execution_count": 166,
     "metadata": {},
     "output_type": "execute_result"
    }
   ],
   "source": [
    "t.sort(axis = 0) # مرتب سازی هر ستون به صورت مجزا. \n",
    "t"
   ]
  },
  {
   "cell_type": "code",
   "execution_count": 167,
   "metadata": {},
   "outputs": [
    {
     "data": {
      "text/plain": [
       "array([[ 0,  0,  2,  3,  7],\n",
       "       [ 4,  4,  6,  7, 12],\n",
       "       [ 5,  7, 10, 11, 12],\n",
       "       [ 6,  8, 14, 14, 16],\n",
       "       [ 8, 15, 16, 19, 19]])"
      ]
     },
     "execution_count": 167,
     "metadata": {},
     "output_type": "execute_result"
    }
   ],
   "source": [
    "t.sort(axis = 1) # مرتب سازی هر سطر به صورت مجزا\n",
    "t"
   ]
  },
  {
   "cell_type": "code",
   "execution_count": 176,
   "metadata": {},
   "outputs": [
    {
     "data": {
      "text/plain": [
       "array([ 0.,  1., -0., -1.,  2., -2.,  2., -2.])"
      ]
     },
     "execution_count": 176,
     "metadata": {},
     "output_type": "execute_result"
    }
   ],
   "source": [
    "np.around([0.1, 0.7, -0.1, -0.7, 1.7, -1.7, 2.1, -2.1]) #  روند کردن به سمت نزدیک ترین عدد صحیح"
   ]
  },
  {
   "cell_type": "code",
   "execution_count": 177,
   "metadata": {},
   "outputs": [
    {
     "data": {
      "text/plain": [
       "array([ 1.,  1., -0., -0.,  2., -1.,  3., -2.])"
      ]
     },
     "execution_count": 177,
     "metadata": {},
     "output_type": "execute_result"
    }
   ],
   "source": [
    "np.ceil([0.1, 0.7, -0.1, -0.7, 1.7, -1.7, 2.1, -2.1]) #  روند کردن به سمت مثبت بینهایت(سقف)"
   ]
  },
  {
   "cell_type": "code",
   "execution_count": 178,
   "metadata": {},
   "outputs": [
    {
     "data": {
      "text/plain": [
       "array([ 0.,  0., -1., -1.,  1., -2.,  2., -3.])"
      ]
     },
     "execution_count": 178,
     "metadata": {},
     "output_type": "execute_result"
    }
   ],
   "source": [
    "np.floor([0.1, 0.7, -0.1, -0.7, 1.7, -1.7, 2.1, -2.1]) #  روند کردن به سمت منفی بینهایت(کف)"
   ]
  },
  {
   "cell_type": "code",
   "execution_count": 179,
   "metadata": {},
   "outputs": [
    {
     "data": {
      "text/plain": [
       "array([ 0.,  0., -0., -0.,  1., -1.,  2., -2.])"
      ]
     },
     "execution_count": 179,
     "metadata": {},
     "output_type": "execute_result"
    }
   ],
   "source": [
    "np.fix([0.1, 0.7, -0.1, -0.7, 1.7, -1.7, 2.1, -2.1]) # (جزء صحیح) روند کردن به سمت صفر"
   ]
  },
  {
   "cell_type": "code",
   "execution_count": 183,
   "metadata": {},
   "outputs": [
    {
     "name": "stdout",
     "output_type": "stream",
     "text": [
      "[ 0  1  2  3  4  5  6  7  8  9 10 11 12 13 14 15 16 17 18 19]\n",
      "[  0   1   3   6  10  15  21  28  36  45  55  66  78  91 105 120 136 153\n",
      " 171 190]\n"
     ]
    }
   ],
   "source": [
    "print(S)\n",
    "print(np.cumsum(S)) #  هر عنصر مجموع تمام عناصر قبلی بعلاوه همان عنصر"
   ]
  },
  {
   "cell_type": "code",
   "execution_count": 184,
   "metadata": {},
   "outputs": [
    {
     "data": {
      "text/plain": [
       "array([[ 0,  0,  2,  3,  7],\n",
       "       [ 4,  4,  8, 10, 19],\n",
       "       [ 9, 11, 18, 21, 31],\n",
       "       [15, 19, 32, 35, 47],\n",
       "       [23, 34, 48, 54, 66]], dtype=int32)"
      ]
     },
     "execution_count": 184,
     "metadata": {},
     "output_type": "execute_result"
    }
   ],
   "source": [
    "np.cumsum(t, axis = 0)"
   ]
  },
  {
   "cell_type": "code",
   "execution_count": 191,
   "metadata": {},
   "outputs": [
    {
     "data": {
      "text/plain": [
       "array([ 1,  2,  3, -7,  5, -7])"
      ]
     },
     "execution_count": 191,
     "metadata": {},
     "output_type": "execute_result"
    }
   ],
   "source": [
    "np.diff([1,2,4,7,0,5,-2]) # تفاضل هر عنصر با عنصر قبلی. عنصر اول در نظر گرفته نمیشود"
   ]
  },
  {
   "cell_type": "code",
   "execution_count": 225,
   "metadata": {},
   "outputs": [
    {
     "data": {
      "text/plain": [
       "array([ 0.52393458+0.j        ,  0.51866465+0.13808341j,\n",
       "        0.50087511+0.29015025j,  0.46277537+0.47705368j,\n",
       "        0.38142755+0.74273557j,  0.17307063+1.22188196j,\n",
       "       -0.75695611+2.76524937j,  5.21756757-4.86596333j,\n",
       "        2.48121588+0.j        ,  5.21756757+4.86596333j,\n",
       "       -0.75695611-2.76524937j,  0.17307063-1.22188196j,\n",
       "        0.38142755-0.74273557j,  0.46277537-0.47705368j,\n",
       "        0.50087511-0.29015025j,  0.51866465-0.13808341j])"
      ]
     },
     "execution_count": 225,
     "metadata": {},
     "output_type": "execute_result"
    }
   ],
   "source": [
    "u = np.fft.fft(np.cos(2*np.pi*np.linspace(0,2*np.pi,16))) # fft(cos(2pi*x)), x = [0, pi/8, pi/4, ..., 2pi]\n",
    "u"
   ]
  },
  {
   "cell_type": "markdown",
   "metadata": {},
   "source": [
    "<div class=\"norm_fa\">\n",
    "    برای دیدن fft خانوادش به <a href=\"https://docs.scipy.org/doc/numpy/reference/routines.fft.html\">این لینک</a> رجوع کنید. \n",
    "</div>"
   ]
  },
  {
   "cell_type": "code",
   "execution_count": 206,
   "metadata": {},
   "outputs": [
    {
     "data": {
      "text/plain": [
       "(array([6, 4, 4, 1, 2], dtype=int64), array([1. , 2.4, 3.8, 5.2, 6.6, 8. ]))"
      ]
     },
     "execution_count": 206,
     "metadata": {},
     "output_type": "execute_result"
    }
   ],
   "source": [
    "np.histogram([1,2,5,1,3,4,5,7,6,8,3,1,2,2,5,3,3], bins = 5) # هیستوگرام 5 با 5 بین"
   ]
  },
  {
   "cell_type": "markdown",
   "metadata": {},
   "source": [
    "<div class=\"norm_fa\">\n",
    "هیستوگرام دو ماتریس بر میگردونه. اولیش تعداد عناصر در هر بینه. ماتریس دوم ابتدا و انتهای هر بین رو مشخص میکنه. در مثال بالا 6 عدد بین 1 تا 2.4، 4 عدد بین 2.4 تا 3.8، 4 عدد بین 3.8 تا 5.2 و ... هستند. \n",
    "</div>"
   ]
  },
  {
   "cell_type": "code",
   "execution_count": 208,
   "metadata": {},
   "outputs": [
    {
     "data": {
      "text/plain": [
       "array([ 0.5,  1.5,  2.5,  3. ,  2.5,  1.5,  0. , -1.5, -3.5, -6. , -6.5,\n",
       "       -3. ])"
      ]
     },
     "execution_count": 208,
     "metadata": {},
     "output_type": "execute_result"
    }
   ],
   "source": [
    "np.convolve([1,2,3,3,2,1,-1,-2,-5,-7,-6], [0.5, 0.5]) # کانولوشن دو آرایه با هم. محاسبه میانگین متحرک 2 تایی آرایه اول"
   ]
  },
  {
   "cell_type": "markdown",
   "metadata": {},
   "source": [
    "<div class=\"titr_fa\">\n",
    "10- ذخیره و بارگذاری فایل\n",
    "</div>"
   ]
  },
  {
   "cell_type": "code",
   "execution_count": 226,
   "metadata": {},
   "outputs": [],
   "source": [
    "np.save('fftresult.npy', u); # ذخیره ماتریس در فایل"
   ]
  },
  {
   "cell_type": "code",
   "execution_count": 227,
   "metadata": {},
   "outputs": [
    {
     "data": {
      "text/plain": [
       "array([0.+0.j, 0.+0.j, 0.+0.j, 0.+0.j, 0.+0.j, 0.+0.j, 0.+0.j, 0.+0.j,\n",
       "       0.+0.j, 0.+0.j, 0.+0.j, 0.+0.j, 0.+0.j, 0.+0.j, 0.+0.j, 0.+0.j])"
      ]
     },
     "execution_count": 227,
     "metadata": {},
     "output_type": "execute_result"
    }
   ],
   "source": [
    "v = np.load('fftresult.npy') # بارگذاری فایل در یک ماتریس جدید\n",
    "u - v # آیا ماتریس ذخیره شده با ماتریس بارگذاری شده برابر است"
   ]
  },
  {
   "cell_type": "markdown",
   "metadata": {},
   "source": [
    "<div class=\"norm_fa\">\n",
    "برای ذخیره و بارگذاری فایلهای نرم افزار MATLAB از کتابخانه scipy.io و تابع savemat و loadmat میتونیم استفاده کنیم. برای خواندن فایلهای CSV (Commad Seperated Values) نامپای یک تابع به نام loadtxt داره که البته فایل فقط باید شامل عدد باشه و کاراکترهای متنی براش مشکل ایجاد میکنن. برای اینکار در مطالب بعدی کتابخونه pandas رو معرفی میکنیم که روی numpy بنا شده و عملیات ممکن در اون رو برای کار روی داده ها و خصوصا جدولهای داده گسترش میده و امکاناتی شبیه به SQL در اختیار ما قرار میده.\n",
    "</div>"
   ]
  },
  {
   "cell_type": "code",
   "execution_count": null,
   "metadata": {},
   "outputs": [],
   "source": []
  }
 ],
 "metadata": {
  "kernelspec": {
   "display_name": "Python 3",
   "language": "python",
   "name": "python3"
  },
  "language_info": {
   "codemirror_mode": {
    "name": "ipython",
    "version": 3
   },
   "file_extension": ".py",
   "mimetype": "text/x-python",
   "name": "python",
   "nbconvert_exporter": "python",
   "pygments_lexer": "ipython3",
   "version": "3.6.8"
  }
 },
 "nbformat": 4,
 "nbformat_minor": 4
}
