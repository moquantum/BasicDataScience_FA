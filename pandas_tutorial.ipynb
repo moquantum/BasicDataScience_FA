{
 "cells": [
  {
   "cell_type": "code",
   "execution_count": 1,
   "metadata": {},
   "outputs": [
    {
     "data": {
      "text/html": [
       "<style>div.titr_fa { direction:rtl;padding: 0.5em;font-family:B Titr; font-size: 14pt;}div.norm_fa { direction:rtl;text-align: justify;text-justify: inter-word;font-family:B Nazanin; font-size: 14pt;}div.warn_fa { direction:rtl;background-color: #fcf2f2;border-color: #dFb5b4; border-left: 5px solid #dfb5b4; padding: 0.5em;text-align: justify;text-justify: inter-word;font-family:B Nazanin; font-size: 14pt;}</style>"
      ],
      "text/plain": [
       "<IPython.core.display.HTML object>"
      ]
     },
     "execution_count": 1,
     "metadata": {},
     "output_type": "execute_result"
    }
   ],
   "source": [
    "#این سلول استایل های لازم برای نمایش مناسب این دفترچه را ایجاد میکند. لطفا محنویات آن را تغییر ندهید\n",
    "#اگر متن برای شما کوچک یا بزرگ است این پارامتر را تغییر دهید : font-size\n",
    "from IPython.display import HTML\n",
    "titr_fa = \"div.titr_fa { direction:rtl;padding: 0.5em;font-family:B Titr; font-size: 14pt;}\"\n",
    "norm_fa = \"div.norm_fa { direction:rtl;text-align: justify;text-justify: inter-word;font-family:B Nazanin; font-size: 14pt;}\"\n",
    "warn_fa = \"div.warn_fa { direction:rtl;background-color: #fcf2f2;border-color: #dFb5b4; border-left: 5px solid #dfb5b4; padding: 0.5em;text-align: justify;text-justify: inter-word;font-family:B Nazanin; font-size: 14pt;}\"\n",
    "style = \"<style>\" + titr_fa + norm_fa + warn_fa + \"</style>\"\n",
    "HTML(style)"
   ]
  },
  {
   "cell_type": "markdown",
   "metadata": {},
   "source": [
    "<div class = \"norm_fa\">\n",
    "وقتی نامپای مواد نیروزا تزریق کنه تبدیل میشه به پانداس. این کتابخونه روی نامپای بنا شده و برای کار با داده ها امکانات بسیار مفیدی بهش اضافه میکنه مثل امکاناتی برای تمیز کردن داده ها، کار با فایل ها با فرمتهای متنوع مثل CSV با Excel، گزارش گیری و ادغام چند منبع داده شبیه SQL، و رسم نمودار با استفاده از کتابخانه matplotlib. این کتابخونه امکانات SQL، Excel و زبان برنامه نویسی R که برای کارهای  آماری خیلی محبوبه رو به پایتون اضافه می‌کنه. من برای نوشتن این مطلب از دوره Python for Data Science and Machine Learning Bootcamp از Udemy خیلی استفاده کردم.\n",
    "</div>"
   ]
  },
  {
   "cell_type": "code",
   "execution_count": 9,
   "metadata": {},
   "outputs": [],
   "source": [
    "import numpy as np\n",
    "import pandas as pd\n",
    "import matplotlib.pyplot as plt"
   ]
  },
  {
   "cell_type": "markdown",
   "metadata": {},
   "source": [
    "<div class = \"norm_fa\">\n",
    "سری ها پایه ای ترین نوع داده در پانداس هستند. آنها همانند آرایه های نامپای هستند که علاوه بر اندیس عددی، قابلیت اندیس شدن با تاریخ ها و حروف رو هم دارند.  \n",
    "</div>"
   ]
  },
  {
   "cell_type": "code",
   "execution_count": 3,
   "metadata": {},
   "outputs": [],
   "source": [
    "labels = ['a', 'b', 'c']\n",
    "nums = [10, 20, 30]\n",
    "nparr = np.array([40, 50, 60])\n",
    "d = {'d':70, 'e':80, 'f':90}"
   ]
  },
  {
   "cell_type": "markdown",
   "metadata": {},
   "source": [
    "<div class = \"norm_fa\">\n",
    "برای ساختن یک سری از تابع Series استفاده می کنیم:\n",
    "</div>"
   ]
  },
  {
   "cell_type": "code",
   "execution_count": 4,
   "metadata": {},
   "outputs": [
    {
     "data": {
      "text/plain": [
       "0    10\n",
       "1    20\n",
       "2    30\n",
       "dtype: int64"
      ]
     },
     "execution_count": 4,
     "metadata": {},
     "output_type": "execute_result"
    }
   ],
   "source": [
    "s1 = pd.Series(nums)#با استفاده از یک لیست. در این صورت اندیس به طور اتوماتیک و به صورت عددی توسط پانداس تنظیم میشود\n",
    "s1"
   ]
  },
  {
   "cell_type": "code",
   "execution_count": 5,
   "metadata": {},
   "outputs": [
    {
     "data": {
      "text/plain": [
       "a    10\n",
       "b    20\n",
       "c    30\n",
       "dtype: int64"
      ]
     },
     "execution_count": 5,
     "metadata": {},
     "output_type": "execute_result"
    }
   ],
   "source": [
    "s2 = pd.Series(nums, labels)#اگر پارامتر دوم که لیبل داده ها هستند را وارد کنیم،آنها به جای اندیس اتوماتیک تنظیم میشوند\n",
    "s2"
   ]
  },
  {
   "cell_type": "code",
   "execution_count": 7,
   "metadata": {},
   "outputs": [
    {
     "data": {
      "text/plain": [
       "d    70\n",
       "e    80\n",
       "f    90\n",
       "dtype: int64"
      ]
     },
     "execution_count": 7,
     "metadata": {},
     "output_type": "execute_result"
    }
   ],
   "source": [
    "s3 = pd.Series(d)#سری ها در پانداس شبیه یک دیکشتری هوشمند هستند.\n",
    "s3"
   ]
  },
  {
   "cell_type": "code",
   "execution_count": 8,
   "metadata": {},
   "outputs": [
    {
     "name": "stdout",
     "output_type": "stream",
     "text": [
      "70 90\n"
     ]
    }
   ],
   "source": [
    "print(s3['d'], s3[2])#اگر لیبلها عدد نباشند، دسترسی به عناصر سری هم با استفاده از اندیس عددی و هم لیبل آنها ممکن است"
   ]
  },
  {
   "cell_type": "code",
   "execution_count": 7,
   "metadata": {},
   "outputs": [
    {
     "data": {
      "text/plain": [
       "40    a\n",
       "50    b\n",
       "60    c\n",
       "dtype: object"
      ]
     },
     "execution_count": 7,
     "metadata": {},
     "output_type": "execute_result"
    }
   ],
   "source": [
    "s5 = pd.Series(labels, nparr)\n",
    "s5"
   ]
  },
  {
   "cell_type": "code",
   "execution_count": 10,
   "metadata": {},
   "outputs": [
    {
     "name": "stdout",
     "output_type": "stream",
     "text": [
      "a\n"
     ]
    }
   ],
   "source": [
    "print(s5[40])#اگر لیبل ها عدد باشند دیگر امکان استفاده از اندیس عددی شروع از صفر را نخواهیم داشت \n",
    "#print(s5[0])# خطا تولید میکند"
   ]
  },
  {
   "cell_type": "markdown",
   "metadata": {},
   "source": [
    "<div class = \"norm_fa\">\n",
    "حتی توابع پایتون رو هم میتونیم داخل یک سری اندیس کنیم:\n",
    "</div>"
   ]
  },
  {
   "cell_type": "code",
   "execution_count": 11,
   "metadata": {},
   "outputs": [
    {
     "data": {
      "text/plain": [
       "12"
      ]
     },
     "execution_count": 11,
     "metadata": {},
     "output_type": "execute_result"
    }
   ],
   "source": [
    "s6 = pd.Series([len, print, sum])\n",
    "s6[0]('Hello World!') #len('Hello World!')"
   ]
  },
  {
   "cell_type": "markdown",
   "metadata": {},
   "source": [
    "<div class = \"norm_fa\">\n",
    "می‌تونیم اعمال ریاضی رو روی سری ها اعمال کنیم. ولی باید توجه داشته باشیم که اندیس‌های مشترک با هم تعامل می‌کنن و اگر یک اندیس(برچسب) دارای مقدار نباشه، نتیجه اون عمل NaN خواهد بود.\n",
    "</div>"
   ]
  },
  {
   "cell_type": "code",
   "execution_count": 12,
   "metadata": {},
   "outputs": [
    {
     "data": {
      "text/plain": [
       "China      NaN\n",
       "France    26.0\n",
       "Iran       NaN\n",
       "Italy      NaN\n",
       "Spain      NaN\n",
       "USA       20.0\n",
       "dtype: float64"
      ]
     },
     "execution_count": 12,
     "metadata": {},
     "output_type": "execute_result"
    }
   ],
   "source": [
    "c1 = pd.Series([12, 15, 17, 19], ['Iran', 'USA', 'France', 'Spain'])\n",
    "c2 = pd.Series([2, 5, 3, 9], ['China', 'USA', 'Italy', 'France'])\n",
    "c1 + c2# فقط برچسب های فرانسه و آمریکا مشترک هستند"
   ]
  },
  {
   "cell_type": "markdown",
   "metadata": {},
   "source": [
    "<div class = \"norm_fa\">\n",
    "قدرت اصلی کتابخانه pandas از نوع داده DataFrame ناشی میشه که بر مبنای سری ها استواره و یک نوع داده برای نگهداری، دستکاری و اندیس گذاری جدولی اعداده.\n",
    "</div>"
   ]
  },
  {
   "cell_type": "code",
   "execution_count": 15,
   "metadata": {},
   "outputs": [],
   "source": [
    "df1 = pd.DataFrame(np.random.rand(5,4))"
   ]
  },
  {
   "cell_type": "code",
   "execution_count": 16,
   "metadata": {},
   "outputs": [
    {
     "data": {
      "text/html": [
       "<div>\n",
       "<style scoped>\n",
       "    .dataframe tbody tr th:only-of-type {\n",
       "        vertical-align: middle;\n",
       "    }\n",
       "\n",
       "    .dataframe tbody tr th {\n",
       "        vertical-align: top;\n",
       "    }\n",
       "\n",
       "    .dataframe thead th {\n",
       "        text-align: right;\n",
       "    }\n",
       "</style>\n",
       "<table border=\"1\" class=\"dataframe\">\n",
       "  <thead>\n",
       "    <tr style=\"text-align: right;\">\n",
       "      <th></th>\n",
       "      <th>0</th>\n",
       "      <th>1</th>\n",
       "      <th>2</th>\n",
       "      <th>3</th>\n",
       "    </tr>\n",
       "  </thead>\n",
       "  <tbody>\n",
       "    <tr>\n",
       "      <th>0</th>\n",
       "      <td>0.721192</td>\n",
       "      <td>0.556823</td>\n",
       "      <td>0.303674</td>\n",
       "      <td>0.003777</td>\n",
       "    </tr>\n",
       "    <tr>\n",
       "      <th>1</th>\n",
       "      <td>0.632387</td>\n",
       "      <td>0.378516</td>\n",
       "      <td>0.468081</td>\n",
       "      <td>0.308781</td>\n",
       "    </tr>\n",
       "    <tr>\n",
       "      <th>2</th>\n",
       "      <td>0.779440</td>\n",
       "      <td>0.905211</td>\n",
       "      <td>0.880002</td>\n",
       "      <td>0.282040</td>\n",
       "    </tr>\n",
       "    <tr>\n",
       "      <th>3</th>\n",
       "      <td>0.257427</td>\n",
       "      <td>0.890877</td>\n",
       "      <td>0.122479</td>\n",
       "      <td>0.923550</td>\n",
       "    </tr>\n",
       "    <tr>\n",
       "      <th>4</th>\n",
       "      <td>0.463797</td>\n",
       "      <td>0.311494</td>\n",
       "      <td>0.689725</td>\n",
       "      <td>0.771628</td>\n",
       "    </tr>\n",
       "  </tbody>\n",
       "</table>\n",
       "</div>"
      ],
      "text/plain": [
       "          0         1         2         3\n",
       "0  0.721192  0.556823  0.303674  0.003777\n",
       "1  0.632387  0.378516  0.468081  0.308781\n",
       "2  0.779440  0.905211  0.880002  0.282040\n",
       "3  0.257427  0.890877  0.122479  0.923550\n",
       "4  0.463797  0.311494  0.689725  0.771628"
      ]
     },
     "execution_count": 16,
     "metadata": {},
     "output_type": "execute_result"
    }
   ],
   "source": [
    "df1"
   ]
  },
  {
   "cell_type": "code",
   "execution_count": 17,
   "metadata": {},
   "outputs": [
    {
     "data": {
      "text/plain": [
       "(5, 4)"
      ]
     },
     "execution_count": 17,
     "metadata": {},
     "output_type": "execute_result"
    }
   ],
   "source": [
    "df1.shape#همانند نامپای به توابع و فیلدهای یک آرایه نامپای دسترسی داریم"
   ]
  },
  {
   "cell_type": "code",
   "execution_count": 18,
   "metadata": {},
   "outputs": [
    {
     "data": {
      "text/plain": [
       "0    0.721192\n",
       "1    0.632387\n",
       "2    0.779440\n",
       "3    0.257427\n",
       "4    0.463797\n",
       "Name: 0, dtype: float64"
      ]
     },
     "execution_count": 18,
     "metadata": {},
     "output_type": "execute_result"
    }
   ],
   "source": [
    "df1[0] #هر سطر و هرستون یک سری است. عملگر [] یک ستون باز میگرداند"
   ]
  },
  {
   "cell_type": "code",
   "execution_count": 19,
   "metadata": {},
   "outputs": [
    {
     "data": {
      "text/html": [
       "<div>\n",
       "<style scoped>\n",
       "    .dataframe tbody tr th:only-of-type {\n",
       "        vertical-align: middle;\n",
       "    }\n",
       "\n",
       "    .dataframe tbody tr th {\n",
       "        vertical-align: top;\n",
       "    }\n",
       "\n",
       "    .dataframe thead th {\n",
       "        text-align: right;\n",
       "    }\n",
       "</style>\n",
       "<table border=\"1\" class=\"dataframe\">\n",
       "  <thead>\n",
       "    <tr style=\"text-align: right;\">\n",
       "      <th></th>\n",
       "      <th>W</th>\n",
       "      <th>X</th>\n",
       "      <th>Y</th>\n",
       "      <th>Z</th>\n",
       "    </tr>\n",
       "  </thead>\n",
       "  <tbody>\n",
       "    <tr>\n",
       "      <th>A</th>\n",
       "      <td>0.166587</td>\n",
       "      <td>0.715351</td>\n",
       "      <td>0.217076</td>\n",
       "      <td>0.126516</td>\n",
       "    </tr>\n",
       "    <tr>\n",
       "      <th>B</th>\n",
       "      <td>0.252823</td>\n",
       "      <td>0.962057</td>\n",
       "      <td>0.883406</td>\n",
       "      <td>0.350414</td>\n",
       "    </tr>\n",
       "    <tr>\n",
       "      <th>C</th>\n",
       "      <td>0.939095</td>\n",
       "      <td>0.192483</td>\n",
       "      <td>0.324259</td>\n",
       "      <td>0.506747</td>\n",
       "    </tr>\n",
       "    <tr>\n",
       "      <th>D</th>\n",
       "      <td>0.267942</td>\n",
       "      <td>0.590729</td>\n",
       "      <td>0.987100</td>\n",
       "      <td>0.601688</td>\n",
       "    </tr>\n",
       "    <tr>\n",
       "      <th>E</th>\n",
       "      <td>0.782995</td>\n",
       "      <td>0.617953</td>\n",
       "      <td>0.624435</td>\n",
       "      <td>0.086049</td>\n",
       "    </tr>\n",
       "  </tbody>\n",
       "</table>\n",
       "</div>"
      ],
      "text/plain": [
       "          W         X         Y         Z\n",
       "A  0.166587  0.715351  0.217076  0.126516\n",
       "B  0.252823  0.962057  0.883406  0.350414\n",
       "C  0.939095  0.192483  0.324259  0.506747\n",
       "D  0.267942  0.590729  0.987100  0.601688\n",
       "E  0.782995  0.617953  0.624435  0.086049"
      ]
     },
     "execution_count": 19,
     "metadata": {},
     "output_type": "execute_result"
    }
   ],
   "source": [
    "#هنگام تعریف یک فریم اندیسها و ستونها قابل تنظیم هستند\n",
    "df2 = pd.DataFrame(np.random.rand(5,4), index = ['A', 'B', 'C', 'D', 'E'], columns = ['W', 'X', 'Y', 'Z'])\n",
    "df2"
   ]
  },
  {
   "cell_type": "code",
   "execution_count": 84,
   "metadata": {},
   "outputs": [
    {
     "data": {
      "text/plain": [
       "Index(['W', 'X', 'Y', 'Z'], dtype='object')"
      ]
     },
     "execution_count": 84,
     "metadata": {},
     "output_type": "execute_result"
    }
   ],
   "source": [
    "df2.columns"
   ]
  },
  {
   "cell_type": "code",
   "execution_count": 13,
   "metadata": {},
   "outputs": [
    {
     "data": {
      "text/html": [
       "<div>\n",
       "<style scoped>\n",
       "    .dataframe tbody tr th:only-of-type {\n",
       "        vertical-align: middle;\n",
       "    }\n",
       "\n",
       "    .dataframe tbody tr th {\n",
       "        vertical-align: top;\n",
       "    }\n",
       "\n",
       "    .dataframe thead th {\n",
       "        text-align: right;\n",
       "    }\n",
       "</style>\n",
       "<table border=\"1\" class=\"dataframe\">\n",
       "  <thead>\n",
       "    <tr style=\"text-align: right;\">\n",
       "      <th></th>\n",
       "      <th>J</th>\n",
       "      <th>K</th>\n",
       "      <th>L</th>\n",
       "      <th>M</th>\n",
       "    </tr>\n",
       "  </thead>\n",
       "  <tbody>\n",
       "    <tr>\n",
       "      <th>0</th>\n",
       "      <td>0.580598</td>\n",
       "      <td>0.606269</td>\n",
       "      <td>0.023473</td>\n",
       "      <td>0.209203</td>\n",
       "    </tr>\n",
       "    <tr>\n",
       "      <th>1</th>\n",
       "      <td>0.538868</td>\n",
       "      <td>0.060316</td>\n",
       "      <td>0.525828</td>\n",
       "      <td>0.330947</td>\n",
       "    </tr>\n",
       "    <tr>\n",
       "      <th>2</th>\n",
       "      <td>0.666994</td>\n",
       "      <td>0.085258</td>\n",
       "      <td>0.739077</td>\n",
       "      <td>0.203449</td>\n",
       "    </tr>\n",
       "    <tr>\n",
       "      <th>3</th>\n",
       "      <td>0.894310</td>\n",
       "      <td>0.306024</td>\n",
       "      <td>0.075140</td>\n",
       "      <td>0.646017</td>\n",
       "    </tr>\n",
       "    <tr>\n",
       "      <th>4</th>\n",
       "      <td>0.044302</td>\n",
       "      <td>0.133484</td>\n",
       "      <td>0.358398</td>\n",
       "      <td>0.786130</td>\n",
       "    </tr>\n",
       "  </tbody>\n",
       "</table>\n",
       "</div>"
      ],
      "text/plain": [
       "          J         K         L         M\n",
       "0  0.580598  0.606269  0.023473  0.209203\n",
       "1  0.538868  0.060316  0.525828  0.330947\n",
       "2  0.666994  0.085258  0.739077  0.203449\n",
       "3  0.894310  0.306024  0.075140  0.646017\n",
       "4  0.044302  0.133484  0.358398  0.786130"
      ]
     },
     "execution_count": 13,
     "metadata": {},
     "output_type": "execute_result"
    }
   ],
   "source": [
    "df1.columns = ['J','K','L','M']#میتونیم بعد ازایجاد فریم نیز ستونها و اندیسها رو باز تنظیم کنیم\n",
    "df1"
   ]
  },
  {
   "cell_type": "code",
   "execution_count": 86,
   "metadata": {},
   "outputs": [
    {
     "data": {
      "text/plain": [
       "Index(['A', 'B', 'C', 'D', 'E'], dtype='object')"
      ]
     },
     "execution_count": 86,
     "metadata": {},
     "output_type": "execute_result"
    }
   ],
   "source": [
    "df2.index"
   ]
  },
  {
   "cell_type": "markdown",
   "metadata": {},
   "source": [
    "<div class = \"norm_fa\">\n",
    "همانطور که گفتیم عملگر [] یک ستون رو برمی‌گردونه. در مثال پایین A یک اندیس (سطر) فریم df2 ه و با استفاده از [] در دسترس نیست.\n",
    "</div>"
   ]
  },
  {
   "cell_type": "code",
   "execution_count": 20,
   "metadata": {},
   "outputs": [
    {
     "ename": "KeyError",
     "evalue": "'A'",
     "output_type": "error",
     "traceback": [
      "\u001b[1;31m---------------------------------------------------------------------------\u001b[0m",
      "\u001b[1;31mKeyError\u001b[0m                                  Traceback (most recent call last)",
      "\u001b[1;32mc:\\python\\python36\\venvs\\tf2gpu\\lib\\site-packages\\pandas\\core\\indexes\\base.py\u001b[0m in \u001b[0;36mget_loc\u001b[1;34m(self, key, method, tolerance)\u001b[0m\n\u001b[0;32m   2645\u001b[0m             \u001b[1;32mtry\u001b[0m\u001b[1;33m:\u001b[0m\u001b[1;33m\u001b[0m\u001b[1;33m\u001b[0m\u001b[0m\n\u001b[1;32m-> 2646\u001b[1;33m                 \u001b[1;32mreturn\u001b[0m \u001b[0mself\u001b[0m\u001b[1;33m.\u001b[0m\u001b[0m_engine\u001b[0m\u001b[1;33m.\u001b[0m\u001b[0mget_loc\u001b[0m\u001b[1;33m(\u001b[0m\u001b[0mkey\u001b[0m\u001b[1;33m)\u001b[0m\u001b[1;33m\u001b[0m\u001b[1;33m\u001b[0m\u001b[0m\n\u001b[0m\u001b[0;32m   2647\u001b[0m             \u001b[1;32mexcept\u001b[0m \u001b[0mKeyError\u001b[0m\u001b[1;33m:\u001b[0m\u001b[1;33m\u001b[0m\u001b[1;33m\u001b[0m\u001b[0m\n",
      "\u001b[1;32mpandas\\_libs\\index.pyx\u001b[0m in \u001b[0;36mpandas._libs.index.IndexEngine.get_loc\u001b[1;34m()\u001b[0m\n",
      "\u001b[1;32mpandas\\_libs\\index.pyx\u001b[0m in \u001b[0;36mpandas._libs.index.IndexEngine.get_loc\u001b[1;34m()\u001b[0m\n",
      "\u001b[1;32mpandas\\_libs\\hashtable_class_helper.pxi\u001b[0m in \u001b[0;36mpandas._libs.hashtable.PyObjectHashTable.get_item\u001b[1;34m()\u001b[0m\n",
      "\u001b[1;32mpandas\\_libs\\hashtable_class_helper.pxi\u001b[0m in \u001b[0;36mpandas._libs.hashtable.PyObjectHashTable.get_item\u001b[1;34m()\u001b[0m\n",
      "\u001b[1;31mKeyError\u001b[0m: 'A'",
      "\nDuring handling of the above exception, another exception occurred:\n",
      "\u001b[1;31mKeyError\u001b[0m                                  Traceback (most recent call last)",
      "\u001b[1;32m<ipython-input-20-0117ca370199>\u001b[0m in \u001b[0;36m<module>\u001b[1;34m\u001b[0m\n\u001b[1;32m----> 1\u001b[1;33m \u001b[0mdf2\u001b[0m\u001b[1;33m[\u001b[0m\u001b[1;34m'A'\u001b[0m\u001b[1;33m]\u001b[0m\u001b[1;33m\u001b[0m\u001b[1;33m\u001b[0m\u001b[0m\n\u001b[0m",
      "\u001b[1;32mc:\\python\\python36\\venvs\\tf2gpu\\lib\\site-packages\\pandas\\core\\frame.py\u001b[0m in \u001b[0;36m__getitem__\u001b[1;34m(self, key)\u001b[0m\n\u001b[0;32m   2798\u001b[0m             \u001b[1;32mif\u001b[0m \u001b[0mself\u001b[0m\u001b[1;33m.\u001b[0m\u001b[0mcolumns\u001b[0m\u001b[1;33m.\u001b[0m\u001b[0mnlevels\u001b[0m \u001b[1;33m>\u001b[0m \u001b[1;36m1\u001b[0m\u001b[1;33m:\u001b[0m\u001b[1;33m\u001b[0m\u001b[1;33m\u001b[0m\u001b[0m\n\u001b[0;32m   2799\u001b[0m                 \u001b[1;32mreturn\u001b[0m \u001b[0mself\u001b[0m\u001b[1;33m.\u001b[0m\u001b[0m_getitem_multilevel\u001b[0m\u001b[1;33m(\u001b[0m\u001b[0mkey\u001b[0m\u001b[1;33m)\u001b[0m\u001b[1;33m\u001b[0m\u001b[1;33m\u001b[0m\u001b[0m\n\u001b[1;32m-> 2800\u001b[1;33m             \u001b[0mindexer\u001b[0m \u001b[1;33m=\u001b[0m \u001b[0mself\u001b[0m\u001b[1;33m.\u001b[0m\u001b[0mcolumns\u001b[0m\u001b[1;33m.\u001b[0m\u001b[0mget_loc\u001b[0m\u001b[1;33m(\u001b[0m\u001b[0mkey\u001b[0m\u001b[1;33m)\u001b[0m\u001b[1;33m\u001b[0m\u001b[1;33m\u001b[0m\u001b[0m\n\u001b[0m\u001b[0;32m   2801\u001b[0m             \u001b[1;32mif\u001b[0m \u001b[0mis_integer\u001b[0m\u001b[1;33m(\u001b[0m\u001b[0mindexer\u001b[0m\u001b[1;33m)\u001b[0m\u001b[1;33m:\u001b[0m\u001b[1;33m\u001b[0m\u001b[1;33m\u001b[0m\u001b[0m\n\u001b[0;32m   2802\u001b[0m                 \u001b[0mindexer\u001b[0m \u001b[1;33m=\u001b[0m \u001b[1;33m[\u001b[0m\u001b[0mindexer\u001b[0m\u001b[1;33m]\u001b[0m\u001b[1;33m\u001b[0m\u001b[1;33m\u001b[0m\u001b[0m\n",
      "\u001b[1;32mc:\\python\\python36\\venvs\\tf2gpu\\lib\\site-packages\\pandas\\core\\indexes\\base.py\u001b[0m in \u001b[0;36mget_loc\u001b[1;34m(self, key, method, tolerance)\u001b[0m\n\u001b[0;32m   2646\u001b[0m                 \u001b[1;32mreturn\u001b[0m \u001b[0mself\u001b[0m\u001b[1;33m.\u001b[0m\u001b[0m_engine\u001b[0m\u001b[1;33m.\u001b[0m\u001b[0mget_loc\u001b[0m\u001b[1;33m(\u001b[0m\u001b[0mkey\u001b[0m\u001b[1;33m)\u001b[0m\u001b[1;33m\u001b[0m\u001b[1;33m\u001b[0m\u001b[0m\n\u001b[0;32m   2647\u001b[0m             \u001b[1;32mexcept\u001b[0m \u001b[0mKeyError\u001b[0m\u001b[1;33m:\u001b[0m\u001b[1;33m\u001b[0m\u001b[1;33m\u001b[0m\u001b[0m\n\u001b[1;32m-> 2648\u001b[1;33m                 \u001b[1;32mreturn\u001b[0m \u001b[0mself\u001b[0m\u001b[1;33m.\u001b[0m\u001b[0m_engine\u001b[0m\u001b[1;33m.\u001b[0m\u001b[0mget_loc\u001b[0m\u001b[1;33m(\u001b[0m\u001b[0mself\u001b[0m\u001b[1;33m.\u001b[0m\u001b[0m_maybe_cast_indexer\u001b[0m\u001b[1;33m(\u001b[0m\u001b[0mkey\u001b[0m\u001b[1;33m)\u001b[0m\u001b[1;33m)\u001b[0m\u001b[1;33m\u001b[0m\u001b[1;33m\u001b[0m\u001b[0m\n\u001b[0m\u001b[0;32m   2649\u001b[0m         \u001b[0mindexer\u001b[0m \u001b[1;33m=\u001b[0m \u001b[0mself\u001b[0m\u001b[1;33m.\u001b[0m\u001b[0mget_indexer\u001b[0m\u001b[1;33m(\u001b[0m\u001b[1;33m[\u001b[0m\u001b[0mkey\u001b[0m\u001b[1;33m]\u001b[0m\u001b[1;33m,\u001b[0m \u001b[0mmethod\u001b[0m\u001b[1;33m=\u001b[0m\u001b[0mmethod\u001b[0m\u001b[1;33m,\u001b[0m \u001b[0mtolerance\u001b[0m\u001b[1;33m=\u001b[0m\u001b[0mtolerance\u001b[0m\u001b[1;33m)\u001b[0m\u001b[1;33m\u001b[0m\u001b[1;33m\u001b[0m\u001b[0m\n\u001b[0;32m   2650\u001b[0m         \u001b[1;32mif\u001b[0m \u001b[0mindexer\u001b[0m\u001b[1;33m.\u001b[0m\u001b[0mndim\u001b[0m \u001b[1;33m>\u001b[0m \u001b[1;36m1\u001b[0m \u001b[1;32mor\u001b[0m \u001b[0mindexer\u001b[0m\u001b[1;33m.\u001b[0m\u001b[0msize\u001b[0m \u001b[1;33m>\u001b[0m \u001b[1;36m1\u001b[0m\u001b[1;33m:\u001b[0m\u001b[1;33m\u001b[0m\u001b[1;33m\u001b[0m\u001b[0m\n",
      "\u001b[1;32mpandas\\_libs\\index.pyx\u001b[0m in \u001b[0;36mpandas._libs.index.IndexEngine.get_loc\u001b[1;34m()\u001b[0m\n",
      "\u001b[1;32mpandas\\_libs\\index.pyx\u001b[0m in \u001b[0;36mpandas._libs.index.IndexEngine.get_loc\u001b[1;34m()\u001b[0m\n",
      "\u001b[1;32mpandas\\_libs\\hashtable_class_helper.pxi\u001b[0m in \u001b[0;36mpandas._libs.hashtable.PyObjectHashTable.get_item\u001b[1;34m()\u001b[0m\n",
      "\u001b[1;32mpandas\\_libs\\hashtable_class_helper.pxi\u001b[0m in \u001b[0;36mpandas._libs.hashtable.PyObjectHashTable.get_item\u001b[1;34m()\u001b[0m\n",
      "\u001b[1;31mKeyError\u001b[0m: 'A'"
     ]
    }
   ],
   "source": [
    "df2['A']"
   ]
  },
  {
   "cell_type": "code",
   "execution_count": 21,
   "metadata": {},
   "outputs": [
    {
     "data": {
      "text/plain": [
       "A    0.166587\n",
       "B    0.252823\n",
       "C    0.939095\n",
       "D    0.267942\n",
       "E    0.782995\n",
       "Name: W, dtype: float64"
      ]
     },
     "execution_count": 21,
     "metadata": {},
     "output_type": "execute_result"
    }
   ],
   "source": [
    "df2['W']"
   ]
  },
  {
   "cell_type": "code",
   "execution_count": 87,
   "metadata": {},
   "outputs": [
    {
     "data": {
      "text/plain": [
       "pandas.core.series.Series"
      ]
     },
     "execution_count": 87,
     "metadata": {},
     "output_type": "execute_result"
    }
   ],
   "source": [
    "type(df2['W'])#هر ستون یک سری است"
   ]
  },
  {
   "cell_type": "code",
   "execution_count": 20,
   "metadata": {},
   "outputs": [
    {
     "data": {
      "text/plain": [
       "0    0.769735\n",
       "1    0.770489\n",
       "2    0.624980\n",
       "3    0.892103\n",
       "Name: 0, dtype: float64"
      ]
     },
     "execution_count": 20,
     "metadata": {},
     "output_type": "execute_result"
    }
   ],
   "source": [
    "df1.loc[0]#برای دسترسی به یک اندیس به جای یک ستون"
   ]
  },
  {
   "cell_type": "code",
   "execution_count": 21,
   "metadata": {},
   "outputs": [
    {
     "ename": "TypeError",
     "evalue": "cannot do label indexing on <class 'pandas.core.indexes.base.Index'> with these indexers [0] of <class 'int'>",
     "output_type": "error",
     "traceback": [
      "\u001b[1;31m---------------------------------------------------------------------------\u001b[0m",
      "\u001b[1;31mTypeError\u001b[0m                                 Traceback (most recent call last)",
      "\u001b[1;32m<ipython-input-21-61082e79aebf>\u001b[0m in \u001b[0;36m<module>\u001b[1;34m\u001b[0m\n\u001b[1;32m----> 1\u001b[1;33m \u001b[0mdf2\u001b[0m\u001b[1;33m.\u001b[0m\u001b[0mloc\u001b[0m\u001b[1;33m[\u001b[0m\u001b[1;36m0\u001b[0m\u001b[1;33m]\u001b[0m\u001b[1;33m\u001b[0m\u001b[1;33m\u001b[0m\u001b[0m\n\u001b[0m",
      "\u001b[1;32mc:\\python\\python36\\venvs\\tf2gpu\\lib\\site-packages\\pandas\\core\\indexing.py\u001b[0m in \u001b[0;36m__getitem__\u001b[1;34m(self, key)\u001b[0m\n\u001b[0;32m   1765\u001b[0m \u001b[1;33m\u001b[0m\u001b[0m\n\u001b[0;32m   1766\u001b[0m             \u001b[0mmaybe_callable\u001b[0m \u001b[1;33m=\u001b[0m \u001b[0mcom\u001b[0m\u001b[1;33m.\u001b[0m\u001b[0mapply_if_callable\u001b[0m\u001b[1;33m(\u001b[0m\u001b[0mkey\u001b[0m\u001b[1;33m,\u001b[0m \u001b[0mself\u001b[0m\u001b[1;33m.\u001b[0m\u001b[0mobj\u001b[0m\u001b[1;33m)\u001b[0m\u001b[1;33m\u001b[0m\u001b[1;33m\u001b[0m\u001b[0m\n\u001b[1;32m-> 1767\u001b[1;33m             \u001b[1;32mreturn\u001b[0m \u001b[0mself\u001b[0m\u001b[1;33m.\u001b[0m\u001b[0m_getitem_axis\u001b[0m\u001b[1;33m(\u001b[0m\u001b[0mmaybe_callable\u001b[0m\u001b[1;33m,\u001b[0m \u001b[0maxis\u001b[0m\u001b[1;33m=\u001b[0m\u001b[0maxis\u001b[0m\u001b[1;33m)\u001b[0m\u001b[1;33m\u001b[0m\u001b[1;33m\u001b[0m\u001b[0m\n\u001b[0m\u001b[0;32m   1768\u001b[0m \u001b[1;33m\u001b[0m\u001b[0m\n\u001b[0;32m   1769\u001b[0m     \u001b[1;32mdef\u001b[0m \u001b[0m_is_scalar_access\u001b[0m\u001b[1;33m(\u001b[0m\u001b[0mself\u001b[0m\u001b[1;33m,\u001b[0m \u001b[0mkey\u001b[0m\u001b[1;33m:\u001b[0m \u001b[0mTuple\u001b[0m\u001b[1;33m)\u001b[0m\u001b[1;33m:\u001b[0m\u001b[1;33m\u001b[0m\u001b[1;33m\u001b[0m\u001b[0m\n",
      "\u001b[1;32mc:\\python\\python36\\venvs\\tf2gpu\\lib\\site-packages\\pandas\\core\\indexing.py\u001b[0m in \u001b[0;36m_getitem_axis\u001b[1;34m(self, key, axis)\u001b[0m\n\u001b[0;32m   1961\u001b[0m \u001b[1;33m\u001b[0m\u001b[0m\n\u001b[0;32m   1962\u001b[0m         \u001b[1;31m# fall thru to straight lookup\u001b[0m\u001b[1;33m\u001b[0m\u001b[1;33m\u001b[0m\u001b[1;33m\u001b[0m\u001b[0m\n\u001b[1;32m-> 1963\u001b[1;33m         \u001b[0mself\u001b[0m\u001b[1;33m.\u001b[0m\u001b[0m_validate_key\u001b[0m\u001b[1;33m(\u001b[0m\u001b[0mkey\u001b[0m\u001b[1;33m,\u001b[0m \u001b[0maxis\u001b[0m\u001b[1;33m)\u001b[0m\u001b[1;33m\u001b[0m\u001b[1;33m\u001b[0m\u001b[0m\n\u001b[0m\u001b[0;32m   1964\u001b[0m         \u001b[1;32mreturn\u001b[0m \u001b[0mself\u001b[0m\u001b[1;33m.\u001b[0m\u001b[0m_get_label\u001b[0m\u001b[1;33m(\u001b[0m\u001b[0mkey\u001b[0m\u001b[1;33m,\u001b[0m \u001b[0maxis\u001b[0m\u001b[1;33m=\u001b[0m\u001b[0maxis\u001b[0m\u001b[1;33m)\u001b[0m\u001b[1;33m\u001b[0m\u001b[1;33m\u001b[0m\u001b[0m\n\u001b[0;32m   1965\u001b[0m \u001b[1;33m\u001b[0m\u001b[0m\n",
      "\u001b[1;32mc:\\python\\python36\\venvs\\tf2gpu\\lib\\site-packages\\pandas\\core\\indexing.py\u001b[0m in \u001b[0;36m_validate_key\u001b[1;34m(self, key, axis)\u001b[0m\n\u001b[0;32m   1828\u001b[0m \u001b[1;33m\u001b[0m\u001b[0m\n\u001b[0;32m   1829\u001b[0m         \u001b[1;32mif\u001b[0m \u001b[1;32mnot\u001b[0m \u001b[0mis_list_like_indexer\u001b[0m\u001b[1;33m(\u001b[0m\u001b[0mkey\u001b[0m\u001b[1;33m)\u001b[0m\u001b[1;33m:\u001b[0m\u001b[1;33m\u001b[0m\u001b[1;33m\u001b[0m\u001b[0m\n\u001b[1;32m-> 1830\u001b[1;33m             \u001b[0mself\u001b[0m\u001b[1;33m.\u001b[0m\u001b[0m_convert_scalar_indexer\u001b[0m\u001b[1;33m(\u001b[0m\u001b[0mkey\u001b[0m\u001b[1;33m,\u001b[0m \u001b[0maxis\u001b[0m\u001b[1;33m)\u001b[0m\u001b[1;33m\u001b[0m\u001b[1;33m\u001b[0m\u001b[0m\n\u001b[0m\u001b[0;32m   1831\u001b[0m \u001b[1;33m\u001b[0m\u001b[0m\n\u001b[0;32m   1832\u001b[0m     \u001b[1;32mdef\u001b[0m \u001b[0m_is_scalar_access\u001b[0m\u001b[1;33m(\u001b[0m\u001b[0mself\u001b[0m\u001b[1;33m,\u001b[0m \u001b[0mkey\u001b[0m\u001b[1;33m:\u001b[0m \u001b[0mTuple\u001b[0m\u001b[1;33m)\u001b[0m \u001b[1;33m->\u001b[0m \u001b[0mbool\u001b[0m\u001b[1;33m:\u001b[0m\u001b[1;33m\u001b[0m\u001b[1;33m\u001b[0m\u001b[0m\n",
      "\u001b[1;32mc:\\python\\python36\\venvs\\tf2gpu\\lib\\site-packages\\pandas\\core\\indexing.py\u001b[0m in \u001b[0;36m_convert_scalar_indexer\u001b[1;34m(self, key, axis)\u001b[0m\n\u001b[0;32m    738\u001b[0m         \u001b[0max\u001b[0m \u001b[1;33m=\u001b[0m \u001b[0mself\u001b[0m\u001b[1;33m.\u001b[0m\u001b[0mobj\u001b[0m\u001b[1;33m.\u001b[0m\u001b[0m_get_axis\u001b[0m\u001b[1;33m(\u001b[0m\u001b[0mmin\u001b[0m\u001b[1;33m(\u001b[0m\u001b[0maxis\u001b[0m\u001b[1;33m,\u001b[0m \u001b[0mself\u001b[0m\u001b[1;33m.\u001b[0m\u001b[0mndim\u001b[0m \u001b[1;33m-\u001b[0m \u001b[1;36m1\u001b[0m\u001b[1;33m)\u001b[0m\u001b[1;33m)\u001b[0m\u001b[1;33m\u001b[0m\u001b[1;33m\u001b[0m\u001b[0m\n\u001b[0;32m    739\u001b[0m         \u001b[1;31m# a scalar\u001b[0m\u001b[1;33m\u001b[0m\u001b[1;33m\u001b[0m\u001b[1;33m\u001b[0m\u001b[0m\n\u001b[1;32m--> 740\u001b[1;33m         \u001b[1;32mreturn\u001b[0m \u001b[0max\u001b[0m\u001b[1;33m.\u001b[0m\u001b[0m_convert_scalar_indexer\u001b[0m\u001b[1;33m(\u001b[0m\u001b[0mkey\u001b[0m\u001b[1;33m,\u001b[0m \u001b[0mkind\u001b[0m\u001b[1;33m=\u001b[0m\u001b[0mself\u001b[0m\u001b[1;33m.\u001b[0m\u001b[0mname\u001b[0m\u001b[1;33m)\u001b[0m\u001b[1;33m\u001b[0m\u001b[1;33m\u001b[0m\u001b[0m\n\u001b[0m\u001b[0;32m    741\u001b[0m \u001b[1;33m\u001b[0m\u001b[0m\n\u001b[0;32m    742\u001b[0m     \u001b[1;32mdef\u001b[0m \u001b[0m_convert_slice_indexer\u001b[0m\u001b[1;33m(\u001b[0m\u001b[0mself\u001b[0m\u001b[1;33m,\u001b[0m \u001b[0mkey\u001b[0m\u001b[1;33m:\u001b[0m \u001b[0mslice\u001b[0m\u001b[1;33m,\u001b[0m \u001b[0maxis\u001b[0m\u001b[1;33m:\u001b[0m \u001b[0mint\u001b[0m\u001b[1;33m)\u001b[0m\u001b[1;33m:\u001b[0m\u001b[1;33m\u001b[0m\u001b[1;33m\u001b[0m\u001b[0m\n",
      "\u001b[1;32mc:\\python\\python36\\venvs\\tf2gpu\\lib\\site-packages\\pandas\\core\\indexes\\base.py\u001b[0m in \u001b[0;36m_convert_scalar_indexer\u001b[1;34m(self, key, kind)\u001b[0m\n\u001b[0;32m   2886\u001b[0m             \u001b[1;32melif\u001b[0m \u001b[0mkind\u001b[0m \u001b[1;32min\u001b[0m \u001b[1;33m[\u001b[0m\u001b[1;34m\"loc\"\u001b[0m\u001b[1;33m]\u001b[0m \u001b[1;32mand\u001b[0m \u001b[0mis_integer\u001b[0m\u001b[1;33m(\u001b[0m\u001b[0mkey\u001b[0m\u001b[1;33m)\u001b[0m\u001b[1;33m:\u001b[0m\u001b[1;33m\u001b[0m\u001b[1;33m\u001b[0m\u001b[0m\n\u001b[0;32m   2887\u001b[0m                 \u001b[1;32mif\u001b[0m \u001b[1;32mnot\u001b[0m \u001b[0mself\u001b[0m\u001b[1;33m.\u001b[0m\u001b[0mholds_integer\u001b[0m\u001b[1;33m(\u001b[0m\u001b[1;33m)\u001b[0m\u001b[1;33m:\u001b[0m\u001b[1;33m\u001b[0m\u001b[1;33m\u001b[0m\u001b[0m\n\u001b[1;32m-> 2888\u001b[1;33m                     \u001b[0mself\u001b[0m\u001b[1;33m.\u001b[0m\u001b[0m_invalid_indexer\u001b[0m\u001b[1;33m(\u001b[0m\u001b[1;34m\"label\"\u001b[0m\u001b[1;33m,\u001b[0m \u001b[0mkey\u001b[0m\u001b[1;33m)\u001b[0m\u001b[1;33m\u001b[0m\u001b[1;33m\u001b[0m\u001b[0m\n\u001b[0m\u001b[0;32m   2889\u001b[0m \u001b[1;33m\u001b[0m\u001b[0m\n\u001b[0;32m   2890\u001b[0m         \u001b[1;32mreturn\u001b[0m \u001b[0mkey\u001b[0m\u001b[1;33m\u001b[0m\u001b[1;33m\u001b[0m\u001b[0m\n",
      "\u001b[1;32mc:\\python\\python36\\venvs\\tf2gpu\\lib\\site-packages\\pandas\\core\\indexes\\base.py\u001b[0m in \u001b[0;36m_invalid_indexer\u001b[1;34m(self, form, key)\u001b[0m\n\u001b[0;32m   3075\u001b[0m         \"\"\"\n\u001b[0;32m   3076\u001b[0m         raise TypeError(\n\u001b[1;32m-> 3077\u001b[1;33m             \u001b[1;34mf\"cannot do {form} indexing on {type(self)} with these \"\u001b[0m\u001b[1;33m\u001b[0m\u001b[1;33m\u001b[0m\u001b[0m\n\u001b[0m\u001b[0;32m   3078\u001b[0m             \u001b[1;34mf\"indexers [{key}] of {type(key)}\"\u001b[0m\u001b[1;33m\u001b[0m\u001b[1;33m\u001b[0m\u001b[0m\n\u001b[0;32m   3079\u001b[0m         )\n",
      "\u001b[1;31mTypeError\u001b[0m: cannot do label indexing on <class 'pandas.core.indexes.base.Index'> with these indexers [0] of <class 'int'>"
     ]
    }
   ],
   "source": [
    "df2.loc[0]#اندیس این فریم عددی نیست"
   ]
  },
  {
   "cell_type": "code",
   "execution_count": 22,
   "metadata": {},
   "outputs": [
    {
     "data": {
      "text/plain": [
       "W    0.225615\n",
       "X    0.189515\n",
       "Y    0.473165\n",
       "Z    0.703948\n",
       "Name: A, dtype: float64"
      ]
     },
     "execution_count": 22,
     "metadata": {},
     "output_type": "execute_result"
    }
   ],
   "source": [
    "df2.loc['A']"
   ]
  },
  {
   "cell_type": "code",
   "execution_count": 23,
   "metadata": {},
   "outputs": [
    {
     "data": {
      "text/plain": [
       "W    0.225615\n",
       "X    0.189515\n",
       "Y    0.473165\n",
       "Z    0.703948\n",
       "Name: A, dtype: float64"
      ]
     },
     "execution_count": 23,
     "metadata": {},
     "output_type": "execute_result"
    }
   ],
   "source": [
    "df2.iloc[0]#اگر بخواهیم بدون توجه به اندیس های تنظیم شده از شماره سطر استفاده کنیم"
   ]
  },
  {
   "cell_type": "code",
   "execution_count": 22,
   "metadata": {},
   "outputs": [
    {
     "data": {
      "text/html": [
       "<div>\n",
       "<style scoped>\n",
       "    .dataframe tbody tr th:only-of-type {\n",
       "        vertical-align: middle;\n",
       "    }\n",
       "\n",
       "    .dataframe tbody tr th {\n",
       "        vertical-align: top;\n",
       "    }\n",
       "\n",
       "    .dataframe thead th {\n",
       "        text-align: right;\n",
       "    }\n",
       "</style>\n",
       "<table border=\"1\" class=\"dataframe\">\n",
       "  <thead>\n",
       "    <tr style=\"text-align: right;\">\n",
       "      <th></th>\n",
       "      <th>W</th>\n",
       "      <th>Z</th>\n",
       "    </tr>\n",
       "  </thead>\n",
       "  <tbody>\n",
       "    <tr>\n",
       "      <th>A</th>\n",
       "      <td>0.166587</td>\n",
       "      <td>0.126516</td>\n",
       "    </tr>\n",
       "    <tr>\n",
       "      <th>B</th>\n",
       "      <td>0.252823</td>\n",
       "      <td>0.350414</td>\n",
       "    </tr>\n",
       "    <tr>\n",
       "      <th>C</th>\n",
       "      <td>0.939095</td>\n",
       "      <td>0.506747</td>\n",
       "    </tr>\n",
       "    <tr>\n",
       "      <th>D</th>\n",
       "      <td>0.267942</td>\n",
       "      <td>0.601688</td>\n",
       "    </tr>\n",
       "    <tr>\n",
       "      <th>E</th>\n",
       "      <td>0.782995</td>\n",
       "      <td>0.086049</td>\n",
       "    </tr>\n",
       "  </tbody>\n",
       "</table>\n",
       "</div>"
      ],
      "text/plain": [
       "          W         Z\n",
       "A  0.166587  0.126516\n",
       "B  0.252823  0.350414\n",
       "C  0.939095  0.506747\n",
       "D  0.267942  0.601688\n",
       "E  0.782995  0.086049"
      ]
     },
     "execution_count": 22,
     "metadata": {},
     "output_type": "execute_result"
    }
   ],
   "source": [
    "df2[['W', 'Z']]#میتوانیم همزمان اطلاعات دو ستون را احضار کتیم"
   ]
  },
  {
   "cell_type": "code",
   "execution_count": 23,
   "metadata": {},
   "outputs": [
    {
     "data": {
      "text/plain": [
       "A    0.293104\n",
       "B    0.603237\n",
       "C    1.445842\n",
       "D    0.869630\n",
       "E    0.869044\n",
       "Name: V, dtype: float64"
      ]
     },
     "execution_count": 23,
     "metadata": {},
     "output_type": "execute_result"
    }
   ],
   "source": [
    "df2['V'] = df2['W'] + df2['Z']#یا یک ستون جدید ایجاد کتیم\n",
    "df2['V']"
   ]
  },
  {
   "cell_type": "markdown",
   "metadata": {},
   "source": [
    "<div class = \"norm_fa\">\n",
    "با استفاده از تابع drop میتونیم یک اندیس(سطر) و یا یک ستون رو حذف کنیم. فقط دقت کنیم که به صورت پیش فرض اندیس ها حذف میشوند.\n",
    "</div>"
   ]
  },
  {
   "cell_type": "code",
   "execution_count": 24,
   "metadata": {},
   "outputs": [
    {
     "ename": "KeyError",
     "evalue": "\"['V'] not found in axis\"",
     "output_type": "error",
     "traceback": [
      "\u001b[1;31m---------------------------------------------------------------------------\u001b[0m",
      "\u001b[1;31mKeyError\u001b[0m                                  Traceback (most recent call last)",
      "\u001b[1;32m<ipython-input-24-9f733710ec78>\u001b[0m in \u001b[0;36m<module>\u001b[1;34m\u001b[0m\n\u001b[1;32m----> 1\u001b[1;33m \u001b[0mdf2\u001b[0m\u001b[1;33m.\u001b[0m\u001b[0mdrop\u001b[0m\u001b[1;33m(\u001b[0m\u001b[1;34m'V'\u001b[0m\u001b[1;33m)\u001b[0m\u001b[1;33m\u001b[0m\u001b[1;33m\u001b[0m\u001b[0m\n\u001b[0m",
      "\u001b[1;32mc:\\python\\python36\\venvs\\tf2gpu\\lib\\site-packages\\pandas\\core\\frame.py\u001b[0m in \u001b[0;36mdrop\u001b[1;34m(self, labels, axis, index, columns, level, inplace, errors)\u001b[0m\n\u001b[0;32m   3995\u001b[0m             \u001b[0mlevel\u001b[0m\u001b[1;33m=\u001b[0m\u001b[0mlevel\u001b[0m\u001b[1;33m,\u001b[0m\u001b[1;33m\u001b[0m\u001b[1;33m\u001b[0m\u001b[0m\n\u001b[0;32m   3996\u001b[0m             \u001b[0minplace\u001b[0m\u001b[1;33m=\u001b[0m\u001b[0minplace\u001b[0m\u001b[1;33m,\u001b[0m\u001b[1;33m\u001b[0m\u001b[1;33m\u001b[0m\u001b[0m\n\u001b[1;32m-> 3997\u001b[1;33m             \u001b[0merrors\u001b[0m\u001b[1;33m=\u001b[0m\u001b[0merrors\u001b[0m\u001b[1;33m,\u001b[0m\u001b[1;33m\u001b[0m\u001b[1;33m\u001b[0m\u001b[0m\n\u001b[0m\u001b[0;32m   3998\u001b[0m         )\n\u001b[0;32m   3999\u001b[0m \u001b[1;33m\u001b[0m\u001b[0m\n",
      "\u001b[1;32mc:\\python\\python36\\venvs\\tf2gpu\\lib\\site-packages\\pandas\\core\\generic.py\u001b[0m in \u001b[0;36mdrop\u001b[1;34m(self, labels, axis, index, columns, level, inplace, errors)\u001b[0m\n\u001b[0;32m   3934\u001b[0m         \u001b[1;32mfor\u001b[0m \u001b[0maxis\u001b[0m\u001b[1;33m,\u001b[0m \u001b[0mlabels\u001b[0m \u001b[1;32min\u001b[0m \u001b[0maxes\u001b[0m\u001b[1;33m.\u001b[0m\u001b[0mitems\u001b[0m\u001b[1;33m(\u001b[0m\u001b[1;33m)\u001b[0m\u001b[1;33m:\u001b[0m\u001b[1;33m\u001b[0m\u001b[1;33m\u001b[0m\u001b[0m\n\u001b[0;32m   3935\u001b[0m             \u001b[1;32mif\u001b[0m \u001b[0mlabels\u001b[0m \u001b[1;32mis\u001b[0m \u001b[1;32mnot\u001b[0m \u001b[1;32mNone\u001b[0m\u001b[1;33m:\u001b[0m\u001b[1;33m\u001b[0m\u001b[1;33m\u001b[0m\u001b[0m\n\u001b[1;32m-> 3936\u001b[1;33m                 \u001b[0mobj\u001b[0m \u001b[1;33m=\u001b[0m \u001b[0mobj\u001b[0m\u001b[1;33m.\u001b[0m\u001b[0m_drop_axis\u001b[0m\u001b[1;33m(\u001b[0m\u001b[0mlabels\u001b[0m\u001b[1;33m,\u001b[0m \u001b[0maxis\u001b[0m\u001b[1;33m,\u001b[0m \u001b[0mlevel\u001b[0m\u001b[1;33m=\u001b[0m\u001b[0mlevel\u001b[0m\u001b[1;33m,\u001b[0m \u001b[0merrors\u001b[0m\u001b[1;33m=\u001b[0m\u001b[0merrors\u001b[0m\u001b[1;33m)\u001b[0m\u001b[1;33m\u001b[0m\u001b[1;33m\u001b[0m\u001b[0m\n\u001b[0m\u001b[0;32m   3937\u001b[0m \u001b[1;33m\u001b[0m\u001b[0m\n\u001b[0;32m   3938\u001b[0m         \u001b[1;32mif\u001b[0m \u001b[0minplace\u001b[0m\u001b[1;33m:\u001b[0m\u001b[1;33m\u001b[0m\u001b[1;33m\u001b[0m\u001b[0m\n",
      "\u001b[1;32mc:\\python\\python36\\venvs\\tf2gpu\\lib\\site-packages\\pandas\\core\\generic.py\u001b[0m in \u001b[0;36m_drop_axis\u001b[1;34m(self, labels, axis, level, errors)\u001b[0m\n\u001b[0;32m   3968\u001b[0m                 \u001b[0mnew_axis\u001b[0m \u001b[1;33m=\u001b[0m \u001b[0maxis\u001b[0m\u001b[1;33m.\u001b[0m\u001b[0mdrop\u001b[0m\u001b[1;33m(\u001b[0m\u001b[0mlabels\u001b[0m\u001b[1;33m,\u001b[0m \u001b[0mlevel\u001b[0m\u001b[1;33m=\u001b[0m\u001b[0mlevel\u001b[0m\u001b[1;33m,\u001b[0m \u001b[0merrors\u001b[0m\u001b[1;33m=\u001b[0m\u001b[0merrors\u001b[0m\u001b[1;33m)\u001b[0m\u001b[1;33m\u001b[0m\u001b[1;33m\u001b[0m\u001b[0m\n\u001b[0;32m   3969\u001b[0m             \u001b[1;32melse\u001b[0m\u001b[1;33m:\u001b[0m\u001b[1;33m\u001b[0m\u001b[1;33m\u001b[0m\u001b[0m\n\u001b[1;32m-> 3970\u001b[1;33m                 \u001b[0mnew_axis\u001b[0m \u001b[1;33m=\u001b[0m \u001b[0maxis\u001b[0m\u001b[1;33m.\u001b[0m\u001b[0mdrop\u001b[0m\u001b[1;33m(\u001b[0m\u001b[0mlabels\u001b[0m\u001b[1;33m,\u001b[0m \u001b[0merrors\u001b[0m\u001b[1;33m=\u001b[0m\u001b[0merrors\u001b[0m\u001b[1;33m)\u001b[0m\u001b[1;33m\u001b[0m\u001b[1;33m\u001b[0m\u001b[0m\n\u001b[0m\u001b[0;32m   3971\u001b[0m             \u001b[0mresult\u001b[0m \u001b[1;33m=\u001b[0m \u001b[0mself\u001b[0m\u001b[1;33m.\u001b[0m\u001b[0mreindex\u001b[0m\u001b[1;33m(\u001b[0m\u001b[1;33m**\u001b[0m\u001b[1;33m{\u001b[0m\u001b[0maxis_name\u001b[0m\u001b[1;33m:\u001b[0m \u001b[0mnew_axis\u001b[0m\u001b[1;33m}\u001b[0m\u001b[1;33m)\u001b[0m\u001b[1;33m\u001b[0m\u001b[1;33m\u001b[0m\u001b[0m\n\u001b[0;32m   3972\u001b[0m \u001b[1;33m\u001b[0m\u001b[0m\n",
      "\u001b[1;32mc:\\python\\python36\\venvs\\tf2gpu\\lib\\site-packages\\pandas\\core\\indexes\\base.py\u001b[0m in \u001b[0;36mdrop\u001b[1;34m(self, labels, errors)\u001b[0m\n\u001b[0;32m   5016\u001b[0m         \u001b[1;32mif\u001b[0m \u001b[0mmask\u001b[0m\u001b[1;33m.\u001b[0m\u001b[0many\u001b[0m\u001b[1;33m(\u001b[0m\u001b[1;33m)\u001b[0m\u001b[1;33m:\u001b[0m\u001b[1;33m\u001b[0m\u001b[1;33m\u001b[0m\u001b[0m\n\u001b[0;32m   5017\u001b[0m             \u001b[1;32mif\u001b[0m \u001b[0merrors\u001b[0m \u001b[1;33m!=\u001b[0m \u001b[1;34m\"ignore\"\u001b[0m\u001b[1;33m:\u001b[0m\u001b[1;33m\u001b[0m\u001b[1;33m\u001b[0m\u001b[0m\n\u001b[1;32m-> 5018\u001b[1;33m                 \u001b[1;32mraise\u001b[0m \u001b[0mKeyError\u001b[0m\u001b[1;33m(\u001b[0m\u001b[1;34mf\"{labels[mask]} not found in axis\"\u001b[0m\u001b[1;33m)\u001b[0m\u001b[1;33m\u001b[0m\u001b[1;33m\u001b[0m\u001b[0m\n\u001b[0m\u001b[0;32m   5019\u001b[0m             \u001b[0mindexer\u001b[0m \u001b[1;33m=\u001b[0m \u001b[0mindexer\u001b[0m\u001b[1;33m[\u001b[0m\u001b[1;33m~\u001b[0m\u001b[0mmask\u001b[0m\u001b[1;33m]\u001b[0m\u001b[1;33m\u001b[0m\u001b[1;33m\u001b[0m\u001b[0m\n\u001b[0;32m   5020\u001b[0m         \u001b[1;32mreturn\u001b[0m \u001b[0mself\u001b[0m\u001b[1;33m.\u001b[0m\u001b[0mdelete\u001b[0m\u001b[1;33m(\u001b[0m\u001b[0mindexer\u001b[0m\u001b[1;33m)\u001b[0m\u001b[1;33m\u001b[0m\u001b[1;33m\u001b[0m\u001b[0m\n",
      "\u001b[1;31mKeyError\u001b[0m: \"['V'] not found in axis\""
     ]
    }
   ],
   "source": [
    "df2.drop('V')"
   ]
  },
  {
   "cell_type": "code",
   "execution_count": 25,
   "metadata": {},
   "outputs": [
    {
     "data": {
      "text/html": [
       "<div>\n",
       "<style scoped>\n",
       "    .dataframe tbody tr th:only-of-type {\n",
       "        vertical-align: middle;\n",
       "    }\n",
       "\n",
       "    .dataframe tbody tr th {\n",
       "        vertical-align: top;\n",
       "    }\n",
       "\n",
       "    .dataframe thead th {\n",
       "        text-align: right;\n",
       "    }\n",
       "</style>\n",
       "<table border=\"1\" class=\"dataframe\">\n",
       "  <thead>\n",
       "    <tr style=\"text-align: right;\">\n",
       "      <th></th>\n",
       "      <th>W</th>\n",
       "      <th>X</th>\n",
       "      <th>Y</th>\n",
       "      <th>Z</th>\n",
       "      <th>V</th>\n",
       "    </tr>\n",
       "  </thead>\n",
       "  <tbody>\n",
       "    <tr>\n",
       "      <th>A</th>\n",
       "      <td>0.166587</td>\n",
       "      <td>0.715351</td>\n",
       "      <td>0.217076</td>\n",
       "      <td>0.126516</td>\n",
       "      <td>0.293104</td>\n",
       "    </tr>\n",
       "    <tr>\n",
       "      <th>B</th>\n",
       "      <td>0.252823</td>\n",
       "      <td>0.962057</td>\n",
       "      <td>0.883406</td>\n",
       "      <td>0.350414</td>\n",
       "      <td>0.603237</td>\n",
       "    </tr>\n",
       "    <tr>\n",
       "      <th>C</th>\n",
       "      <td>0.939095</td>\n",
       "      <td>0.192483</td>\n",
       "      <td>0.324259</td>\n",
       "      <td>0.506747</td>\n",
       "      <td>1.445842</td>\n",
       "    </tr>\n",
       "    <tr>\n",
       "      <th>D</th>\n",
       "      <td>0.267942</td>\n",
       "      <td>0.590729</td>\n",
       "      <td>0.987100</td>\n",
       "      <td>0.601688</td>\n",
       "      <td>0.869630</td>\n",
       "    </tr>\n",
       "  </tbody>\n",
       "</table>\n",
       "</div>"
      ],
      "text/plain": [
       "          W         X         Y         Z         V\n",
       "A  0.166587  0.715351  0.217076  0.126516  0.293104\n",
       "B  0.252823  0.962057  0.883406  0.350414  0.603237\n",
       "C  0.939095  0.192483  0.324259  0.506747  1.445842\n",
       "D  0.267942  0.590729  0.987100  0.601688  0.869630"
      ]
     },
     "execution_count": 25,
     "metadata": {},
     "output_type": "execute_result"
    }
   ],
   "source": [
    "df2.drop('E')"
   ]
  },
  {
   "cell_type": "code",
   "execution_count": 28,
   "metadata": {},
   "outputs": [
    {
     "data": {
      "text/html": [
       "<div>\n",
       "<style scoped>\n",
       "    .dataframe tbody tr th:only-of-type {\n",
       "        vertical-align: middle;\n",
       "    }\n",
       "\n",
       "    .dataframe tbody tr th {\n",
       "        vertical-align: top;\n",
       "    }\n",
       "\n",
       "    .dataframe thead th {\n",
       "        text-align: right;\n",
       "    }\n",
       "</style>\n",
       "<table border=\"1\" class=\"dataframe\">\n",
       "  <thead>\n",
       "    <tr style=\"text-align: right;\">\n",
       "      <th></th>\n",
       "      <th>W</th>\n",
       "      <th>X</th>\n",
       "      <th>Y</th>\n",
       "      <th>Z</th>\n",
       "    </tr>\n",
       "  </thead>\n",
       "  <tbody>\n",
       "    <tr>\n",
       "      <th>A</th>\n",
       "      <td>0.225615</td>\n",
       "      <td>0.189515</td>\n",
       "      <td>0.473165</td>\n",
       "      <td>0.703948</td>\n",
       "    </tr>\n",
       "    <tr>\n",
       "      <th>B</th>\n",
       "      <td>0.582447</td>\n",
       "      <td>0.273542</td>\n",
       "      <td>0.589021</td>\n",
       "      <td>0.624784</td>\n",
       "    </tr>\n",
       "    <tr>\n",
       "      <th>C</th>\n",
       "      <td>0.432947</td>\n",
       "      <td>0.271020</td>\n",
       "      <td>0.934636</td>\n",
       "      <td>0.113623</td>\n",
       "    </tr>\n",
       "    <tr>\n",
       "      <th>D</th>\n",
       "      <td>0.593901</td>\n",
       "      <td>0.094061</td>\n",
       "      <td>0.578009</td>\n",
       "      <td>0.652446</td>\n",
       "    </tr>\n",
       "    <tr>\n",
       "      <th>E</th>\n",
       "      <td>0.949323</td>\n",
       "      <td>0.708650</td>\n",
       "      <td>0.984457</td>\n",
       "      <td>0.093601</td>\n",
       "    </tr>\n",
       "  </tbody>\n",
       "</table>\n",
       "</div>"
      ],
      "text/plain": [
       "          W         X         Y         Z\n",
       "A  0.225615  0.189515  0.473165  0.703948\n",
       "B  0.582447  0.273542  0.589021  0.624784\n",
       "C  0.432947  0.271020  0.934636  0.113623\n",
       "D  0.593901  0.094061  0.578009  0.652446\n",
       "E  0.949323  0.708650  0.984457  0.093601"
      ]
     },
     "execution_count": 28,
     "metadata": {},
     "output_type": "execute_result"
    }
   ],
   "source": [
    "df2.drop('V', axis = 1)#برای حدف یک ستون اینجوری عمل میکنیم"
   ]
  },
  {
   "cell_type": "code",
   "execution_count": 26,
   "metadata": {},
   "outputs": [
    {
     "data": {
      "text/html": [
       "<div>\n",
       "<style scoped>\n",
       "    .dataframe tbody tr th:only-of-type {\n",
       "        vertical-align: middle;\n",
       "    }\n",
       "\n",
       "    .dataframe tbody tr th {\n",
       "        vertical-align: top;\n",
       "    }\n",
       "\n",
       "    .dataframe thead th {\n",
       "        text-align: right;\n",
       "    }\n",
       "</style>\n",
       "<table border=\"1\" class=\"dataframe\">\n",
       "  <thead>\n",
       "    <tr style=\"text-align: right;\">\n",
       "      <th></th>\n",
       "      <th>W</th>\n",
       "      <th>X</th>\n",
       "      <th>Y</th>\n",
       "      <th>Z</th>\n",
       "      <th>V</th>\n",
       "    </tr>\n",
       "  </thead>\n",
       "  <tbody>\n",
       "    <tr>\n",
       "      <th>A</th>\n",
       "      <td>0.166587</td>\n",
       "      <td>0.715351</td>\n",
       "      <td>0.217076</td>\n",
       "      <td>0.126516</td>\n",
       "      <td>0.293104</td>\n",
       "    </tr>\n",
       "    <tr>\n",
       "      <th>B</th>\n",
       "      <td>0.252823</td>\n",
       "      <td>0.962057</td>\n",
       "      <td>0.883406</td>\n",
       "      <td>0.350414</td>\n",
       "      <td>0.603237</td>\n",
       "    </tr>\n",
       "    <tr>\n",
       "      <th>C</th>\n",
       "      <td>0.939095</td>\n",
       "      <td>0.192483</td>\n",
       "      <td>0.324259</td>\n",
       "      <td>0.506747</td>\n",
       "      <td>1.445842</td>\n",
       "    </tr>\n",
       "    <tr>\n",
       "      <th>D</th>\n",
       "      <td>0.267942</td>\n",
       "      <td>0.590729</td>\n",
       "      <td>0.987100</td>\n",
       "      <td>0.601688</td>\n",
       "      <td>0.869630</td>\n",
       "    </tr>\n",
       "    <tr>\n",
       "      <th>E</th>\n",
       "      <td>0.782995</td>\n",
       "      <td>0.617953</td>\n",
       "      <td>0.624435</td>\n",
       "      <td>0.086049</td>\n",
       "      <td>0.869044</td>\n",
       "    </tr>\n",
       "  </tbody>\n",
       "</table>\n",
       "</div>"
      ],
      "text/plain": [
       "          W         X         Y         Z         V\n",
       "A  0.166587  0.715351  0.217076  0.126516  0.293104\n",
       "B  0.252823  0.962057  0.883406  0.350414  0.603237\n",
       "C  0.939095  0.192483  0.324259  0.506747  1.445842\n",
       "D  0.267942  0.590729  0.987100  0.601688  0.869630\n",
       "E  0.782995  0.617953  0.624435  0.086049  0.869044"
      ]
     },
     "execution_count": 26,
     "metadata": {},
     "output_type": "execute_result"
    }
   ],
   "source": [
    "df2"
   ]
  },
  {
   "cell_type": "markdown",
   "metadata": {},
   "source": [
    "<div class = \"norm_fa\">\n",
    "دستور drop  فریم رو تغییر نمیده و یک فریم جدید ایجاد میکنه. برای اعمال تغییر در فریم از پارامتر inplace  استفاده میکنیم.\n",
    "</div>"
   ]
  },
  {
   "cell_type": "code",
   "execution_count": 29,
   "metadata": {},
   "outputs": [
    {
     "data": {
      "text/html": [
       "<div>\n",
       "<style scoped>\n",
       "    .dataframe tbody tr th:only-of-type {\n",
       "        vertical-align: middle;\n",
       "    }\n",
       "\n",
       "    .dataframe tbody tr th {\n",
       "        vertical-align: top;\n",
       "    }\n",
       "\n",
       "    .dataframe thead th {\n",
       "        text-align: right;\n",
       "    }\n",
       "</style>\n",
       "<table border=\"1\" class=\"dataframe\">\n",
       "  <thead>\n",
       "    <tr style=\"text-align: right;\">\n",
       "      <th></th>\n",
       "      <th>W</th>\n",
       "      <th>X</th>\n",
       "      <th>Y</th>\n",
       "      <th>Z</th>\n",
       "    </tr>\n",
       "  </thead>\n",
       "  <tbody>\n",
       "    <tr>\n",
       "      <th>A</th>\n",
       "      <td>0.225615</td>\n",
       "      <td>0.189515</td>\n",
       "      <td>0.473165</td>\n",
       "      <td>0.703948</td>\n",
       "    </tr>\n",
       "    <tr>\n",
       "      <th>B</th>\n",
       "      <td>0.582447</td>\n",
       "      <td>0.273542</td>\n",
       "      <td>0.589021</td>\n",
       "      <td>0.624784</td>\n",
       "    </tr>\n",
       "    <tr>\n",
       "      <th>C</th>\n",
       "      <td>0.432947</td>\n",
       "      <td>0.271020</td>\n",
       "      <td>0.934636</td>\n",
       "      <td>0.113623</td>\n",
       "    </tr>\n",
       "    <tr>\n",
       "      <th>D</th>\n",
       "      <td>0.593901</td>\n",
       "      <td>0.094061</td>\n",
       "      <td>0.578009</td>\n",
       "      <td>0.652446</td>\n",
       "    </tr>\n",
       "    <tr>\n",
       "      <th>E</th>\n",
       "      <td>0.949323</td>\n",
       "      <td>0.708650</td>\n",
       "      <td>0.984457</td>\n",
       "      <td>0.093601</td>\n",
       "    </tr>\n",
       "  </tbody>\n",
       "</table>\n",
       "</div>"
      ],
      "text/plain": [
       "          W         X         Y         Z\n",
       "A  0.225615  0.189515  0.473165  0.703948\n",
       "B  0.582447  0.273542  0.589021  0.624784\n",
       "C  0.432947  0.271020  0.934636  0.113623\n",
       "D  0.593901  0.094061  0.578009  0.652446\n",
       "E  0.949323  0.708650  0.984457  0.093601"
      ]
     },
     "execution_count": 29,
     "metadata": {},
     "output_type": "execute_result"
    }
   ],
   "source": [
    "df2.drop('V', axis = 1, inplace = True)\n",
    "df2"
   ]
  },
  {
   "cell_type": "markdown",
   "metadata": {},
   "source": [
    "<div class = \"norm_fa\">\n",
    "با استفاده از تابع loc علاوه بر اندیس، میتونیم اطلاعات ستون رو هم استخراج کنیم.\n",
    "</div>"
   ]
  },
  {
   "cell_type": "code",
   "execution_count": 29,
   "metadata": {},
   "outputs": [
    {
     "data": {
      "text/plain": [
       "0.3785164119159655"
      ]
     },
     "execution_count": 29,
     "metadata": {},
     "output_type": "execute_result"
    }
   ],
   "source": [
    "df1.loc[1,1]"
   ]
  },
  {
   "cell_type": "code",
   "execution_count": 30,
   "metadata": {},
   "outputs": [
    {
     "data": {
      "text/plain": [
       "0.8834059557125001"
      ]
     },
     "execution_count": 30,
     "metadata": {},
     "output_type": "execute_result"
    }
   ],
   "source": [
    "df2.loc['B','Y']"
   ]
  },
  {
   "cell_type": "code",
   "execution_count": 37,
   "metadata": {},
   "outputs": [
    {
     "data": {
      "text/html": [
       "<div>\n",
       "<style scoped>\n",
       "    .dataframe tbody tr th:only-of-type {\n",
       "        vertical-align: middle;\n",
       "    }\n",
       "\n",
       "    .dataframe tbody tr th {\n",
       "        vertical-align: top;\n",
       "    }\n",
       "\n",
       "    .dataframe thead th {\n",
       "        text-align: right;\n",
       "    }\n",
       "</style>\n",
       "<table border=\"1\" class=\"dataframe\">\n",
       "  <thead>\n",
       "    <tr style=\"text-align: right;\">\n",
       "      <th></th>\n",
       "      <th>X</th>\n",
       "      <th>Y</th>\n",
       "    </tr>\n",
       "  </thead>\n",
       "  <tbody>\n",
       "    <tr>\n",
       "      <th>A</th>\n",
       "      <td>0.715351</td>\n",
       "      <td>0.217076</td>\n",
       "    </tr>\n",
       "    <tr>\n",
       "      <th>B</th>\n",
       "      <td>0.962057</td>\n",
       "      <td>0.883406</td>\n",
       "    </tr>\n",
       "  </tbody>\n",
       "</table>\n",
       "</div>"
      ],
      "text/plain": [
       "          X         Y\n",
       "A  0.715351  0.217076\n",
       "B  0.962057  0.883406"
      ]
     },
     "execution_count": 37,
     "metadata": {},
     "output_type": "execute_result"
    }
   ],
   "source": [
    "df2.loc[['A', 'B'], ['X', 'Y']]#چند سطر و چند ستون با هم"
   ]
  },
  {
   "cell_type": "code",
   "execution_count": 36,
   "metadata": {},
   "outputs": [
    {
     "data": {
      "text/html": [
       "<div>\n",
       "<style scoped>\n",
       "    .dataframe tbody tr th:only-of-type {\n",
       "        vertical-align: middle;\n",
       "    }\n",
       "\n",
       "    .dataframe tbody tr th {\n",
       "        vertical-align: top;\n",
       "    }\n",
       "\n",
       "    .dataframe thead th {\n",
       "        text-align: right;\n",
       "    }\n",
       "</style>\n",
       "<table border=\"1\" class=\"dataframe\">\n",
       "  <thead>\n",
       "    <tr style=\"text-align: right;\">\n",
       "      <th></th>\n",
       "      <th>1</th>\n",
       "      <th>2</th>\n",
       "      <th>3</th>\n",
       "    </tr>\n",
       "  </thead>\n",
       "  <tbody>\n",
       "    <tr>\n",
       "      <th>2</th>\n",
       "      <td>0.905211</td>\n",
       "      <td>0.880002</td>\n",
       "      <td>0.282040</td>\n",
       "    </tr>\n",
       "    <tr>\n",
       "      <th>3</th>\n",
       "      <td>0.890877</td>\n",
       "      <td>0.122479</td>\n",
       "      <td>0.923550</td>\n",
       "    </tr>\n",
       "    <tr>\n",
       "      <th>4</th>\n",
       "      <td>0.311494</td>\n",
       "      <td>0.689725</td>\n",
       "      <td>0.771628</td>\n",
       "    </tr>\n",
       "  </tbody>\n",
       "</table>\n",
       "</div>"
      ],
      "text/plain": [
       "          1         2         3\n",
       "2  0.905211  0.880002  0.282040\n",
       "3  0.890877  0.122479  0.923550\n",
       "4  0.311494  0.689725  0.771628"
      ]
     },
     "execution_count": 36,
     "metadata": {},
     "output_type": "execute_result"
    }
   ],
   "source": [
    "df1.loc[2:,1:]#استفاده از اسلایس ها-سطر 2 تا آخر و ستون 1 تا آخر"
   ]
  },
  {
   "cell_type": "code",
   "execution_count": 38,
   "metadata": {},
   "outputs": [
    {
     "data": {
      "text/html": [
       "<div>\n",
       "<style scoped>\n",
       "    .dataframe tbody tr th:only-of-type {\n",
       "        vertical-align: middle;\n",
       "    }\n",
       "\n",
       "    .dataframe tbody tr th {\n",
       "        vertical-align: top;\n",
       "    }\n",
       "\n",
       "    .dataframe thead th {\n",
       "        text-align: right;\n",
       "    }\n",
       "</style>\n",
       "<table border=\"1\" class=\"dataframe\">\n",
       "  <thead>\n",
       "    <tr style=\"text-align: right;\">\n",
       "      <th></th>\n",
       "      <th>W</th>\n",
       "      <th>X</th>\n",
       "      <th>Y</th>\n",
       "      <th>Z</th>\n",
       "      <th>V</th>\n",
       "    </tr>\n",
       "  </thead>\n",
       "  <tbody>\n",
       "    <tr>\n",
       "      <th>A</th>\n",
       "      <td>False</td>\n",
       "      <td>True</td>\n",
       "      <td>False</td>\n",
       "      <td>False</td>\n",
       "      <td>False</td>\n",
       "    </tr>\n",
       "    <tr>\n",
       "      <th>B</th>\n",
       "      <td>False</td>\n",
       "      <td>True</td>\n",
       "      <td>True</td>\n",
       "      <td>False</td>\n",
       "      <td>True</td>\n",
       "    </tr>\n",
       "    <tr>\n",
       "      <th>C</th>\n",
       "      <td>True</td>\n",
       "      <td>False</td>\n",
       "      <td>False</td>\n",
       "      <td>True</td>\n",
       "      <td>True</td>\n",
       "    </tr>\n",
       "    <tr>\n",
       "      <th>D</th>\n",
       "      <td>False</td>\n",
       "      <td>True</td>\n",
       "      <td>True</td>\n",
       "      <td>True</td>\n",
       "      <td>True</td>\n",
       "    </tr>\n",
       "    <tr>\n",
       "      <th>E</th>\n",
       "      <td>True</td>\n",
       "      <td>True</td>\n",
       "      <td>True</td>\n",
       "      <td>False</td>\n",
       "      <td>True</td>\n",
       "    </tr>\n",
       "  </tbody>\n",
       "</table>\n",
       "</div>"
      ],
      "text/plain": [
       "       W      X      Y      Z      V\n",
       "A  False   True  False  False  False\n",
       "B  False   True   True  False   True\n",
       "C   True  False  False   True   True\n",
       "D  False   True   True   True   True\n",
       "E   True   True   True  False   True"
      ]
     },
     "execution_count": 38,
     "metadata": {},
     "output_type": "execute_result"
    }
   ],
   "source": [
    "booldf = df2 > 0.5#کدام عناصر فریم از 0.5 بزرگتر هستند\n",
    "booldf"
   ]
  },
  {
   "cell_type": "markdown",
   "metadata": {},
   "source": [
    "<div class = \"norm_fa\">\n",
    "اگر بخواهیم عناصری را که بزرگتر از 0.5 هستند را نشون بدیم از شرط مرحله قبل داخل عملگر [] استفاده می‌کنیم. عناصری که در شرط صدق نکنند با NaN نمایش داده می‌شوند. NaN رو میتونیم معادل یک سلول خالی در اکسل در نظر بگیریم.\n",
    "</div>"
   ]
  },
  {
   "cell_type": "code",
   "execution_count": 39,
   "metadata": {},
   "outputs": [
    {
     "data": {
      "text/html": [
       "<div>\n",
       "<style scoped>\n",
       "    .dataframe tbody tr th:only-of-type {\n",
       "        vertical-align: middle;\n",
       "    }\n",
       "\n",
       "    .dataframe tbody tr th {\n",
       "        vertical-align: top;\n",
       "    }\n",
       "\n",
       "    .dataframe thead th {\n",
       "        text-align: right;\n",
       "    }\n",
       "</style>\n",
       "<table border=\"1\" class=\"dataframe\">\n",
       "  <thead>\n",
       "    <tr style=\"text-align: right;\">\n",
       "      <th></th>\n",
       "      <th>W</th>\n",
       "      <th>X</th>\n",
       "      <th>Y</th>\n",
       "      <th>Z</th>\n",
       "      <th>V</th>\n",
       "    </tr>\n",
       "  </thead>\n",
       "  <tbody>\n",
       "    <tr>\n",
       "      <th>A</th>\n",
       "      <td>NaN</td>\n",
       "      <td>0.715351</td>\n",
       "      <td>NaN</td>\n",
       "      <td>NaN</td>\n",
       "      <td>NaN</td>\n",
       "    </tr>\n",
       "    <tr>\n",
       "      <th>B</th>\n",
       "      <td>NaN</td>\n",
       "      <td>0.962057</td>\n",
       "      <td>0.883406</td>\n",
       "      <td>NaN</td>\n",
       "      <td>0.603237</td>\n",
       "    </tr>\n",
       "    <tr>\n",
       "      <th>C</th>\n",
       "      <td>0.939095</td>\n",
       "      <td>NaN</td>\n",
       "      <td>NaN</td>\n",
       "      <td>0.506747</td>\n",
       "      <td>1.445842</td>\n",
       "    </tr>\n",
       "    <tr>\n",
       "      <th>D</th>\n",
       "      <td>NaN</td>\n",
       "      <td>0.590729</td>\n",
       "      <td>0.987100</td>\n",
       "      <td>0.601688</td>\n",
       "      <td>0.869630</td>\n",
       "    </tr>\n",
       "    <tr>\n",
       "      <th>E</th>\n",
       "      <td>0.782995</td>\n",
       "      <td>0.617953</td>\n",
       "      <td>0.624435</td>\n",
       "      <td>NaN</td>\n",
       "      <td>0.869044</td>\n",
       "    </tr>\n",
       "  </tbody>\n",
       "</table>\n",
       "</div>"
      ],
      "text/plain": [
       "          W         X         Y         Z         V\n",
       "A       NaN  0.715351       NaN       NaN       NaN\n",
       "B       NaN  0.962057  0.883406       NaN  0.603237\n",
       "C  0.939095       NaN       NaN  0.506747  1.445842\n",
       "D       NaN  0.590729  0.987100  0.601688  0.869630\n",
       "E  0.782995  0.617953  0.624435       NaN  0.869044"
      ]
     },
     "execution_count": 39,
     "metadata": {},
     "output_type": "execute_result"
    }
   ],
   "source": [
    "df2[df2 > 0.5]"
   ]
  },
  {
   "cell_type": "markdown",
   "metadata": {},
   "source": [
    "<div class = \"norm_fa\">\n",
    "شرط رو میتونیم برای یک ستون هم بنویسیم. مثلا اگر بخوایم اون اندیس هایی از فریم که در ستون W بزرگتر از 0.5 هستند رو داشته باشیم، می‌نویسیم:\n",
    "</div>"
   ]
  },
  {
   "cell_type": "code",
   "execution_count": 36,
   "metadata": {},
   "outputs": [
    {
     "data": {
      "text/html": [
       "<div>\n",
       "<style scoped>\n",
       "    .dataframe tbody tr th:only-of-type {\n",
       "        vertical-align: middle;\n",
       "    }\n",
       "\n",
       "    .dataframe tbody tr th {\n",
       "        vertical-align: top;\n",
       "    }\n",
       "\n",
       "    .dataframe thead th {\n",
       "        text-align: right;\n",
       "    }\n",
       "</style>\n",
       "<table border=\"1\" class=\"dataframe\">\n",
       "  <thead>\n",
       "    <tr style=\"text-align: right;\">\n",
       "      <th></th>\n",
       "      <th>W</th>\n",
       "      <th>X</th>\n",
       "      <th>Y</th>\n",
       "      <th>Z</th>\n",
       "    </tr>\n",
       "  </thead>\n",
       "  <tbody>\n",
       "    <tr>\n",
       "      <th>B</th>\n",
       "      <td>0.582447</td>\n",
       "      <td>0.273542</td>\n",
       "      <td>0.589021</td>\n",
       "      <td>0.624784</td>\n",
       "    </tr>\n",
       "    <tr>\n",
       "      <th>D</th>\n",
       "      <td>0.593901</td>\n",
       "      <td>0.094061</td>\n",
       "      <td>0.578009</td>\n",
       "      <td>0.652446</td>\n",
       "    </tr>\n",
       "    <tr>\n",
       "      <th>E</th>\n",
       "      <td>0.949323</td>\n",
       "      <td>0.708650</td>\n",
       "      <td>0.984457</td>\n",
       "      <td>0.093601</td>\n",
       "    </tr>\n",
       "  </tbody>\n",
       "</table>\n",
       "</div>"
      ],
      "text/plain": [
       "          W         X         Y         Z\n",
       "B  0.582447  0.273542  0.589021  0.624784\n",
       "D  0.593901  0.094061  0.578009  0.652446\n",
       "E  0.949323  0.708650  0.984457  0.093601"
      ]
     },
     "execution_count": 36,
     "metadata": {},
     "output_type": "execute_result"
    }
   ],
   "source": [
    "df2[df2['W'] > 0.5]#عناصری از فریم که مقادیر فقط یک ستون بزرگتر از 0.5 است"
   ]
  },
  {
   "cell_type": "markdown",
   "metadata": {},
   "source": [
    "<div class = \"norm_fa\">\n",
    "شرط‌ها رو میشه با هم ترکیب کرد. فقط به جای and و or، باید از & و | استفاده کنیم:\n",
    "</div>"
   ]
  },
  {
   "cell_type": "code",
   "execution_count": 37,
   "metadata": {},
   "outputs": [
    {
     "data": {
      "text/html": [
       "<div>\n",
       "<style scoped>\n",
       "    .dataframe tbody tr th:only-of-type {\n",
       "        vertical-align: middle;\n",
       "    }\n",
       "\n",
       "    .dataframe tbody tr th {\n",
       "        vertical-align: top;\n",
       "    }\n",
       "\n",
       "    .dataframe thead th {\n",
       "        text-align: right;\n",
       "    }\n",
       "</style>\n",
       "<table border=\"1\" class=\"dataframe\">\n",
       "  <thead>\n",
       "    <tr style=\"text-align: right;\">\n",
       "      <th></th>\n",
       "      <th>W</th>\n",
       "      <th>X</th>\n",
       "      <th>Y</th>\n",
       "      <th>Z</th>\n",
       "    </tr>\n",
       "  </thead>\n",
       "  <tbody>\n",
       "  </tbody>\n",
       "</table>\n",
       "</div>"
      ],
      "text/plain": [
       "Empty DataFrame\n",
       "Columns: [W, X, Y, Z]\n",
       "Index: []"
      ]
     },
     "execution_count": 37,
     "metadata": {},
     "output_type": "execute_result"
    }
   ],
   "source": [
    "df2[(df2['W'] > 0.5) & (df2['Y'] < 0.5)] #python and cannot work"
   ]
  },
  {
   "cell_type": "code",
   "execution_count": 38,
   "metadata": {},
   "outputs": [
    {
     "data": {
      "text/html": [
       "<div>\n",
       "<style scoped>\n",
       "    .dataframe tbody tr th:only-of-type {\n",
       "        vertical-align: middle;\n",
       "    }\n",
       "\n",
       "    .dataframe tbody tr th {\n",
       "        vertical-align: top;\n",
       "    }\n",
       "\n",
       "    .dataframe thead th {\n",
       "        text-align: right;\n",
       "    }\n",
       "</style>\n",
       "<table border=\"1\" class=\"dataframe\">\n",
       "  <thead>\n",
       "    <tr style=\"text-align: right;\">\n",
       "      <th></th>\n",
       "      <th>W</th>\n",
       "      <th>X</th>\n",
       "      <th>Y</th>\n",
       "      <th>Z</th>\n",
       "    </tr>\n",
       "  </thead>\n",
       "  <tbody>\n",
       "    <tr>\n",
       "      <th>B</th>\n",
       "      <td>0.582447</td>\n",
       "      <td>0.273542</td>\n",
       "      <td>0.589021</td>\n",
       "      <td>0.624784</td>\n",
       "    </tr>\n",
       "    <tr>\n",
       "      <th>C</th>\n",
       "      <td>0.432947</td>\n",
       "      <td>0.271020</td>\n",
       "      <td>0.934636</td>\n",
       "      <td>0.113623</td>\n",
       "    </tr>\n",
       "    <tr>\n",
       "      <th>D</th>\n",
       "      <td>0.593901</td>\n",
       "      <td>0.094061</td>\n",
       "      <td>0.578009</td>\n",
       "      <td>0.652446</td>\n",
       "    </tr>\n",
       "    <tr>\n",
       "      <th>E</th>\n",
       "      <td>0.949323</td>\n",
       "      <td>0.708650</td>\n",
       "      <td>0.984457</td>\n",
       "      <td>0.093601</td>\n",
       "    </tr>\n",
       "  </tbody>\n",
       "</table>\n",
       "</div>"
      ],
      "text/plain": [
       "          W         X         Y         Z\n",
       "B  0.582447  0.273542  0.589021  0.624784\n",
       "C  0.432947  0.271020  0.934636  0.113623\n",
       "D  0.593901  0.094061  0.578009  0.652446\n",
       "E  0.949323  0.708650  0.984457  0.093601"
      ]
     },
     "execution_count": 38,
     "metadata": {},
     "output_type": "execute_result"
    }
   ],
   "source": [
    "df2[(df2['W'] > 0.5) | (df2['Z'] < 0.5)]"
   ]
  },
  {
   "cell_type": "markdown",
   "metadata": {},
   "source": [
    "<div class = \"norm_fa\">\n",
    "با استفاده از تابع reset_index اندیس ها حذف شده و به یک ستون عادی با نام index در فریم تبدیل می‌شوند. این تابع هم یک فریم جدید برمی‌گردونه و برای اعمال درجا باید با پارامتر inplace=True صدا بشه.\n",
    "</div>"
   ]
  },
  {
   "cell_type": "code",
   "execution_count": 39,
   "metadata": {},
   "outputs": [
    {
     "data": {
      "text/html": [
       "<div>\n",
       "<style scoped>\n",
       "    .dataframe tbody tr th:only-of-type {\n",
       "        vertical-align: middle;\n",
       "    }\n",
       "\n",
       "    .dataframe tbody tr th {\n",
       "        vertical-align: top;\n",
       "    }\n",
       "\n",
       "    .dataframe thead th {\n",
       "        text-align: right;\n",
       "    }\n",
       "</style>\n",
       "<table border=\"1\" class=\"dataframe\">\n",
       "  <thead>\n",
       "    <tr style=\"text-align: right;\">\n",
       "      <th></th>\n",
       "      <th>index</th>\n",
       "      <th>W</th>\n",
       "      <th>X</th>\n",
       "      <th>Y</th>\n",
       "      <th>Z</th>\n",
       "    </tr>\n",
       "  </thead>\n",
       "  <tbody>\n",
       "    <tr>\n",
       "      <th>0</th>\n",
       "      <td>A</td>\n",
       "      <td>0.225615</td>\n",
       "      <td>0.189515</td>\n",
       "      <td>0.473165</td>\n",
       "      <td>0.703948</td>\n",
       "    </tr>\n",
       "    <tr>\n",
       "      <th>1</th>\n",
       "      <td>B</td>\n",
       "      <td>0.582447</td>\n",
       "      <td>0.273542</td>\n",
       "      <td>0.589021</td>\n",
       "      <td>0.624784</td>\n",
       "    </tr>\n",
       "    <tr>\n",
       "      <th>2</th>\n",
       "      <td>C</td>\n",
       "      <td>0.432947</td>\n",
       "      <td>0.271020</td>\n",
       "      <td>0.934636</td>\n",
       "      <td>0.113623</td>\n",
       "    </tr>\n",
       "    <tr>\n",
       "      <th>3</th>\n",
       "      <td>D</td>\n",
       "      <td>0.593901</td>\n",
       "      <td>0.094061</td>\n",
       "      <td>0.578009</td>\n",
       "      <td>0.652446</td>\n",
       "    </tr>\n",
       "    <tr>\n",
       "      <th>4</th>\n",
       "      <td>E</td>\n",
       "      <td>0.949323</td>\n",
       "      <td>0.708650</td>\n",
       "      <td>0.984457</td>\n",
       "      <td>0.093601</td>\n",
       "    </tr>\n",
       "  </tbody>\n",
       "</table>\n",
       "</div>"
      ],
      "text/plain": [
       "  index         W         X         Y         Z\n",
       "0     A  0.225615  0.189515  0.473165  0.703948\n",
       "1     B  0.582447  0.273542  0.589021  0.624784\n",
       "2     C  0.432947  0.271020  0.934636  0.113623\n",
       "3     D  0.593901  0.094061  0.578009  0.652446\n",
       "4     E  0.949323  0.708650  0.984457  0.093601"
      ]
     },
     "execution_count": 39,
     "metadata": {},
     "output_type": "execute_result"
    }
   ],
   "source": [
    "df2.reset_index()"
   ]
  },
  {
   "cell_type": "code",
   "execution_count": 64,
   "metadata": {},
   "outputs": [
    {
     "data": {
      "text/html": [
       "<div>\n",
       "<style scoped>\n",
       "    .dataframe tbody tr th:only-of-type {\n",
       "        vertical-align: middle;\n",
       "    }\n",
       "\n",
       "    .dataframe tbody tr th {\n",
       "        vertical-align: top;\n",
       "    }\n",
       "\n",
       "    .dataframe thead th {\n",
       "        text-align: right;\n",
       "    }\n",
       "</style>\n",
       "<table border=\"1\" class=\"dataframe\">\n",
       "  <thead>\n",
       "    <tr style=\"text-align: right;\">\n",
       "      <th></th>\n",
       "      <th>W</th>\n",
       "      <th>X</th>\n",
       "      <th>Y</th>\n",
       "      <th>Z</th>\n",
       "      <th>states</th>\n",
       "    </tr>\n",
       "  </thead>\n",
       "  <tbody>\n",
       "    <tr>\n",
       "      <th>A</th>\n",
       "      <td>0.969068</td>\n",
       "      <td>0.122532</td>\n",
       "      <td>0.300891</td>\n",
       "      <td>0.357402</td>\n",
       "      <td>Tehran</td>\n",
       "    </tr>\n",
       "    <tr>\n",
       "      <th>B</th>\n",
       "      <td>0.831540</td>\n",
       "      <td>0.035915</td>\n",
       "      <td>0.442599</td>\n",
       "      <td>0.289753</td>\n",
       "      <td>Isfahan</td>\n",
       "    </tr>\n",
       "    <tr>\n",
       "      <th>C</th>\n",
       "      <td>0.370742</td>\n",
       "      <td>0.520266</td>\n",
       "      <td>0.355825</td>\n",
       "      <td>0.116895</td>\n",
       "      <td>Tabriz</td>\n",
       "    </tr>\n",
       "    <tr>\n",
       "      <th>D</th>\n",
       "      <td>0.055074</td>\n",
       "      <td>0.681080</td>\n",
       "      <td>0.537658</td>\n",
       "      <td>0.993881</td>\n",
       "      <td>Mashhad</td>\n",
       "    </tr>\n",
       "    <tr>\n",
       "      <th>E</th>\n",
       "      <td>0.653579</td>\n",
       "      <td>0.591353</td>\n",
       "      <td>0.680386</td>\n",
       "      <td>0.289613</td>\n",
       "      <td>Shiraz</td>\n",
       "    </tr>\n",
       "  </tbody>\n",
       "</table>\n",
       "</div>"
      ],
      "text/plain": [
       "          W         X         Y         Z   states\n",
       "A  0.969068  0.122532  0.300891  0.357402   Tehran\n",
       "B  0.831540  0.035915  0.442599  0.289753  Isfahan\n",
       "C  0.370742  0.520266  0.355825  0.116895   Tabriz\n",
       "D  0.055074  0.681080  0.537658  0.993881  Mashhad\n",
       "E  0.653579  0.591353  0.680386  0.289613   Shiraz"
      ]
     },
     "execution_count": 64,
     "metadata": {},
     "output_type": "execute_result"
    }
   ],
   "source": [
    "df2['states'] = ['Tehran', 'Isfahan', 'Tabriz', 'Mashhad', 'Shiraz']#اضافه کردن یک ستون جدید\n",
    "df2"
   ]
  },
  {
   "cell_type": "markdown",
   "metadata": {},
   "source": [
    "<div class = \"norm_fa\">\n",
    "برای تبدیل یک ستون به اندیس از تابع set_index به همراه نام ستون استفاده می‌کنیم:\n",
    "</div>"
   ]
  },
  {
   "cell_type": "code",
   "execution_count": 65,
   "metadata": {},
   "outputs": [
    {
     "data": {
      "text/html": [
       "<div>\n",
       "<style scoped>\n",
       "    .dataframe tbody tr th:only-of-type {\n",
       "        vertical-align: middle;\n",
       "    }\n",
       "\n",
       "    .dataframe tbody tr th {\n",
       "        vertical-align: top;\n",
       "    }\n",
       "\n",
       "    .dataframe thead th {\n",
       "        text-align: right;\n",
       "    }\n",
       "</style>\n",
       "<table border=\"1\" class=\"dataframe\">\n",
       "  <thead>\n",
       "    <tr style=\"text-align: right;\">\n",
       "      <th></th>\n",
       "      <th>W</th>\n",
       "      <th>X</th>\n",
       "      <th>Y</th>\n",
       "      <th>Z</th>\n",
       "    </tr>\n",
       "    <tr>\n",
       "      <th>states</th>\n",
       "      <th></th>\n",
       "      <th></th>\n",
       "      <th></th>\n",
       "      <th></th>\n",
       "    </tr>\n",
       "  </thead>\n",
       "  <tbody>\n",
       "    <tr>\n",
       "      <th>Tehran</th>\n",
       "      <td>0.969068</td>\n",
       "      <td>0.122532</td>\n",
       "      <td>0.300891</td>\n",
       "      <td>0.357402</td>\n",
       "    </tr>\n",
       "    <tr>\n",
       "      <th>Isfahan</th>\n",
       "      <td>0.831540</td>\n",
       "      <td>0.035915</td>\n",
       "      <td>0.442599</td>\n",
       "      <td>0.289753</td>\n",
       "    </tr>\n",
       "    <tr>\n",
       "      <th>Tabriz</th>\n",
       "      <td>0.370742</td>\n",
       "      <td>0.520266</td>\n",
       "      <td>0.355825</td>\n",
       "      <td>0.116895</td>\n",
       "    </tr>\n",
       "    <tr>\n",
       "      <th>Mashhad</th>\n",
       "      <td>0.055074</td>\n",
       "      <td>0.681080</td>\n",
       "      <td>0.537658</td>\n",
       "      <td>0.993881</td>\n",
       "    </tr>\n",
       "    <tr>\n",
       "      <th>Shiraz</th>\n",
       "      <td>0.653579</td>\n",
       "      <td>0.591353</td>\n",
       "      <td>0.680386</td>\n",
       "      <td>0.289613</td>\n",
       "    </tr>\n",
       "  </tbody>\n",
       "</table>\n",
       "</div>"
      ],
      "text/plain": [
       "                W         X         Y         Z\n",
       "states                                         \n",
       "Tehran   0.969068  0.122532  0.300891  0.357402\n",
       "Isfahan  0.831540  0.035915  0.442599  0.289753\n",
       "Tabriz   0.370742  0.520266  0.355825  0.116895\n",
       "Mashhad  0.055074  0.681080  0.537658  0.993881\n",
       "Shiraz   0.653579  0.591353  0.680386  0.289613"
      ]
     },
     "execution_count": 65,
     "metadata": {},
     "output_type": "execute_result"
    }
   ],
   "source": [
    "df2.set_index('states')"
   ]
  },
  {
   "cell_type": "code",
   "execution_count": 69,
   "metadata": {},
   "outputs": [
    {
     "data": {
      "text/html": [
       "<div>\n",
       "<style scoped>\n",
       "    .dataframe tbody tr th:only-of-type {\n",
       "        vertical-align: middle;\n",
       "    }\n",
       "\n",
       "    .dataframe tbody tr th {\n",
       "        vertical-align: top;\n",
       "    }\n",
       "\n",
       "    .dataframe thead th {\n",
       "        text-align: right;\n",
       "    }\n",
       "</style>\n",
       "<table border=\"1\" class=\"dataframe\">\n",
       "  <thead>\n",
       "    <tr style=\"text-align: right;\">\n",
       "      <th></th>\n",
       "      <th>G</th>\n",
       "      <th>H</th>\n",
       "      <th>I</th>\n",
       "    </tr>\n",
       "  </thead>\n",
       "  <tbody>\n",
       "    <tr>\n",
       "      <th>0</th>\n",
       "      <td>1.0</td>\n",
       "      <td>3.0</td>\n",
       "      <td>4</td>\n",
       "    </tr>\n",
       "    <tr>\n",
       "      <th>1</th>\n",
       "      <td>2.0</td>\n",
       "      <td>NaN</td>\n",
       "      <td>5</td>\n",
       "    </tr>\n",
       "    <tr>\n",
       "      <th>2</th>\n",
       "      <td>NaN</td>\n",
       "      <td>NaN</td>\n",
       "      <td>6</td>\n",
       "    </tr>\n",
       "  </tbody>\n",
       "</table>\n",
       "</div>"
      ],
      "text/plain": [
       "     G    H  I\n",
       "0  1.0  3.0  4\n",
       "1  2.0  NaN  5\n",
       "2  NaN  NaN  6"
      ]
     },
     "execution_count": 69,
     "metadata": {},
     "output_type": "execute_result"
    }
   ],
   "source": [
    "df3 = pd.DataFrame({'G': [1,2,np.nan], 'H': [3,np.nan,np.nan], 'I': [4,5,6]})\n",
    "df3"
   ]
  },
  {
   "cell_type": "markdown",
   "metadata": {},
   "source": [
    "<div class = \"norm_fa\">\n",
    "با استفاده از تایع dropna می‌تونیم سطرها و ستونهای شامل NaN رو حذف کنیم. پارامتر axis مشخص می‌کنه که عملیات روی سطر، ستون با ابعاد بعدی فریم اعمال شود. پارامتر thresh مشخص میکنه که اگر اون سطر (یا ستون) بیشتر یا برابر از اون تعداد شامل NaN باشه حذف بشه:\n",
    "</div>"
   ]
  },
  {
   "cell_type": "code",
   "execution_count": 71,
   "metadata": {},
   "outputs": [
    {
     "data": {
      "text/html": [
       "<div>\n",
       "<style scoped>\n",
       "    .dataframe tbody tr th:only-of-type {\n",
       "        vertical-align: middle;\n",
       "    }\n",
       "\n",
       "    .dataframe tbody tr th {\n",
       "        vertical-align: top;\n",
       "    }\n",
       "\n",
       "    .dataframe thead th {\n",
       "        text-align: right;\n",
       "    }\n",
       "</style>\n",
       "<table border=\"1\" class=\"dataframe\">\n",
       "  <thead>\n",
       "    <tr style=\"text-align: right;\">\n",
       "      <th></th>\n",
       "      <th>G</th>\n",
       "      <th>H</th>\n",
       "      <th>I</th>\n",
       "    </tr>\n",
       "  </thead>\n",
       "  <tbody>\n",
       "    <tr>\n",
       "      <th>0</th>\n",
       "      <td>1.0</td>\n",
       "      <td>3.0</td>\n",
       "      <td>4</td>\n",
       "    </tr>\n",
       "  </tbody>\n",
       "</table>\n",
       "</div>"
      ],
      "text/plain": [
       "     G    H  I\n",
       "0  1.0  3.0  4"
      ]
     },
     "execution_count": 71,
     "metadata": {},
     "output_type": "execute_result"
    }
   ],
   "source": [
    "df3.dropna()#حذف سطرهای شامل اندیس بدون مقدار"
   ]
  },
  {
   "cell_type": "code",
   "execution_count": 72,
   "metadata": {},
   "outputs": [
    {
     "data": {
      "text/html": [
       "<div>\n",
       "<style scoped>\n",
       "    .dataframe tbody tr th:only-of-type {\n",
       "        vertical-align: middle;\n",
       "    }\n",
       "\n",
       "    .dataframe tbody tr th {\n",
       "        vertical-align: top;\n",
       "    }\n",
       "\n",
       "    .dataframe thead th {\n",
       "        text-align: right;\n",
       "    }\n",
       "</style>\n",
       "<table border=\"1\" class=\"dataframe\">\n",
       "  <thead>\n",
       "    <tr style=\"text-align: right;\">\n",
       "      <th></th>\n",
       "      <th>I</th>\n",
       "    </tr>\n",
       "  </thead>\n",
       "  <tbody>\n",
       "    <tr>\n",
       "      <th>0</th>\n",
       "      <td>4</td>\n",
       "    </tr>\n",
       "    <tr>\n",
       "      <th>1</th>\n",
       "      <td>5</td>\n",
       "    </tr>\n",
       "    <tr>\n",
       "      <th>2</th>\n",
       "      <td>6</td>\n",
       "    </tr>\n",
       "  </tbody>\n",
       "</table>\n",
       "</div>"
      ],
      "text/plain": [
       "   I\n",
       "0  4\n",
       "1  5\n",
       "2  6"
      ]
     },
     "execution_count": 72,
     "metadata": {},
     "output_type": "execute_result"
    }
   ],
   "source": [
    "df3.dropna(axis=1) #حذف ستونهای شامل اندیس بدون مقدار"
   ]
  },
  {
   "cell_type": "code",
   "execution_count": 74,
   "metadata": {},
   "outputs": [
    {
     "data": {
      "text/html": [
       "<div>\n",
       "<style scoped>\n",
       "    .dataframe tbody tr th:only-of-type {\n",
       "        vertical-align: middle;\n",
       "    }\n",
       "\n",
       "    .dataframe tbody tr th {\n",
       "        vertical-align: top;\n",
       "    }\n",
       "\n",
       "    .dataframe thead th {\n",
       "        text-align: right;\n",
       "    }\n",
       "</style>\n",
       "<table border=\"1\" class=\"dataframe\">\n",
       "  <thead>\n",
       "    <tr style=\"text-align: right;\">\n",
       "      <th></th>\n",
       "      <th>G</th>\n",
       "      <th>H</th>\n",
       "      <th>I</th>\n",
       "    </tr>\n",
       "  </thead>\n",
       "  <tbody>\n",
       "    <tr>\n",
       "      <th>0</th>\n",
       "      <td>1.0</td>\n",
       "      <td>3.0</td>\n",
       "      <td>4</td>\n",
       "    </tr>\n",
       "    <tr>\n",
       "      <th>1</th>\n",
       "      <td>2.0</td>\n",
       "      <td>NaN</td>\n",
       "      <td>5</td>\n",
       "    </tr>\n",
       "  </tbody>\n",
       "</table>\n",
       "</div>"
      ],
      "text/plain": [
       "     G    H  I\n",
       "0  1.0  3.0  4\n",
       "1  2.0  NaN  5"
      ]
     },
     "execution_count": 74,
     "metadata": {},
     "output_type": "execute_result"
    }
   ],
   "source": [
    "df3.dropna(thresh=2)#س"
   ]
  },
  {
   "cell_type": "markdown",
   "metadata": {},
   "source": [
    "<div class = \"norm_fa\">\n",
    "با استفاده از تابع fillna میتونیم مقادیر NaN رو با یک مقدار دیگه جایگزین کنیم:\n",
    "</div>"
   ]
  },
  {
   "cell_type": "code",
   "execution_count": 75,
   "metadata": {},
   "outputs": [
    {
     "data": {
      "text/html": [
       "<div>\n",
       "<style scoped>\n",
       "    .dataframe tbody tr th:only-of-type {\n",
       "        vertical-align: middle;\n",
       "    }\n",
       "\n",
       "    .dataframe tbody tr th {\n",
       "        vertical-align: top;\n",
       "    }\n",
       "\n",
       "    .dataframe thead th {\n",
       "        text-align: right;\n",
       "    }\n",
       "</style>\n",
       "<table border=\"1\" class=\"dataframe\">\n",
       "  <thead>\n",
       "    <tr style=\"text-align: right;\">\n",
       "      <th></th>\n",
       "      <th>G</th>\n",
       "      <th>H</th>\n",
       "      <th>I</th>\n",
       "    </tr>\n",
       "  </thead>\n",
       "  <tbody>\n",
       "    <tr>\n",
       "      <th>0</th>\n",
       "      <td>1.0</td>\n",
       "      <td>3.0</td>\n",
       "      <td>4</td>\n",
       "    </tr>\n",
       "    <tr>\n",
       "      <th>1</th>\n",
       "      <td>2.0</td>\n",
       "      <td>0.0</td>\n",
       "      <td>5</td>\n",
       "    </tr>\n",
       "    <tr>\n",
       "      <th>2</th>\n",
       "      <td>0.0</td>\n",
       "      <td>0.0</td>\n",
       "      <td>6</td>\n",
       "    </tr>\n",
       "  </tbody>\n",
       "</table>\n",
       "</div>"
      ],
      "text/plain": [
       "     G    H  I\n",
       "0  1.0  3.0  4\n",
       "1  2.0  0.0  5\n",
       "2  0.0  0.0  6"
      ]
     },
     "execution_count": 75,
     "metadata": {},
     "output_type": "execute_result"
    }
   ],
   "source": [
    "df3.fillna(0)"
   ]
  },
  {
   "cell_type": "code",
   "execution_count": 77,
   "metadata": {},
   "outputs": [
    {
     "data": {
      "text/plain": [
       "0    1.0\n",
       "1    2.0\n",
       "2    1.5\n",
       "Name: G, dtype: float64"
      ]
     },
     "execution_count": 77,
     "metadata": {},
     "output_type": "execute_result"
    }
   ],
   "source": [
    "df3['G'].fillna(df3['G'].mean())#جایگزینی با میانیگین اون ستون"
   ]
  },
  {
   "cell_type": "markdown",
   "metadata": {},
   "source": [
    "<div class = \"norm_fa\">\n",
    "مطلب بعدی راجع به گروه بندیه و با تابع groupby انجام میشه.\n",
    "</div>"
   ]
  },
  {
   "cell_type": "code",
   "execution_count": 40,
   "metadata": {},
   "outputs": [
    {
     "data": {
      "text/html": [
       "<div>\n",
       "<style scoped>\n",
       "    .dataframe tbody tr th:only-of-type {\n",
       "        vertical-align: middle;\n",
       "    }\n",
       "\n",
       "    .dataframe tbody tr th {\n",
       "        vertical-align: top;\n",
       "    }\n",
       "\n",
       "    .dataframe thead th {\n",
       "        text-align: right;\n",
       "    }\n",
       "</style>\n",
       "<table border=\"1\" class=\"dataframe\">\n",
       "  <thead>\n",
       "    <tr style=\"text-align: right;\">\n",
       "      <th></th>\n",
       "      <th>Company</th>\n",
       "      <th>Person</th>\n",
       "      <th>StockCount</th>\n",
       "    </tr>\n",
       "  </thead>\n",
       "  <tbody>\n",
       "    <tr>\n",
       "      <th>0</th>\n",
       "      <td>GOOG</td>\n",
       "      <td>Abbas</td>\n",
       "      <td>152</td>\n",
       "    </tr>\n",
       "    <tr>\n",
       "      <th>1</th>\n",
       "      <td>GOOG</td>\n",
       "      <td>Tina</td>\n",
       "      <td>432</td>\n",
       "    </tr>\n",
       "    <tr>\n",
       "      <th>2</th>\n",
       "      <td>MSFT</td>\n",
       "      <td>Saba</td>\n",
       "      <td>275</td>\n",
       "    </tr>\n",
       "    <tr>\n",
       "      <th>3</th>\n",
       "      <td>MSFT</td>\n",
       "      <td>Mohsen</td>\n",
       "      <td>711</td>\n",
       "    </tr>\n",
       "    <tr>\n",
       "      <th>4</th>\n",
       "      <td>FB</td>\n",
       "      <td>Atefe</td>\n",
       "      <td>170</td>\n",
       "    </tr>\n",
       "    <tr>\n",
       "      <th>5</th>\n",
       "      <td>FB</td>\n",
       "      <td>Hasan</td>\n",
       "      <td>120</td>\n",
       "    </tr>\n",
       "  </tbody>\n",
       "</table>\n",
       "</div>"
      ],
      "text/plain": [
       "  Company  Person  StockCount\n",
       "0    GOOG   Abbas         152\n",
       "1    GOOG    Tina         432\n",
       "2    MSFT    Saba         275\n",
       "3    MSFT  Mohsen         711\n",
       "4      FB   Atefe         170\n",
       "5      FB   Hasan         120"
      ]
     },
     "execution_count": 40,
     "metadata": {},
     "output_type": "execute_result"
    }
   ],
   "source": [
    "df4= pd.DataFrame({'Company' : ['GOOG', 'GOOG', 'MSFT', 'MSFT', 'FB', 'FB'], 'Person':['Abbas', 'Tina', 'Saba', 'Mohsen', 'Atefe', 'Hasan'], 'StockCount':[152, 432,275,711,170,120]})\n",
    "df4"
   ]
  },
  {
   "cell_type": "code",
   "execution_count": 41,
   "metadata": {},
   "outputs": [
    {
     "data": {
      "text/html": [
       "<div>\n",
       "<style scoped>\n",
       "    .dataframe tbody tr th:only-of-type {\n",
       "        vertical-align: middle;\n",
       "    }\n",
       "\n",
       "    .dataframe tbody tr th {\n",
       "        vertical-align: top;\n",
       "    }\n",
       "\n",
       "    .dataframe thead th {\n",
       "        text-align: right;\n",
       "    }\n",
       "</style>\n",
       "<table border=\"1\" class=\"dataframe\">\n",
       "  <thead>\n",
       "    <tr style=\"text-align: right;\">\n",
       "      <th></th>\n",
       "      <th>StockCount</th>\n",
       "    </tr>\n",
       "    <tr>\n",
       "      <th>Company</th>\n",
       "      <th></th>\n",
       "    </tr>\n",
       "  </thead>\n",
       "  <tbody>\n",
       "    <tr>\n",
       "      <th>FB</th>\n",
       "      <td>145</td>\n",
       "    </tr>\n",
       "    <tr>\n",
       "      <th>GOOG</th>\n",
       "      <td>292</td>\n",
       "    </tr>\n",
       "    <tr>\n",
       "      <th>MSFT</th>\n",
       "      <td>493</td>\n",
       "    </tr>\n",
       "  </tbody>\n",
       "</table>\n",
       "</div>"
      ],
      "text/plain": [
       "         StockCount\n",
       "Company            \n",
       "FB              145\n",
       "GOOG            292\n",
       "MSFT            493"
      ]
     },
     "execution_count": 41,
     "metadata": {},
     "output_type": "execute_result"
    }
   ],
   "source": [
    "df4.groupby('Company').mean()#'Company' is index now, igonres non numeric columns"
   ]
  },
  {
   "cell_type": "markdown",
   "metadata": {},
   "source": [
    "<div class = \"norm_fa\">\n",
    "groupby پارامتر خودشو که اسم یک ستونه ، به اندیس تبدیل میکنه. ولی باید داده‌های اون ستون شامل عناصر تکراری باشن تا بشه اونها رو گروه بندی کرد. مثلا اگر بخواهیم متوسط تعداد سهام فیسبوک (FB) در دست افراد رو به دست بیاریم:\n",
    "</div>"
   ]
  },
  {
   "cell_type": "code",
   "execution_count": 42,
   "metadata": {},
   "outputs": [
    {
     "data": {
      "text/plain": [
       "StockCount    145\n",
       "Name: FB, dtype: int64"
      ]
     },
     "execution_count": 42,
     "metadata": {},
     "output_type": "execute_result"
    }
   ],
   "source": [
    "df4.groupby('Company').mean().loc['FB']"
   ]
  },
  {
   "cell_type": "markdown",
   "metadata": {},
   "source": [
    "<div class = \"norm_fa\">\n",
    "بعضی اتفاقات بامزه هم روی ستون‌های غیر عددی میوفته. مثلا میانگین برای رشته ها تعریف نمیشه و در مثال بالا می‌بینیم که پانداس اونا رو حذف میکنه. اما ماکزیمم تعریف میشه و کاراکترهایی که در زبان انگلیسی دیرتر در الفبا میان مقادیر بزرگتر هم دارن.چون تابع روی هر ستون به صورت مجزا انجام میشه نتایج بعضا دلخواه ما نیستن:\n",
    "</div>"
   ]
  },
  {
   "cell_type": "code",
   "execution_count": 43,
   "metadata": {},
   "outputs": [
    {
     "data": {
      "text/html": [
       "<div>\n",
       "<style scoped>\n",
       "    .dataframe tbody tr th:only-of-type {\n",
       "        vertical-align: middle;\n",
       "    }\n",
       "\n",
       "    .dataframe tbody tr th {\n",
       "        vertical-align: top;\n",
       "    }\n",
       "\n",
       "    .dataframe thead th {\n",
       "        text-align: right;\n",
       "    }\n",
       "</style>\n",
       "<table border=\"1\" class=\"dataframe\">\n",
       "  <thead>\n",
       "    <tr style=\"text-align: right;\">\n",
       "      <th></th>\n",
       "      <th>Person</th>\n",
       "      <th>StockCount</th>\n",
       "    </tr>\n",
       "    <tr>\n",
       "      <th>Company</th>\n",
       "      <th></th>\n",
       "      <th></th>\n",
       "    </tr>\n",
       "  </thead>\n",
       "  <tbody>\n",
       "    <tr>\n",
       "      <th>FB</th>\n",
       "      <td>Hasan</td>\n",
       "      <td>170</td>\n",
       "    </tr>\n",
       "    <tr>\n",
       "      <th>GOOG</th>\n",
       "      <td>Tina</td>\n",
       "      <td>432</td>\n",
       "    </tr>\n",
       "    <tr>\n",
       "      <th>MSFT</th>\n",
       "      <td>Saba</td>\n",
       "      <td>711</td>\n",
       "    </tr>\n",
       "  </tbody>\n",
       "</table>\n",
       "</div>"
      ],
      "text/plain": [
       "        Person  StockCount\n",
       "Company                   \n",
       "FB       Hasan         170\n",
       "GOOG      Tina         432\n",
       "MSFT      Saba         711"
      ]
     },
     "execution_count": 43,
     "metadata": {},
     "output_type": "execute_result"
    }
   ],
   "source": [
    "df4.groupby('Company').max() #beware of string coloumns"
   ]
  },
  {
   "cell_type": "markdown",
   "metadata": {},
   "source": [
    "<div class = \"norm_fa\">\n",
    "در مثال بالا Hasan در سهامدارهای فیسبوک از Atefe بزرگتره، چون H بعد از A میاد ولی تعداد سهام Atefe بیشتره و در ستون تعداد سهام مقدار اون اومده که شاید دلخواه ما نباشه. تابع describe هم به صورت آماری گروهها رو توصیف میکنه. اینکه هر گروه چند تا سطر داره مقادیر متوسط و انحراف معیار و ... اون گروه چیا هستن:\n",
    "</div>"
   ]
  },
  {
   "cell_type": "code",
   "execution_count": 44,
   "metadata": {},
   "outputs": [
    {
     "data": {
      "text/html": [
       "<div>\n",
       "<style scoped>\n",
       "    .dataframe tbody tr th:only-of-type {\n",
       "        vertical-align: middle;\n",
       "    }\n",
       "\n",
       "    .dataframe tbody tr th {\n",
       "        vertical-align: top;\n",
       "    }\n",
       "\n",
       "    .dataframe thead tr th {\n",
       "        text-align: left;\n",
       "    }\n",
       "\n",
       "    .dataframe thead tr:last-of-type th {\n",
       "        text-align: right;\n",
       "    }\n",
       "</style>\n",
       "<table border=\"1\" class=\"dataframe\">\n",
       "  <thead>\n",
       "    <tr>\n",
       "      <th></th>\n",
       "      <th colspan=\"8\" halign=\"left\">StockCount</th>\n",
       "    </tr>\n",
       "    <tr>\n",
       "      <th></th>\n",
       "      <th>count</th>\n",
       "      <th>mean</th>\n",
       "      <th>std</th>\n",
       "      <th>min</th>\n",
       "      <th>25%</th>\n",
       "      <th>50%</th>\n",
       "      <th>75%</th>\n",
       "      <th>max</th>\n",
       "    </tr>\n",
       "    <tr>\n",
       "      <th>Company</th>\n",
       "      <th></th>\n",
       "      <th></th>\n",
       "      <th></th>\n",
       "      <th></th>\n",
       "      <th></th>\n",
       "      <th></th>\n",
       "      <th></th>\n",
       "      <th></th>\n",
       "    </tr>\n",
       "  </thead>\n",
       "  <tbody>\n",
       "    <tr>\n",
       "      <th>FB</th>\n",
       "      <td>2.0</td>\n",
       "      <td>145.0</td>\n",
       "      <td>35.355339</td>\n",
       "      <td>120.0</td>\n",
       "      <td>132.5</td>\n",
       "      <td>145.0</td>\n",
       "      <td>157.5</td>\n",
       "      <td>170.0</td>\n",
       "    </tr>\n",
       "    <tr>\n",
       "      <th>GOOG</th>\n",
       "      <td>2.0</td>\n",
       "      <td>292.0</td>\n",
       "      <td>197.989899</td>\n",
       "      <td>152.0</td>\n",
       "      <td>222.0</td>\n",
       "      <td>292.0</td>\n",
       "      <td>362.0</td>\n",
       "      <td>432.0</td>\n",
       "    </tr>\n",
       "    <tr>\n",
       "      <th>MSFT</th>\n",
       "      <td>2.0</td>\n",
       "      <td>493.0</td>\n",
       "      <td>308.298557</td>\n",
       "      <td>275.0</td>\n",
       "      <td>384.0</td>\n",
       "      <td>493.0</td>\n",
       "      <td>602.0</td>\n",
       "      <td>711.0</td>\n",
       "    </tr>\n",
       "  </tbody>\n",
       "</table>\n",
       "</div>"
      ],
      "text/plain": [
       "        StockCount                                                      \n",
       "             count   mean         std    min    25%    50%    75%    max\n",
       "Company                                                                 \n",
       "FB             2.0  145.0   35.355339  120.0  132.5  145.0  157.5  170.0\n",
       "GOOG           2.0  292.0  197.989899  152.0  222.0  292.0  362.0  432.0\n",
       "MSFT           2.0  493.0  308.298557  275.0  384.0  493.0  602.0  711.0"
      ]
     },
     "execution_count": 44,
     "metadata": {},
     "output_type": "execute_result"
    }
   ],
   "source": [
    "df4.groupby('Company').describe()"
   ]
  },
  {
   "cell_type": "markdown",
   "metadata": {},
   "source": [
    "<div class = \"norm_fa\">\n",
    "اما برای چسبوندن فریم‌های داده به هم پانداس چند روش داره که با هم کمی متفاوت عمل میکنن.\n",
    "</div>"
   ]
  },
  {
   "cell_type": "code",
   "execution_count": 45,
   "metadata": {},
   "outputs": [],
   "source": [
    "df5 = pd.DataFrame({'k1':['a1','b1','c1'],'k2':['a2','b2','c2'],'k3':['a3','b3','c3']}, index =[1, 2, 3])\n",
    "df6 = pd.DataFrame({'k1':['a4','b4','c4'],'k2':['a5','b5','c5'],'k3':['a6','b6','c6']}, index =[4, 5, 6])\n",
    "df7 = pd.DataFrame({'k1':['a7','b7','c7'],'k2':['a8','b8','c8'],'k3':['a9','b9','c9']}, index =[7, 8, 9])"
   ]
  },
  {
   "cell_type": "code",
   "execution_count": 95,
   "metadata": {},
   "outputs": [
    {
     "data": {
      "text/html": [
       "<div>\n",
       "<style scoped>\n",
       "    .dataframe tbody tr th:only-of-type {\n",
       "        vertical-align: middle;\n",
       "    }\n",
       "\n",
       "    .dataframe tbody tr th {\n",
       "        vertical-align: top;\n",
       "    }\n",
       "\n",
       "    .dataframe thead th {\n",
       "        text-align: right;\n",
       "    }\n",
       "</style>\n",
       "<table border=\"1\" class=\"dataframe\">\n",
       "  <thead>\n",
       "    <tr style=\"text-align: right;\">\n",
       "      <th></th>\n",
       "      <th>k1</th>\n",
       "      <th>k2</th>\n",
       "      <th>k3</th>\n",
       "    </tr>\n",
       "  </thead>\n",
       "  <tbody>\n",
       "    <tr>\n",
       "      <th>1</th>\n",
       "      <td>a1</td>\n",
       "      <td>a2</td>\n",
       "      <td>a3</td>\n",
       "    </tr>\n",
       "    <tr>\n",
       "      <th>2</th>\n",
       "      <td>b1</td>\n",
       "      <td>b2</td>\n",
       "      <td>b3</td>\n",
       "    </tr>\n",
       "    <tr>\n",
       "      <th>3</th>\n",
       "      <td>c1</td>\n",
       "      <td>c2</td>\n",
       "      <td>c3</td>\n",
       "    </tr>\n",
       "  </tbody>\n",
       "</table>\n",
       "</div>"
      ],
      "text/plain": [
       "   k1  k2  k3\n",
       "1  a1  a2  a3\n",
       "2  b1  b2  b3\n",
       "3  c1  c2  c3"
      ]
     },
     "execution_count": 95,
     "metadata": {},
     "output_type": "execute_result"
    }
   ],
   "source": [
    "df5"
   ]
  },
  {
   "cell_type": "code",
   "execution_count": 96,
   "metadata": {},
   "outputs": [
    {
     "data": {
      "text/html": [
       "<div>\n",
       "<style scoped>\n",
       "    .dataframe tbody tr th:only-of-type {\n",
       "        vertical-align: middle;\n",
       "    }\n",
       "\n",
       "    .dataframe tbody tr th {\n",
       "        vertical-align: top;\n",
       "    }\n",
       "\n",
       "    .dataframe thead th {\n",
       "        text-align: right;\n",
       "    }\n",
       "</style>\n",
       "<table border=\"1\" class=\"dataframe\">\n",
       "  <thead>\n",
       "    <tr style=\"text-align: right;\">\n",
       "      <th></th>\n",
       "      <th>k1</th>\n",
       "      <th>k2</th>\n",
       "      <th>k3</th>\n",
       "    </tr>\n",
       "  </thead>\n",
       "  <tbody>\n",
       "    <tr>\n",
       "      <th>4</th>\n",
       "      <td>a4</td>\n",
       "      <td>a5</td>\n",
       "      <td>a6</td>\n",
       "    </tr>\n",
       "    <tr>\n",
       "      <th>5</th>\n",
       "      <td>b4</td>\n",
       "      <td>b5</td>\n",
       "      <td>b6</td>\n",
       "    </tr>\n",
       "    <tr>\n",
       "      <th>6</th>\n",
       "      <td>c4</td>\n",
       "      <td>c5</td>\n",
       "      <td>c6</td>\n",
       "    </tr>\n",
       "  </tbody>\n",
       "</table>\n",
       "</div>"
      ],
      "text/plain": [
       "   k1  k2  k3\n",
       "4  a4  a5  a6\n",
       "5  b4  b5  b6\n",
       "6  c4  c5  c6"
      ]
     },
     "execution_count": 96,
     "metadata": {},
     "output_type": "execute_result"
    }
   ],
   "source": [
    "df6"
   ]
  },
  {
   "cell_type": "code",
   "execution_count": 97,
   "metadata": {},
   "outputs": [
    {
     "data": {
      "text/html": [
       "<div>\n",
       "<style scoped>\n",
       "    .dataframe tbody tr th:only-of-type {\n",
       "        vertical-align: middle;\n",
       "    }\n",
       "\n",
       "    .dataframe tbody tr th {\n",
       "        vertical-align: top;\n",
       "    }\n",
       "\n",
       "    .dataframe thead th {\n",
       "        text-align: right;\n",
       "    }\n",
       "</style>\n",
       "<table border=\"1\" class=\"dataframe\">\n",
       "  <thead>\n",
       "    <tr style=\"text-align: right;\">\n",
       "      <th></th>\n",
       "      <th>k1</th>\n",
       "      <th>k2</th>\n",
       "      <th>k3</th>\n",
       "    </tr>\n",
       "  </thead>\n",
       "  <tbody>\n",
       "    <tr>\n",
       "      <th>7</th>\n",
       "      <td>a7</td>\n",
       "      <td>a8</td>\n",
       "      <td>a9</td>\n",
       "    </tr>\n",
       "    <tr>\n",
       "      <th>8</th>\n",
       "      <td>b7</td>\n",
       "      <td>b8</td>\n",
       "      <td>b9</td>\n",
       "    </tr>\n",
       "    <tr>\n",
       "      <th>9</th>\n",
       "      <td>c7</td>\n",
       "      <td>c8</td>\n",
       "      <td>c9</td>\n",
       "    </tr>\n",
       "  </tbody>\n",
       "</table>\n",
       "</div>"
      ],
      "text/plain": [
       "   k1  k2  k3\n",
       "7  a7  a8  a9\n",
       "8  b7  b8  b9\n",
       "9  c7  c8  c9"
      ]
     },
     "execution_count": 97,
     "metadata": {},
     "output_type": "execute_result"
    }
   ],
   "source": [
    "df7"
   ]
  },
  {
   "cell_type": "markdown",
   "metadata": {},
   "source": [
    "<div class = \"norm_fa\">\n",
    "تابع اول concatه و فریم ها رو بر حسب اندیس زیر هم میچینه:\n",
    "</div>"
   ]
  },
  {
   "cell_type": "code",
   "execution_count": 98,
   "metadata": {},
   "outputs": [
    {
     "data": {
      "text/html": [
       "<div>\n",
       "<style scoped>\n",
       "    .dataframe tbody tr th:only-of-type {\n",
       "        vertical-align: middle;\n",
       "    }\n",
       "\n",
       "    .dataframe tbody tr th {\n",
       "        vertical-align: top;\n",
       "    }\n",
       "\n",
       "    .dataframe thead th {\n",
       "        text-align: right;\n",
       "    }\n",
       "</style>\n",
       "<table border=\"1\" class=\"dataframe\">\n",
       "  <thead>\n",
       "    <tr style=\"text-align: right;\">\n",
       "      <th></th>\n",
       "      <th>k1</th>\n",
       "      <th>k2</th>\n",
       "      <th>k3</th>\n",
       "    </tr>\n",
       "  </thead>\n",
       "  <tbody>\n",
       "    <tr>\n",
       "      <th>1</th>\n",
       "      <td>a1</td>\n",
       "      <td>a2</td>\n",
       "      <td>a3</td>\n",
       "    </tr>\n",
       "    <tr>\n",
       "      <th>2</th>\n",
       "      <td>b1</td>\n",
       "      <td>b2</td>\n",
       "      <td>b3</td>\n",
       "    </tr>\n",
       "    <tr>\n",
       "      <th>3</th>\n",
       "      <td>c1</td>\n",
       "      <td>c2</td>\n",
       "      <td>c3</td>\n",
       "    </tr>\n",
       "    <tr>\n",
       "      <th>4</th>\n",
       "      <td>a4</td>\n",
       "      <td>a5</td>\n",
       "      <td>a6</td>\n",
       "    </tr>\n",
       "    <tr>\n",
       "      <th>5</th>\n",
       "      <td>b4</td>\n",
       "      <td>b5</td>\n",
       "      <td>b6</td>\n",
       "    </tr>\n",
       "    <tr>\n",
       "      <th>6</th>\n",
       "      <td>c4</td>\n",
       "      <td>c5</td>\n",
       "      <td>c6</td>\n",
       "    </tr>\n",
       "    <tr>\n",
       "      <th>7</th>\n",
       "      <td>a7</td>\n",
       "      <td>a8</td>\n",
       "      <td>a9</td>\n",
       "    </tr>\n",
       "    <tr>\n",
       "      <th>8</th>\n",
       "      <td>b7</td>\n",
       "      <td>b8</td>\n",
       "      <td>b9</td>\n",
       "    </tr>\n",
       "    <tr>\n",
       "      <th>9</th>\n",
       "      <td>c7</td>\n",
       "      <td>c8</td>\n",
       "      <td>c9</td>\n",
       "    </tr>\n",
       "  </tbody>\n",
       "</table>\n",
       "</div>"
      ],
      "text/plain": [
       "   k1  k2  k3\n",
       "1  a1  a2  a3\n",
       "2  b1  b2  b3\n",
       "3  c1  c2  c3\n",
       "4  a4  a5  a6\n",
       "5  b4  b5  b6\n",
       "6  c4  c5  c6\n",
       "7  a7  a8  a9\n",
       "8  b7  b8  b9\n",
       "9  c7  c8  c9"
      ]
     },
     "execution_count": 98,
     "metadata": {},
     "output_type": "execute_result"
    }
   ],
   "source": [
    "df8 = pd.concat([df5, df6, df7])\n",
    "df8"
   ]
  },
  {
   "cell_type": "markdown",
   "metadata": {},
   "source": [
    "<div class = \"norm_fa\">\n",
    "ولی میتونیم با پارامتر axis این روال رو تغییر بدیم و ستونها رو کنار هم بچینیم:  \n",
    "</div>"
   ]
  },
  {
   "cell_type": "code",
   "execution_count": 99,
   "metadata": {},
   "outputs": [
    {
     "data": {
      "text/html": [
       "<div>\n",
       "<style scoped>\n",
       "    .dataframe tbody tr th:only-of-type {\n",
       "        vertical-align: middle;\n",
       "    }\n",
       "\n",
       "    .dataframe tbody tr th {\n",
       "        vertical-align: top;\n",
       "    }\n",
       "\n",
       "    .dataframe thead th {\n",
       "        text-align: right;\n",
       "    }\n",
       "</style>\n",
       "<table border=\"1\" class=\"dataframe\">\n",
       "  <thead>\n",
       "    <tr style=\"text-align: right;\">\n",
       "      <th></th>\n",
       "      <th>k1</th>\n",
       "      <th>k2</th>\n",
       "      <th>k3</th>\n",
       "      <th>k1</th>\n",
       "      <th>k2</th>\n",
       "      <th>k3</th>\n",
       "      <th>k1</th>\n",
       "      <th>k2</th>\n",
       "      <th>k3</th>\n",
       "    </tr>\n",
       "  </thead>\n",
       "  <tbody>\n",
       "    <tr>\n",
       "      <th>1</th>\n",
       "      <td>a1</td>\n",
       "      <td>a2</td>\n",
       "      <td>a3</td>\n",
       "      <td>NaN</td>\n",
       "      <td>NaN</td>\n",
       "      <td>NaN</td>\n",
       "      <td>NaN</td>\n",
       "      <td>NaN</td>\n",
       "      <td>NaN</td>\n",
       "    </tr>\n",
       "    <tr>\n",
       "      <th>2</th>\n",
       "      <td>b1</td>\n",
       "      <td>b2</td>\n",
       "      <td>b3</td>\n",
       "      <td>NaN</td>\n",
       "      <td>NaN</td>\n",
       "      <td>NaN</td>\n",
       "      <td>NaN</td>\n",
       "      <td>NaN</td>\n",
       "      <td>NaN</td>\n",
       "    </tr>\n",
       "    <tr>\n",
       "      <th>3</th>\n",
       "      <td>c1</td>\n",
       "      <td>c2</td>\n",
       "      <td>c3</td>\n",
       "      <td>NaN</td>\n",
       "      <td>NaN</td>\n",
       "      <td>NaN</td>\n",
       "      <td>NaN</td>\n",
       "      <td>NaN</td>\n",
       "      <td>NaN</td>\n",
       "    </tr>\n",
       "    <tr>\n",
       "      <th>4</th>\n",
       "      <td>NaN</td>\n",
       "      <td>NaN</td>\n",
       "      <td>NaN</td>\n",
       "      <td>a4</td>\n",
       "      <td>a5</td>\n",
       "      <td>a6</td>\n",
       "      <td>NaN</td>\n",
       "      <td>NaN</td>\n",
       "      <td>NaN</td>\n",
       "    </tr>\n",
       "    <tr>\n",
       "      <th>5</th>\n",
       "      <td>NaN</td>\n",
       "      <td>NaN</td>\n",
       "      <td>NaN</td>\n",
       "      <td>b4</td>\n",
       "      <td>b5</td>\n",
       "      <td>b6</td>\n",
       "      <td>NaN</td>\n",
       "      <td>NaN</td>\n",
       "      <td>NaN</td>\n",
       "    </tr>\n",
       "    <tr>\n",
       "      <th>6</th>\n",
       "      <td>NaN</td>\n",
       "      <td>NaN</td>\n",
       "      <td>NaN</td>\n",
       "      <td>c4</td>\n",
       "      <td>c5</td>\n",
       "      <td>c6</td>\n",
       "      <td>NaN</td>\n",
       "      <td>NaN</td>\n",
       "      <td>NaN</td>\n",
       "    </tr>\n",
       "    <tr>\n",
       "      <th>7</th>\n",
       "      <td>NaN</td>\n",
       "      <td>NaN</td>\n",
       "      <td>NaN</td>\n",
       "      <td>NaN</td>\n",
       "      <td>NaN</td>\n",
       "      <td>NaN</td>\n",
       "      <td>a7</td>\n",
       "      <td>a8</td>\n",
       "      <td>a9</td>\n",
       "    </tr>\n",
       "    <tr>\n",
       "      <th>8</th>\n",
       "      <td>NaN</td>\n",
       "      <td>NaN</td>\n",
       "      <td>NaN</td>\n",
       "      <td>NaN</td>\n",
       "      <td>NaN</td>\n",
       "      <td>NaN</td>\n",
       "      <td>b7</td>\n",
       "      <td>b8</td>\n",
       "      <td>b9</td>\n",
       "    </tr>\n",
       "    <tr>\n",
       "      <th>9</th>\n",
       "      <td>NaN</td>\n",
       "      <td>NaN</td>\n",
       "      <td>NaN</td>\n",
       "      <td>NaN</td>\n",
       "      <td>NaN</td>\n",
       "      <td>NaN</td>\n",
       "      <td>c7</td>\n",
       "      <td>c8</td>\n",
       "      <td>c9</td>\n",
       "    </tr>\n",
       "  </tbody>\n",
       "</table>\n",
       "</div>"
      ],
      "text/plain": [
       "    k1   k2   k3   k1   k2   k3   k1   k2   k3\n",
       "1   a1   a2   a3  NaN  NaN  NaN  NaN  NaN  NaN\n",
       "2   b1   b2   b3  NaN  NaN  NaN  NaN  NaN  NaN\n",
       "3   c1   c2   c3  NaN  NaN  NaN  NaN  NaN  NaN\n",
       "4  NaN  NaN  NaN   a4   a5   a6  NaN  NaN  NaN\n",
       "5  NaN  NaN  NaN   b4   b5   b6  NaN  NaN  NaN\n",
       "6  NaN  NaN  NaN   c4   c5   c6  NaN  NaN  NaN\n",
       "7  NaN  NaN  NaN  NaN  NaN  NaN   a7   a8   a9\n",
       "8  NaN  NaN  NaN  NaN  NaN  NaN   b7   b8   b9\n",
       "9  NaN  NaN  NaN  NaN  NaN  NaN   c7   c8   c9"
      ]
     },
     "execution_count": 99,
     "metadata": {},
     "output_type": "execute_result"
    }
   ],
   "source": [
    "pd.concat([df5, df6, df7], axis = 1)"
   ]
  },
  {
   "cell_type": "markdown",
   "metadata": {},
   "source": [
    "<div class = \"norm_fa\">\n",
    "اما دستور بعدی mergeه که اگر با SQL آشنایی داشته باشید کاملا همون رفتار رو پیاده میکنه:\n",
    "</div>"
   ]
  },
  {
   "cell_type": "code",
   "execution_count": 10,
   "metadata": {},
   "outputs": [
    {
     "data": {
      "text/html": [
       "<div>\n",
       "<style scoped>\n",
       "    .dataframe tbody tr th:only-of-type {\n",
       "        vertical-align: middle;\n",
       "    }\n",
       "\n",
       "    .dataframe tbody tr th {\n",
       "        vertical-align: top;\n",
       "    }\n",
       "\n",
       "    .dataframe thead th {\n",
       "        text-align: right;\n",
       "    }\n",
       "</style>\n",
       "<table border=\"1\" class=\"dataframe\">\n",
       "  <thead>\n",
       "    <tr style=\"text-align: right;\">\n",
       "      <th></th>\n",
       "      <th>keys</th>\n",
       "      <th>A</th>\n",
       "      <th>B</th>\n",
       "    </tr>\n",
       "  </thead>\n",
       "  <tbody>\n",
       "    <tr>\n",
       "      <th>0</th>\n",
       "      <td>k0</td>\n",
       "      <td>a0</td>\n",
       "      <td>55</td>\n",
       "    </tr>\n",
       "    <tr>\n",
       "      <th>1</th>\n",
       "      <td>k1</td>\n",
       "      <td>a1</td>\n",
       "      <td>66</td>\n",
       "    </tr>\n",
       "    <tr>\n",
       "      <th>2</th>\n",
       "      <td>k2</td>\n",
       "      <td>a0</td>\n",
       "      <td>44</td>\n",
       "    </tr>\n",
       "  </tbody>\n",
       "</table>\n",
       "</div>"
      ],
      "text/plain": [
       "  keys   A   B\n",
       "0   k0  a0  55\n",
       "1   k1  a1  66\n",
       "2   k2  a0  44"
      ]
     },
     "execution_count": 10,
     "metadata": {},
     "output_type": "execute_result"
    }
   ],
   "source": [
    "left = pd.DataFrame({'keys':['k0','k1','k2'],'A':['a0','a1','a0'],'B':[55,66,44]})\n",
    "right = pd.DataFrame({'keys':['k1','k2','k3'],'C':['c0','c1','c2'],'D':[77,77,88]})\n",
    "left"
   ]
  },
  {
   "cell_type": "code",
   "execution_count": 11,
   "metadata": {},
   "outputs": [
    {
     "data": {
      "text/html": [
       "<div>\n",
       "<style scoped>\n",
       "    .dataframe tbody tr th:only-of-type {\n",
       "        vertical-align: middle;\n",
       "    }\n",
       "\n",
       "    .dataframe tbody tr th {\n",
       "        vertical-align: top;\n",
       "    }\n",
       "\n",
       "    .dataframe thead th {\n",
       "        text-align: right;\n",
       "    }\n",
       "</style>\n",
       "<table border=\"1\" class=\"dataframe\">\n",
       "  <thead>\n",
       "    <tr style=\"text-align: right;\">\n",
       "      <th></th>\n",
       "      <th>keys</th>\n",
       "      <th>C</th>\n",
       "      <th>D</th>\n",
       "    </tr>\n",
       "  </thead>\n",
       "  <tbody>\n",
       "    <tr>\n",
       "      <th>0</th>\n",
       "      <td>k1</td>\n",
       "      <td>c0</td>\n",
       "      <td>77</td>\n",
       "    </tr>\n",
       "    <tr>\n",
       "      <th>1</th>\n",
       "      <td>k2</td>\n",
       "      <td>c1</td>\n",
       "      <td>77</td>\n",
       "    </tr>\n",
       "    <tr>\n",
       "      <th>2</th>\n",
       "      <td>k3</td>\n",
       "      <td>c2</td>\n",
       "      <td>88</td>\n",
       "    </tr>\n",
       "  </tbody>\n",
       "</table>\n",
       "</div>"
      ],
      "text/plain": [
       "  keys   C   D\n",
       "0   k1  c0  77\n",
       "1   k2  c1  77\n",
       "2   k3  c2  88"
      ]
     },
     "execution_count": 11,
     "metadata": {},
     "output_type": "execute_result"
    }
   ],
   "source": [
    "right"
   ]
  },
  {
   "cell_type": "markdown",
   "metadata": {},
   "source": [
    "<div class = \"norm_fa\">\n",
    "این تابع سه 4 روش برای ادغام اطلاعات داره که با پارامتر how مشخص میشن و رفتار هر کدوم رو جدا بررسی میکنیم. این تابع دو تا فریم رو برای ادغام میگیره (left , right) و ستونی که محور ادغام اونهاست رو با پارامتر on به این تابع معرفی میکنیم:\n",
    "</div>"
   ]
  },
  {
   "cell_type": "code",
   "execution_count": 107,
   "metadata": {},
   "outputs": [
    {
     "data": {
      "text/html": [
       "<div>\n",
       "<style scoped>\n",
       "    .dataframe tbody tr th:only-of-type {\n",
       "        vertical-align: middle;\n",
       "    }\n",
       "\n",
       "    .dataframe tbody tr th {\n",
       "        vertical-align: top;\n",
       "    }\n",
       "\n",
       "    .dataframe thead th {\n",
       "        text-align: right;\n",
       "    }\n",
       "</style>\n",
       "<table border=\"1\" class=\"dataframe\">\n",
       "  <thead>\n",
       "    <tr style=\"text-align: right;\">\n",
       "      <th></th>\n",
       "      <th>keys</th>\n",
       "      <th>A</th>\n",
       "      <th>B</th>\n",
       "      <th>C</th>\n",
       "      <th>D</th>\n",
       "    </tr>\n",
       "  </thead>\n",
       "  <tbody>\n",
       "    <tr>\n",
       "      <th>0</th>\n",
       "      <td>k1</td>\n",
       "      <td>a1</td>\n",
       "      <td>66</td>\n",
       "      <td>c0</td>\n",
       "      <td>77</td>\n",
       "    </tr>\n",
       "    <tr>\n",
       "      <th>1</th>\n",
       "      <td>k2</td>\n",
       "      <td>a0</td>\n",
       "      <td>44</td>\n",
       "      <td>c1</td>\n",
       "      <td>77</td>\n",
       "    </tr>\n",
       "  </tbody>\n",
       "</table>\n",
       "</div>"
      ],
      "text/plain": [
       "  keys   A   B   C   D\n",
       "0   k1  a1  66  c0  77\n",
       "1   k2  a0  44  c1  77"
      ]
     },
     "execution_count": 107,
     "metadata": {},
     "output_type": "execute_result"
    }
   ],
   "source": [
    "pd.merge(left, right, on='keys', how = 'inner')"
   ]
  },
  {
   "cell_type": "markdown",
   "metadata": {},
   "source": [
    "<div class = \"norm_fa\">\n",
    "می‌بینیم که اگر مقدار inner به how داده بشه، تابع merge مقادیری که در هر دو فریم در محور ادغام   (ستون keys) مشترکه رو پیدا میکنه (اندیس‌هایk1 , k2) و بعد تمام ستونهای اون اندیس ها رو به هم میچسبونه (اول ستون‌های left و بعد ستونهای right) و در یک فریم جدید به ما میده.\n",
    "</div>"
   ]
  },
  {
   "cell_type": "markdown",
   "metadata": {},
   "source": [
    "<div class = \"norm_fa\">\n",
    "روش دوم outerه. اگر inner اشتراک محور ادغام رو برمی‌گردوند، outer  اجتماع اونها رو برمی‌گردونه و اون ستون‌هایی رو که در اون فریم وجود ندارند رو با Nan جایگزین میکنه.\n",
    "</div>"
   ]
  },
  {
   "cell_type": "code",
   "execution_count": 108,
   "metadata": {},
   "outputs": [
    {
     "data": {
      "text/html": [
       "<div>\n",
       "<style scoped>\n",
       "    .dataframe tbody tr th:only-of-type {\n",
       "        vertical-align: middle;\n",
       "    }\n",
       "\n",
       "    .dataframe tbody tr th {\n",
       "        vertical-align: top;\n",
       "    }\n",
       "\n",
       "    .dataframe thead th {\n",
       "        text-align: right;\n",
       "    }\n",
       "</style>\n",
       "<table border=\"1\" class=\"dataframe\">\n",
       "  <thead>\n",
       "    <tr style=\"text-align: right;\">\n",
       "      <th></th>\n",
       "      <th>keys</th>\n",
       "      <th>A</th>\n",
       "      <th>B</th>\n",
       "      <th>C</th>\n",
       "      <th>D</th>\n",
       "    </tr>\n",
       "  </thead>\n",
       "  <tbody>\n",
       "    <tr>\n",
       "      <th>0</th>\n",
       "      <td>k0</td>\n",
       "      <td>a0</td>\n",
       "      <td>55.0</td>\n",
       "      <td>NaN</td>\n",
       "      <td>NaN</td>\n",
       "    </tr>\n",
       "    <tr>\n",
       "      <th>1</th>\n",
       "      <td>k1</td>\n",
       "      <td>a1</td>\n",
       "      <td>66.0</td>\n",
       "      <td>c0</td>\n",
       "      <td>77.0</td>\n",
       "    </tr>\n",
       "    <tr>\n",
       "      <th>2</th>\n",
       "      <td>k2</td>\n",
       "      <td>a0</td>\n",
       "      <td>44.0</td>\n",
       "      <td>c1</td>\n",
       "      <td>77.0</td>\n",
       "    </tr>\n",
       "    <tr>\n",
       "      <th>3</th>\n",
       "      <td>k3</td>\n",
       "      <td>NaN</td>\n",
       "      <td>NaN</td>\n",
       "      <td>c2</td>\n",
       "      <td>88.0</td>\n",
       "    </tr>\n",
       "  </tbody>\n",
       "</table>\n",
       "</div>"
      ],
      "text/plain": [
       "  keys    A     B    C     D\n",
       "0   k0   a0  55.0  NaN   NaN\n",
       "1   k1   a1  66.0   c0  77.0\n",
       "2   k2   a0  44.0   c1  77.0\n",
       "3   k3  NaN   NaN   c2  88.0"
      ]
     },
     "execution_count": 108,
     "metadata": {},
     "output_type": "execute_result"
    }
   ],
   "source": [
    "pd.merge(left, right, on='keys', how = 'outer')"
   ]
  },
  {
   "cell_type": "markdown",
   "metadata": {},
   "source": [
    "<div class = \"norm_fa\">\n",
    "اگر مقدار left رو به پارامتر how بدیم، دستور merge تمام اندیس‌های موجود در فریم left رو برمی‌گردونه و تمام ستونهای دو فریم رو به هم میچسبونه و اون ستونهایی رو که در left موجود نیستند رو با Nan جایگزین می‌کنه.\n",
    "</div>"
   ]
  },
  {
   "cell_type": "code",
   "execution_count": 109,
   "metadata": {},
   "outputs": [
    {
     "data": {
      "text/html": [
       "<div>\n",
       "<style scoped>\n",
       "    .dataframe tbody tr th:only-of-type {\n",
       "        vertical-align: middle;\n",
       "    }\n",
       "\n",
       "    .dataframe tbody tr th {\n",
       "        vertical-align: top;\n",
       "    }\n",
       "\n",
       "    .dataframe thead th {\n",
       "        text-align: right;\n",
       "    }\n",
       "</style>\n",
       "<table border=\"1\" class=\"dataframe\">\n",
       "  <thead>\n",
       "    <tr style=\"text-align: right;\">\n",
       "      <th></th>\n",
       "      <th>keys</th>\n",
       "      <th>A</th>\n",
       "      <th>B</th>\n",
       "      <th>C</th>\n",
       "      <th>D</th>\n",
       "    </tr>\n",
       "  </thead>\n",
       "  <tbody>\n",
       "    <tr>\n",
       "      <th>0</th>\n",
       "      <td>k0</td>\n",
       "      <td>a0</td>\n",
       "      <td>55</td>\n",
       "      <td>NaN</td>\n",
       "      <td>NaN</td>\n",
       "    </tr>\n",
       "    <tr>\n",
       "      <th>1</th>\n",
       "      <td>k1</td>\n",
       "      <td>a1</td>\n",
       "      <td>66</td>\n",
       "      <td>c0</td>\n",
       "      <td>77.0</td>\n",
       "    </tr>\n",
       "    <tr>\n",
       "      <th>2</th>\n",
       "      <td>k2</td>\n",
       "      <td>a0</td>\n",
       "      <td>44</td>\n",
       "      <td>c1</td>\n",
       "      <td>77.0</td>\n",
       "    </tr>\n",
       "  </tbody>\n",
       "</table>\n",
       "</div>"
      ],
      "text/plain": [
       "  keys   A   B    C     D\n",
       "0   k0  a0  55  NaN   NaN\n",
       "1   k1  a1  66   c0  77.0\n",
       "2   k2  a0  44   c1  77.0"
      ]
     },
     "execution_count": 109,
     "metadata": {},
     "output_type": "execute_result"
    }
   ],
   "source": [
    "pd.merge(left, right, on='keys', how = 'left')"
   ]
  },
  {
   "cell_type": "markdown",
   "metadata": {},
   "source": [
    "<div class = \"norm_fa\">\n",
    "برای right هم که فکر نکنم توضیح لازم باشه.\n",
    "</div>"
   ]
  },
  {
   "cell_type": "code",
   "execution_count": 110,
   "metadata": {},
   "outputs": [
    {
     "data": {
      "text/html": [
       "<div>\n",
       "<style scoped>\n",
       "    .dataframe tbody tr th:only-of-type {\n",
       "        vertical-align: middle;\n",
       "    }\n",
       "\n",
       "    .dataframe tbody tr th {\n",
       "        vertical-align: top;\n",
       "    }\n",
       "\n",
       "    .dataframe thead th {\n",
       "        text-align: right;\n",
       "    }\n",
       "</style>\n",
       "<table border=\"1\" class=\"dataframe\">\n",
       "  <thead>\n",
       "    <tr style=\"text-align: right;\">\n",
       "      <th></th>\n",
       "      <th>keys</th>\n",
       "      <th>A</th>\n",
       "      <th>B</th>\n",
       "      <th>C</th>\n",
       "      <th>D</th>\n",
       "    </tr>\n",
       "  </thead>\n",
       "  <tbody>\n",
       "    <tr>\n",
       "      <th>0</th>\n",
       "      <td>k1</td>\n",
       "      <td>a1</td>\n",
       "      <td>66.0</td>\n",
       "      <td>c0</td>\n",
       "      <td>77</td>\n",
       "    </tr>\n",
       "    <tr>\n",
       "      <th>1</th>\n",
       "      <td>k2</td>\n",
       "      <td>a0</td>\n",
       "      <td>44.0</td>\n",
       "      <td>c1</td>\n",
       "      <td>77</td>\n",
       "    </tr>\n",
       "    <tr>\n",
       "      <th>2</th>\n",
       "      <td>k3</td>\n",
       "      <td>NaN</td>\n",
       "      <td>NaN</td>\n",
       "      <td>c2</td>\n",
       "      <td>88</td>\n",
       "    </tr>\n",
       "  </tbody>\n",
       "</table>\n",
       "</div>"
      ],
      "text/plain": [
       "  keys    A     B   C   D\n",
       "0   k1   a1  66.0  c0  77\n",
       "1   k2   a0  44.0  c1  77\n",
       "2   k3  NaN   NaN  c2  88"
      ]
     },
     "execution_count": 110,
     "metadata": {},
     "output_type": "execute_result"
    }
   ],
   "source": [
    "pd.merge(left, right, on='keys', how = 'right')"
   ]
  },
  {
   "cell_type": "markdown",
   "metadata": {},
   "source": [
    "<div class = \"norm_fa\">\n",
    "تابع join روی خود فریم عمل میکنه و اندیس‌های اون به طور پیش‌فرض محور ادغام هستند (پارامتر on در merge). ولی در باقی مسائل با merge فرقی نداره.\n",
    "</div>"
   ]
  },
  {
   "cell_type": "code",
   "execution_count": 111,
   "metadata": {},
   "outputs": [],
   "source": [
    "left.set_index('keys', inplace=True)\n",
    "right.set_index('keys', inplace=True)"
   ]
  },
  {
   "cell_type": "code",
   "execution_count": 112,
   "metadata": {},
   "outputs": [
    {
     "data": {
      "text/html": [
       "<div>\n",
       "<style scoped>\n",
       "    .dataframe tbody tr th:only-of-type {\n",
       "        vertical-align: middle;\n",
       "    }\n",
       "\n",
       "    .dataframe tbody tr th {\n",
       "        vertical-align: top;\n",
       "    }\n",
       "\n",
       "    .dataframe thead th {\n",
       "        text-align: right;\n",
       "    }\n",
       "</style>\n",
       "<table border=\"1\" class=\"dataframe\">\n",
       "  <thead>\n",
       "    <tr style=\"text-align: right;\">\n",
       "      <th></th>\n",
       "      <th>A</th>\n",
       "      <th>B</th>\n",
       "    </tr>\n",
       "    <tr>\n",
       "      <th>keys</th>\n",
       "      <th></th>\n",
       "      <th></th>\n",
       "    </tr>\n",
       "  </thead>\n",
       "  <tbody>\n",
       "    <tr>\n",
       "      <th>k0</th>\n",
       "      <td>a0</td>\n",
       "      <td>55</td>\n",
       "    </tr>\n",
       "    <tr>\n",
       "      <th>k1</th>\n",
       "      <td>a1</td>\n",
       "      <td>66</td>\n",
       "    </tr>\n",
       "    <tr>\n",
       "      <th>k2</th>\n",
       "      <td>a0</td>\n",
       "      <td>44</td>\n",
       "    </tr>\n",
       "  </tbody>\n",
       "</table>\n",
       "</div>"
      ],
      "text/plain": [
       "       A   B\n",
       "keys        \n",
       "k0    a0  55\n",
       "k1    a1  66\n",
       "k2    a0  44"
      ]
     },
     "execution_count": 112,
     "metadata": {},
     "output_type": "execute_result"
    }
   ],
   "source": [
    "left"
   ]
  },
  {
   "cell_type": "code",
   "execution_count": 113,
   "metadata": {},
   "outputs": [
    {
     "data": {
      "text/html": [
       "<div>\n",
       "<style scoped>\n",
       "    .dataframe tbody tr th:only-of-type {\n",
       "        vertical-align: middle;\n",
       "    }\n",
       "\n",
       "    .dataframe tbody tr th {\n",
       "        vertical-align: top;\n",
       "    }\n",
       "\n",
       "    .dataframe thead th {\n",
       "        text-align: right;\n",
       "    }\n",
       "</style>\n",
       "<table border=\"1\" class=\"dataframe\">\n",
       "  <thead>\n",
       "    <tr style=\"text-align: right;\">\n",
       "      <th></th>\n",
       "      <th>A</th>\n",
       "      <th>B</th>\n",
       "      <th>C</th>\n",
       "      <th>D</th>\n",
       "    </tr>\n",
       "    <tr>\n",
       "      <th>keys</th>\n",
       "      <th></th>\n",
       "      <th></th>\n",
       "      <th></th>\n",
       "      <th></th>\n",
       "    </tr>\n",
       "  </thead>\n",
       "  <tbody>\n",
       "    <tr>\n",
       "      <th>k1</th>\n",
       "      <td>a1</td>\n",
       "      <td>66</td>\n",
       "      <td>c0</td>\n",
       "      <td>77</td>\n",
       "    </tr>\n",
       "    <tr>\n",
       "      <th>k2</th>\n",
       "      <td>a0</td>\n",
       "      <td>44</td>\n",
       "      <td>c1</td>\n",
       "      <td>77</td>\n",
       "    </tr>\n",
       "  </tbody>\n",
       "</table>\n",
       "</div>"
      ],
      "text/plain": [
       "       A   B   C   D\n",
       "keys                \n",
       "k1    a1  66  c0  77\n",
       "k2    a0  44  c1  77"
      ]
     },
     "execution_count": 113,
     "metadata": {},
     "output_type": "execute_result"
    }
   ],
   "source": [
    "left.join(right, how='inner')"
   ]
  },
  {
   "cell_type": "code",
   "execution_count": 114,
   "metadata": {},
   "outputs": [
    {
     "data": {
      "text/html": [
       "<div>\n",
       "<style scoped>\n",
       "    .dataframe tbody tr th:only-of-type {\n",
       "        vertical-align: middle;\n",
       "    }\n",
       "\n",
       "    .dataframe tbody tr th {\n",
       "        vertical-align: top;\n",
       "    }\n",
       "\n",
       "    .dataframe thead th {\n",
       "        text-align: right;\n",
       "    }\n",
       "</style>\n",
       "<table border=\"1\" class=\"dataframe\">\n",
       "  <thead>\n",
       "    <tr style=\"text-align: right;\">\n",
       "      <th></th>\n",
       "      <th>A</th>\n",
       "      <th>B</th>\n",
       "      <th>C</th>\n",
       "      <th>D</th>\n",
       "    </tr>\n",
       "    <tr>\n",
       "      <th>keys</th>\n",
       "      <th></th>\n",
       "      <th></th>\n",
       "      <th></th>\n",
       "      <th></th>\n",
       "    </tr>\n",
       "  </thead>\n",
       "  <tbody>\n",
       "    <tr>\n",
       "      <th>k0</th>\n",
       "      <td>a0</td>\n",
       "      <td>55.0</td>\n",
       "      <td>NaN</td>\n",
       "      <td>NaN</td>\n",
       "    </tr>\n",
       "    <tr>\n",
       "      <th>k1</th>\n",
       "      <td>a1</td>\n",
       "      <td>66.0</td>\n",
       "      <td>c0</td>\n",
       "      <td>77.0</td>\n",
       "    </tr>\n",
       "    <tr>\n",
       "      <th>k2</th>\n",
       "      <td>a0</td>\n",
       "      <td>44.0</td>\n",
       "      <td>c1</td>\n",
       "      <td>77.0</td>\n",
       "    </tr>\n",
       "    <tr>\n",
       "      <th>k3</th>\n",
       "      <td>NaN</td>\n",
       "      <td>NaN</td>\n",
       "      <td>c2</td>\n",
       "      <td>88.0</td>\n",
       "    </tr>\n",
       "  </tbody>\n",
       "</table>\n",
       "</div>"
      ],
      "text/plain": [
       "        A     B    C     D\n",
       "keys                      \n",
       "k0     a0  55.0  NaN   NaN\n",
       "k1     a1  66.0   c0  77.0\n",
       "k2     a0  44.0   c1  77.0\n",
       "k3    NaN   NaN   c2  88.0"
      ]
     },
     "execution_count": 114,
     "metadata": {},
     "output_type": "execute_result"
    }
   ],
   "source": [
    "left.join(right, how='outer')"
   ]
  },
  {
   "cell_type": "code",
   "execution_count": 115,
   "metadata": {},
   "outputs": [
    {
     "data": {
      "text/html": [
       "<div>\n",
       "<style scoped>\n",
       "    .dataframe tbody tr th:only-of-type {\n",
       "        vertical-align: middle;\n",
       "    }\n",
       "\n",
       "    .dataframe tbody tr th {\n",
       "        vertical-align: top;\n",
       "    }\n",
       "\n",
       "    .dataframe thead th {\n",
       "        text-align: right;\n",
       "    }\n",
       "</style>\n",
       "<table border=\"1\" class=\"dataframe\">\n",
       "  <thead>\n",
       "    <tr style=\"text-align: right;\">\n",
       "      <th></th>\n",
       "      <th>A</th>\n",
       "      <th>B</th>\n",
       "      <th>C</th>\n",
       "      <th>D</th>\n",
       "    </tr>\n",
       "    <tr>\n",
       "      <th>keys</th>\n",
       "      <th></th>\n",
       "      <th></th>\n",
       "      <th></th>\n",
       "      <th></th>\n",
       "    </tr>\n",
       "  </thead>\n",
       "  <tbody>\n",
       "    <tr>\n",
       "      <th>k0</th>\n",
       "      <td>a0</td>\n",
       "      <td>55</td>\n",
       "      <td>NaN</td>\n",
       "      <td>NaN</td>\n",
       "    </tr>\n",
       "    <tr>\n",
       "      <th>k1</th>\n",
       "      <td>a1</td>\n",
       "      <td>66</td>\n",
       "      <td>c0</td>\n",
       "      <td>77.0</td>\n",
       "    </tr>\n",
       "    <tr>\n",
       "      <th>k2</th>\n",
       "      <td>a0</td>\n",
       "      <td>44</td>\n",
       "      <td>c1</td>\n",
       "      <td>77.0</td>\n",
       "    </tr>\n",
       "  </tbody>\n",
       "</table>\n",
       "</div>"
      ],
      "text/plain": [
       "       A   B    C     D\n",
       "keys                   \n",
       "k0    a0  55  NaN   NaN\n",
       "k1    a1  66   c0  77.0\n",
       "k2    a0  44   c1  77.0"
      ]
     },
     "execution_count": 115,
     "metadata": {},
     "output_type": "execute_result"
    }
   ],
   "source": [
    "left.join(right, how='left')"
   ]
  },
  {
   "cell_type": "code",
   "execution_count": 116,
   "metadata": {},
   "outputs": [
    {
     "data": {
      "text/html": [
       "<div>\n",
       "<style scoped>\n",
       "    .dataframe tbody tr th:only-of-type {\n",
       "        vertical-align: middle;\n",
       "    }\n",
       "\n",
       "    .dataframe tbody tr th {\n",
       "        vertical-align: top;\n",
       "    }\n",
       "\n",
       "    .dataframe thead th {\n",
       "        text-align: right;\n",
       "    }\n",
       "</style>\n",
       "<table border=\"1\" class=\"dataframe\">\n",
       "  <thead>\n",
       "    <tr style=\"text-align: right;\">\n",
       "      <th></th>\n",
       "      <th>A</th>\n",
       "      <th>B</th>\n",
       "      <th>C</th>\n",
       "      <th>D</th>\n",
       "    </tr>\n",
       "    <tr>\n",
       "      <th>keys</th>\n",
       "      <th></th>\n",
       "      <th></th>\n",
       "      <th></th>\n",
       "      <th></th>\n",
       "    </tr>\n",
       "  </thead>\n",
       "  <tbody>\n",
       "    <tr>\n",
       "      <th>k1</th>\n",
       "      <td>a1</td>\n",
       "      <td>66.0</td>\n",
       "      <td>c0</td>\n",
       "      <td>77</td>\n",
       "    </tr>\n",
       "    <tr>\n",
       "      <th>k2</th>\n",
       "      <td>a0</td>\n",
       "      <td>44.0</td>\n",
       "      <td>c1</td>\n",
       "      <td>77</td>\n",
       "    </tr>\n",
       "    <tr>\n",
       "      <th>k3</th>\n",
       "      <td>NaN</td>\n",
       "      <td>NaN</td>\n",
       "      <td>c2</td>\n",
       "      <td>88</td>\n",
       "    </tr>\n",
       "  </tbody>\n",
       "</table>\n",
       "</div>"
      ],
      "text/plain": [
       "        A     B   C   D\n",
       "keys                   \n",
       "k1     a1  66.0  c0  77\n",
       "k2     a0  44.0  c1  77\n",
       "k3    NaN   NaN  c2  88"
      ]
     },
     "execution_count": 116,
     "metadata": {},
     "output_type": "execute_result"
    }
   ],
   "source": [
    "left.join(right, how='right')"
   ]
  },
  {
   "cell_type": "markdown",
   "metadata": {},
   "source": [
    "<div class = \"norm_fa\">\n",
    "تابع unique مقادیر یکتا در فریم یا سری رو برمیگردونه. تابع nunique هم تعداد اون مقادیر غیرتکراری رو برمی‌گردونه. و تابع value_counts هم میگه هر مقدار در سری یا فریم چند بار تکرار شده.\n",
    "</div>"
   ]
  },
  {
   "cell_type": "code",
   "execution_count": 117,
   "metadata": {},
   "outputs": [
    {
     "data": {
      "text/plain": [
       "array(['a0', 'a1'], dtype=object)"
      ]
     },
     "execution_count": 117,
     "metadata": {},
     "output_type": "execute_result"
    }
   ],
   "source": [
    "left['A'].unique()"
   ]
  },
  {
   "cell_type": "code",
   "execution_count": 118,
   "metadata": {},
   "outputs": [
    {
     "data": {
      "text/plain": [
       "2"
      ]
     },
     "execution_count": 118,
     "metadata": {},
     "output_type": "execute_result"
    }
   ],
   "source": [
    "left['A'].nunique()"
   ]
  },
  {
   "cell_type": "code",
   "execution_count": 119,
   "metadata": {},
   "outputs": [
    {
     "data": {
      "text/plain": [
       "a0    2\n",
       "a1    1\n",
       "Name: A, dtype: int64"
      ]
     },
     "execution_count": 119,
     "metadata": {},
     "output_type": "execute_result"
    }
   ],
   "source": [
    "left['A'].value_counts()"
   ]
  },
  {
   "cell_type": "markdown",
   "metadata": {},
   "source": [
    "<div class = \"norm_fa\">\n",
    "تابع apply یک تابع لامبدا رو روی تمام عناصر فریم یا سری اجرا می‌کنه و اون مقادیر رو در یک فریم جدید برمی‌گردونه: \n",
    "</div>"
   ]
  },
  {
   "cell_type": "code",
   "execution_count": 120,
   "metadata": {},
   "outputs": [
    {
     "data": {
      "text/plain": [
       "keys\n",
       "k0    3025\n",
       "k1    4356\n",
       "k2    1936\n",
       "Name: B, dtype: int64"
      ]
     },
     "execution_count": 120,
     "metadata": {},
     "output_type": "execute_result"
    }
   ],
   "source": [
    "left['B'].apply(lambda x : x*x)"
   ]
  },
  {
   "cell_type": "markdown",
   "metadata": {},
   "source": [
    "<div class = \"norm_fa\">\n",
    "برای مرتب کردن مقادیر یک ستون از تابع sort_values استفاده میکنیم:\n",
    "</div>"
   ]
  },
  {
   "cell_type": "code",
   "execution_count": 125,
   "metadata": {},
   "outputs": [
    {
     "data": {
      "text/html": [
       "<div>\n",
       "<style scoped>\n",
       "    .dataframe tbody tr th:only-of-type {\n",
       "        vertical-align: middle;\n",
       "    }\n",
       "\n",
       "    .dataframe tbody tr th {\n",
       "        vertical-align: top;\n",
       "    }\n",
       "\n",
       "    .dataframe thead th {\n",
       "        text-align: right;\n",
       "    }\n",
       "</style>\n",
       "<table border=\"1\" class=\"dataframe\">\n",
       "  <thead>\n",
       "    <tr style=\"text-align: right;\">\n",
       "      <th></th>\n",
       "      <th>A</th>\n",
       "      <th>B</th>\n",
       "    </tr>\n",
       "    <tr>\n",
       "      <th>keys</th>\n",
       "      <th></th>\n",
       "      <th></th>\n",
       "    </tr>\n",
       "  </thead>\n",
       "  <tbody>\n",
       "    <tr>\n",
       "      <th>k0</th>\n",
       "      <td>a0</td>\n",
       "      <td>55</td>\n",
       "    </tr>\n",
       "    <tr>\n",
       "      <th>k2</th>\n",
       "      <td>a0</td>\n",
       "      <td>44</td>\n",
       "    </tr>\n",
       "    <tr>\n",
       "      <th>k1</th>\n",
       "      <td>a1</td>\n",
       "      <td>66</td>\n",
       "    </tr>\n",
       "  </tbody>\n",
       "</table>\n",
       "</div>"
      ],
      "text/plain": [
       "       A   B\n",
       "keys        \n",
       "k0    a0  55\n",
       "k2    a0  44\n",
       "k1    a1  66"
      ]
     },
     "execution_count": 125,
     "metadata": {},
     "output_type": "execute_result"
    }
   ],
   "source": [
    "left.sort_values('A')"
   ]
  },
  {
   "cell_type": "markdown",
   "metadata": {},
   "source": [
    "<div class = \"norm_fa\">\n",
    "اینجا میبینیم که بعض از مقادیر ستون A تکراری هستند. آیا میتونیم از مقادیر ستون B برای ترتیب این مقادیر تکراری ستون A استفاده کنیم؟ \n",
    "</div>"
   ]
  },
  {
   "cell_type": "code",
   "execution_count": 126,
   "metadata": {},
   "outputs": [
    {
     "data": {
      "text/html": [
       "<div>\n",
       "<style scoped>\n",
       "    .dataframe tbody tr th:only-of-type {\n",
       "        vertical-align: middle;\n",
       "    }\n",
       "\n",
       "    .dataframe tbody tr th {\n",
       "        vertical-align: top;\n",
       "    }\n",
       "\n",
       "    .dataframe thead th {\n",
       "        text-align: right;\n",
       "    }\n",
       "</style>\n",
       "<table border=\"1\" class=\"dataframe\">\n",
       "  <thead>\n",
       "    <tr style=\"text-align: right;\">\n",
       "      <th></th>\n",
       "      <th>A</th>\n",
       "      <th>B</th>\n",
       "    </tr>\n",
       "    <tr>\n",
       "      <th>keys</th>\n",
       "      <th></th>\n",
       "      <th></th>\n",
       "    </tr>\n",
       "  </thead>\n",
       "  <tbody>\n",
       "    <tr>\n",
       "      <th>k2</th>\n",
       "      <td>a0</td>\n",
       "      <td>44</td>\n",
       "    </tr>\n",
       "    <tr>\n",
       "      <th>k0</th>\n",
       "      <td>a0</td>\n",
       "      <td>55</td>\n",
       "    </tr>\n",
       "    <tr>\n",
       "      <th>k1</th>\n",
       "      <td>a1</td>\n",
       "      <td>66</td>\n",
       "    </tr>\n",
       "  </tbody>\n",
       "</table>\n",
       "</div>"
      ],
      "text/plain": [
       "       A   B\n",
       "keys        \n",
       "k2    a0  44\n",
       "k0    a0  55\n",
       "k1    a1  66"
      ]
     },
     "execution_count": 126,
     "metadata": {},
     "output_type": "execute_result"
    }
   ],
   "source": [
    "left.sort_values('A').sort_values('B')"
   ]
  },
  {
   "cell_type": "markdown",
   "metadata": {},
   "source": [
    "<div class = \"norm_fa\">\n",
    "برای ذخیره کردن فریم‌ها با فرمت Excel و خواندن اونها احتیاج به چند تا کتابخونه اضافی داریم:\n",
    "</div>"
   ]
  },
  {
   "cell_type": "code",
   "execution_count": 133,
   "metadata": {},
   "outputs": [
    {
     "name": "stdout",
     "output_type": "stream",
     "text": [
      "Requirement already satisfied: openpyxl in c:\\python\\python36\\venvs\\tf2gpu\\lib\\site-packages (3.0.3)\n",
      "Collecting xlrd\n",
      "  Downloading xlrd-1.2.0-py2.py3-none-any.whl (103 kB)\n",
      "Requirement already satisfied: et-xmlfile in c:\\python\\python36\\venvs\\tf2gpu\\lib\\site-packages (from openpyxl) (1.0.1)\n",
      "Requirement already satisfied: jdcal in c:\\python\\python36\\venvs\\tf2gpu\\lib\\site-packages (from openpyxl) (1.4.1)\n",
      "Installing collected packages: xlrd\n",
      "Successfully installed xlrd-1.2.0\n"
     ]
    }
   ],
   "source": [
    "!pip install openpyxl xlrd"
   ]
  },
  {
   "cell_type": "markdown",
   "metadata": {},
   "source": [
    "<div class = \"norm_fa\">\n",
    "تابع to_excel فریم رو درفایل اکسلی که نام ومسیر اون رو به عنوان پارامتر بهش میدیم ذخیره میکنه و تابع read_excel فریم رو از فایل بارگزاری می‌کنه. \n",
    "</div>"
   ]
  },
  {
   "cell_type": "code",
   "execution_count": 130,
   "metadata": {},
   "outputs": [],
   "source": [
    "left.join(right, how='outer').to_excel('outer_join.xlsx')"
   ]
  },
  {
   "cell_type": "code",
   "execution_count": 134,
   "metadata": {},
   "outputs": [],
   "source": [
    "lor = pd.read_excel('./outer_join.xlsx')"
   ]
  },
  {
   "cell_type": "code",
   "execution_count": 135,
   "metadata": {},
   "outputs": [
    {
     "data": {
      "text/html": [
       "<div>\n",
       "<style scoped>\n",
       "    .dataframe tbody tr th:only-of-type {\n",
       "        vertical-align: middle;\n",
       "    }\n",
       "\n",
       "    .dataframe tbody tr th {\n",
       "        vertical-align: top;\n",
       "    }\n",
       "\n",
       "    .dataframe thead th {\n",
       "        text-align: right;\n",
       "    }\n",
       "</style>\n",
       "<table border=\"1\" class=\"dataframe\">\n",
       "  <thead>\n",
       "    <tr style=\"text-align: right;\">\n",
       "      <th></th>\n",
       "      <th>keys</th>\n",
       "      <th>A</th>\n",
       "      <th>B</th>\n",
       "      <th>C</th>\n",
       "      <th>D</th>\n",
       "    </tr>\n",
       "  </thead>\n",
       "  <tbody>\n",
       "    <tr>\n",
       "      <th>0</th>\n",
       "      <td>k0</td>\n",
       "      <td>a0</td>\n",
       "      <td>55.0</td>\n",
       "      <td>NaN</td>\n",
       "      <td>NaN</td>\n",
       "    </tr>\n",
       "    <tr>\n",
       "      <th>1</th>\n",
       "      <td>k1</td>\n",
       "      <td>a1</td>\n",
       "      <td>66.0</td>\n",
       "      <td>c0</td>\n",
       "      <td>77.0</td>\n",
       "    </tr>\n",
       "    <tr>\n",
       "      <th>2</th>\n",
       "      <td>k2</td>\n",
       "      <td>a0</td>\n",
       "      <td>44.0</td>\n",
       "      <td>c1</td>\n",
       "      <td>77.0</td>\n",
       "    </tr>\n",
       "    <tr>\n",
       "      <th>3</th>\n",
       "      <td>k3</td>\n",
       "      <td>NaN</td>\n",
       "      <td>NaN</td>\n",
       "      <td>c2</td>\n",
       "      <td>88.0</td>\n",
       "    </tr>\n",
       "  </tbody>\n",
       "</table>\n",
       "</div>"
      ],
      "text/plain": [
       "  keys    A     B    C     D\n",
       "0   k0   a0  55.0  NaN   NaN\n",
       "1   k1   a1  66.0   c0  77.0\n",
       "2   k2   a0  44.0   c1  77.0\n",
       "3   k3  NaN   NaN   c2  88.0"
      ]
     },
     "execution_count": 135,
     "metadata": {},
     "output_type": "execute_result"
    }
   ],
   "source": [
    "lor"
   ]
  },
  {
   "cell_type": "markdown",
   "metadata": {},
   "source": [
    "<div class = \"norm_fa\">\n",
    "حالا یک مثال واقعی تر با کمک سهام پتروشیمی آبادان میزنیم و قابلتهای رسم نمودار pandas رو هم بررسی میکنیم:\n",
    "</div>"
   ]
  },
  {
   "cell_type": "code",
   "execution_count": 52,
   "metadata": {},
   "outputs": [],
   "source": [
    "PABD = pd.read_csv('./PABD1-a.csv')"
   ]
  },
  {
   "cell_type": "code",
   "execution_count": 53,
   "metadata": {},
   "outputs": [
    {
     "data": {
      "text/html": [
       "<div>\n",
       "<style scoped>\n",
       "    .dataframe tbody tr th:only-of-type {\n",
       "        vertical-align: middle;\n",
       "    }\n",
       "\n",
       "    .dataframe tbody tr th {\n",
       "        vertical-align: top;\n",
       "    }\n",
       "\n",
       "    .dataframe thead th {\n",
       "        text-align: right;\n",
       "    }\n",
       "</style>\n",
       "<table border=\"1\" class=\"dataframe\">\n",
       "  <thead>\n",
       "    <tr style=\"text-align: right;\">\n",
       "      <th></th>\n",
       "      <th>Ticker</th>\n",
       "      <th>GDate</th>\n",
       "      <th>Open</th>\n",
       "      <th>High</th>\n",
       "      <th>Low</th>\n",
       "      <th>Close</th>\n",
       "      <th>Volume</th>\n",
       "      <th>Value</th>\n",
       "      <th>Count</th>\n",
       "      <th>PDate</th>\n",
       "      <th>Name</th>\n",
       "      <th>Symbol</th>\n",
       "    </tr>\n",
       "  </thead>\n",
       "  <tbody>\n",
       "    <tr>\n",
       "      <th>0</th>\n",
       "      <td>PABD</td>\n",
       "      <td>20010325</td>\n",
       "      <td>1250.62</td>\n",
       "      <td>1251</td>\n",
       "      <td>1250</td>\n",
       "      <td>1250.62</td>\n",
       "      <td>691</td>\n",
       "      <td>5.486253e+06</td>\n",
       "      <td>12</td>\n",
       "      <td>13800105</td>\n",
       "      <td>پتروشيمي‌_آبادان‌-ت</td>\n",
       "      <td>شپترو-ت</td>\n",
       "    </tr>\n",
       "    <tr>\n",
       "      <th>1</th>\n",
       "      <td>PABD</td>\n",
       "      <td>20010326</td>\n",
       "      <td>1250.47</td>\n",
       "      <td>1250</td>\n",
       "      <td>1250</td>\n",
       "      <td>1250.47</td>\n",
       "      <td>22</td>\n",
       "      <td>1.746580e+05</td>\n",
       "      <td>1</td>\n",
       "      <td>13800106</td>\n",
       "      <td>پتروشيمي‌_آبادان‌-ت</td>\n",
       "      <td>شپترو-ت</td>\n",
       "    </tr>\n",
       "    <tr>\n",
       "      <th>2</th>\n",
       "      <td>PABD</td>\n",
       "      <td>20010327</td>\n",
       "      <td>1250.47</td>\n",
       "      <td>1250</td>\n",
       "      <td>1250</td>\n",
       "      <td>1250.47</td>\n",
       "      <td>972</td>\n",
       "      <td>7.716708e+06</td>\n",
       "      <td>3</td>\n",
       "      <td>13800107</td>\n",
       "      <td>پتروشيمي‌_آبادان‌-ت</td>\n",
       "      <td>شپترو-ت</td>\n",
       "    </tr>\n",
       "    <tr>\n",
       "      <th>3</th>\n",
       "      <td>PABD</td>\n",
       "      <td>20010328</td>\n",
       "      <td>1250.31</td>\n",
       "      <td>1250</td>\n",
       "      <td>1250</td>\n",
       "      <td>1250.47</td>\n",
       "      <td>1032</td>\n",
       "      <td>8.192442e+06</td>\n",
       "      <td>5</td>\n",
       "      <td>13800108</td>\n",
       "      <td>پتروشيمي‌_آبادان‌-ت</td>\n",
       "      <td>شپترو-ت</td>\n",
       "    </tr>\n",
       "    <tr>\n",
       "      <th>4</th>\n",
       "      <td>PABD</td>\n",
       "      <td>20010407</td>\n",
       "      <td>1249.99</td>\n",
       "      <td>1250</td>\n",
       "      <td>1250</td>\n",
       "      <td>1249.99</td>\n",
       "      <td>700</td>\n",
       "      <td>5.555200e+06</td>\n",
       "      <td>3</td>\n",
       "      <td>13800118</td>\n",
       "      <td>پتروشيمي‌_آبادان‌-ت</td>\n",
       "      <td>شپترو-ت</td>\n",
       "    </tr>\n",
       "    <tr>\n",
       "      <th>...</th>\n",
       "      <td>...</td>\n",
       "      <td>...</td>\n",
       "      <td>...</td>\n",
       "      <td>...</td>\n",
       "      <td>...</td>\n",
       "      <td>...</td>\n",
       "      <td>...</td>\n",
       "      <td>...</td>\n",
       "      <td>...</td>\n",
       "      <td>...</td>\n",
       "      <td>...</td>\n",
       "      <td>...</td>\n",
       "    </tr>\n",
       "    <tr>\n",
       "      <th>3603</th>\n",
       "      <td>PABD</td>\n",
       "      <td>20190707</td>\n",
       "      <td>1310.00</td>\n",
       "      <td>1372</td>\n",
       "      <td>1310</td>\n",
       "      <td>1339.00</td>\n",
       "      <td>17240297</td>\n",
       "      <td>2.308438e+10</td>\n",
       "      <td>1488</td>\n",
       "      <td>13980416</td>\n",
       "      <td>پتروشيمي‌_آبادان‌-ت</td>\n",
       "      <td>شپترو-ت</td>\n",
       "    </tr>\n",
       "    <tr>\n",
       "      <th>3604</th>\n",
       "      <td>PABD</td>\n",
       "      <td>20190708</td>\n",
       "      <td>1372.00</td>\n",
       "      <td>1382</td>\n",
       "      <td>1330</td>\n",
       "      <td>1360.00</td>\n",
       "      <td>19808059</td>\n",
       "      <td>2.693268e+10</td>\n",
       "      <td>1664</td>\n",
       "      <td>13980417</td>\n",
       "      <td>پتروشيمي‌_آبادان‌-ت</td>\n",
       "      <td>شپترو-ت</td>\n",
       "    </tr>\n",
       "    <tr>\n",
       "      <th>3605</th>\n",
       "      <td>PABD</td>\n",
       "      <td>20190709</td>\n",
       "      <td>1368.00</td>\n",
       "      <td>1382</td>\n",
       "      <td>1325</td>\n",
       "      <td>1353.00</td>\n",
       "      <td>15355343</td>\n",
       "      <td>2.077299e+10</td>\n",
       "      <td>1234</td>\n",
       "      <td>13980418</td>\n",
       "      <td>پتروشيمي‌_آبادان‌-ت</td>\n",
       "      <td>شپترو-ت</td>\n",
       "    </tr>\n",
       "    <tr>\n",
       "      <th>3606</th>\n",
       "      <td>PABD</td>\n",
       "      <td>20190710</td>\n",
       "      <td>1388.00</td>\n",
       "      <td>1420</td>\n",
       "      <td>1382</td>\n",
       "      <td>1412.00</td>\n",
       "      <td>40962586</td>\n",
       "      <td>5.784354e+10</td>\n",
       "      <td>2801</td>\n",
       "      <td>13980419</td>\n",
       "      <td>پتروشيمي‌_آبادان‌-ت</td>\n",
       "      <td>شپترو-ت</td>\n",
       "    </tr>\n",
       "    <tr>\n",
       "      <th>3607</th>\n",
       "      <td>PABD</td>\n",
       "      <td>20190713</td>\n",
       "      <td>1447.00</td>\n",
       "      <td>1475</td>\n",
       "      <td>1414</td>\n",
       "      <td>1446.00</td>\n",
       "      <td>30719163</td>\n",
       "      <td>4.441355e+10</td>\n",
       "      <td>2672</td>\n",
       "      <td>13980422</td>\n",
       "      <td>پتروشيمي‌_آبادان‌-ت</td>\n",
       "      <td>شپترو-ت</td>\n",
       "    </tr>\n",
       "  </tbody>\n",
       "</table>\n",
       "<p>3608 rows × 12 columns</p>\n",
       "</div>"
      ],
      "text/plain": [
       "     Ticker     GDate     Open  High   Low    Close    Volume         Value  \\\n",
       "0      PABD  20010325  1250.62  1251  1250  1250.62       691  5.486253e+06   \n",
       "1      PABD  20010326  1250.47  1250  1250  1250.47        22  1.746580e+05   \n",
       "2      PABD  20010327  1250.47  1250  1250  1250.47       972  7.716708e+06   \n",
       "3      PABD  20010328  1250.31  1250  1250  1250.47      1032  8.192442e+06   \n",
       "4      PABD  20010407  1249.99  1250  1250  1249.99       700  5.555200e+06   \n",
       "...     ...       ...      ...   ...   ...      ...       ...           ...   \n",
       "3603   PABD  20190707  1310.00  1372  1310  1339.00  17240297  2.308438e+10   \n",
       "3604   PABD  20190708  1372.00  1382  1330  1360.00  19808059  2.693268e+10   \n",
       "3605   PABD  20190709  1368.00  1382  1325  1353.00  15355343  2.077299e+10   \n",
       "3606   PABD  20190710  1388.00  1420  1382  1412.00  40962586  5.784354e+10   \n",
       "3607   PABD  20190713  1447.00  1475  1414  1446.00  30719163  4.441355e+10   \n",
       "\n",
       "      Count     PDate                 Name   Symbol  \n",
       "0        12  13800105  پتروشيمي‌_آبادان‌-ت  شپترو-ت  \n",
       "1         1  13800106  پتروشيمي‌_آبادان‌-ت  شپترو-ت  \n",
       "2         3  13800107  پتروشيمي‌_آبادان‌-ت  شپترو-ت  \n",
       "3         5  13800108  پتروشيمي‌_آبادان‌-ت  شپترو-ت  \n",
       "4         3  13800118  پتروشيمي‌_آبادان‌-ت  شپترو-ت  \n",
       "...     ...       ...                  ...      ...  \n",
       "3603   1488  13980416  پتروشيمي‌_آبادان‌-ت  شپترو-ت  \n",
       "3604   1664  13980417  پتروشيمي‌_آبادان‌-ت  شپترو-ت  \n",
       "3605   1234  13980418  پتروشيمي‌_آبادان‌-ت  شپترو-ت  \n",
       "3606   2801  13980419  پتروشيمي‌_آبادان‌-ت  شپترو-ت  \n",
       "3607   2672  13980422  پتروشيمي‌_آبادان‌-ت  شپترو-ت  \n",
       "\n",
       "[3608 rows x 12 columns]"
      ]
     },
     "execution_count": 53,
     "metadata": {},
     "output_type": "execute_result"
    }
   ],
   "source": [
    "PABD"
   ]
  },
  {
   "cell_type": "markdown",
   "metadata": {},
   "source": [
    "<div class = \"norm_fa\">\n",
    "دو ستون GDate و PDate رو که به ترتیب تاریخ میلادی و شمسی اون روز هستند رو به نوع داده datetime پایتون تبدیل میکنیم. برای تبدیل تاریخ شمسی از کتابخونه jdatetime بهره میبریم.\n",
    "</div>"
   ]
  },
  {
   "cell_type": "code",
   "execution_count": 54,
   "metadata": {},
   "outputs": [
    {
     "name": "stdout",
     "output_type": "stream",
     "text": [
      "Requirement already satisfied: jdatetime in c:\\python\\python36\\venvs\\tf2gpu\\lib\\site-packages (3.6.2)\n"
     ]
    }
   ],
   "source": [
    "!pip install jdatetime"
   ]
  },
  {
   "cell_type": "code",
   "execution_count": 55,
   "metadata": {},
   "outputs": [],
   "source": [
    "import jdatetime as jd\n",
    "PABD['PDate'] = PABD['PDate'].apply(lambda d : jd.datetime.strptime(str(d), format = '%Y%m%d'))\n",
    "import datetime\n",
    "PABD['GDate'] = pd.to_datetime(PABD['GDate'], format = '%Y%m%d')"
   ]
  },
  {
   "cell_type": "code",
   "execution_count": 56,
   "metadata": {},
   "outputs": [
    {
     "data": {
      "text/html": [
       "<div>\n",
       "<style scoped>\n",
       "    .dataframe tbody tr th:only-of-type {\n",
       "        vertical-align: middle;\n",
       "    }\n",
       "\n",
       "    .dataframe tbody tr th {\n",
       "        vertical-align: top;\n",
       "    }\n",
       "\n",
       "    .dataframe thead th {\n",
       "        text-align: right;\n",
       "    }\n",
       "</style>\n",
       "<table border=\"1\" class=\"dataframe\">\n",
       "  <thead>\n",
       "    <tr style=\"text-align: right;\">\n",
       "      <th></th>\n",
       "      <th>Ticker</th>\n",
       "      <th>GDate</th>\n",
       "      <th>Open</th>\n",
       "      <th>High</th>\n",
       "      <th>Low</th>\n",
       "      <th>Close</th>\n",
       "      <th>Volume</th>\n",
       "      <th>Value</th>\n",
       "      <th>Count</th>\n",
       "      <th>PDate</th>\n",
       "      <th>Name</th>\n",
       "      <th>Symbol</th>\n",
       "    </tr>\n",
       "  </thead>\n",
       "  <tbody>\n",
       "    <tr>\n",
       "      <th>0</th>\n",
       "      <td>PABD</td>\n",
       "      <td>2001-03-25</td>\n",
       "      <td>1250.62</td>\n",
       "      <td>1251</td>\n",
       "      <td>1250</td>\n",
       "      <td>1250.62</td>\n",
       "      <td>691</td>\n",
       "      <td>5486253.0</td>\n",
       "      <td>12</td>\n",
       "      <td>1380-01-05 00:00:00</td>\n",
       "      <td>پتروشيمي‌_آبادان‌-ت</td>\n",
       "      <td>شپترو-ت</td>\n",
       "    </tr>\n",
       "    <tr>\n",
       "      <th>1</th>\n",
       "      <td>PABD</td>\n",
       "      <td>2001-03-26</td>\n",
       "      <td>1250.47</td>\n",
       "      <td>1250</td>\n",
       "      <td>1250</td>\n",
       "      <td>1250.47</td>\n",
       "      <td>22</td>\n",
       "      <td>174658.0</td>\n",
       "      <td>1</td>\n",
       "      <td>1380-01-06 00:00:00</td>\n",
       "      <td>پتروشيمي‌_آبادان‌-ت</td>\n",
       "      <td>شپترو-ت</td>\n",
       "    </tr>\n",
       "    <tr>\n",
       "      <th>2</th>\n",
       "      <td>PABD</td>\n",
       "      <td>2001-03-27</td>\n",
       "      <td>1250.47</td>\n",
       "      <td>1250</td>\n",
       "      <td>1250</td>\n",
       "      <td>1250.47</td>\n",
       "      <td>972</td>\n",
       "      <td>7716708.0</td>\n",
       "      <td>3</td>\n",
       "      <td>1380-01-07 00:00:00</td>\n",
       "      <td>پتروشيمي‌_آبادان‌-ت</td>\n",
       "      <td>شپترو-ت</td>\n",
       "    </tr>\n",
       "    <tr>\n",
       "      <th>3</th>\n",
       "      <td>PABD</td>\n",
       "      <td>2001-03-28</td>\n",
       "      <td>1250.31</td>\n",
       "      <td>1250</td>\n",
       "      <td>1250</td>\n",
       "      <td>1250.47</td>\n",
       "      <td>1032</td>\n",
       "      <td>8192442.0</td>\n",
       "      <td>5</td>\n",
       "      <td>1380-01-08 00:00:00</td>\n",
       "      <td>پتروشيمي‌_آبادان‌-ت</td>\n",
       "      <td>شپترو-ت</td>\n",
       "    </tr>\n",
       "    <tr>\n",
       "      <th>4</th>\n",
       "      <td>PABD</td>\n",
       "      <td>2001-04-07</td>\n",
       "      <td>1249.99</td>\n",
       "      <td>1250</td>\n",
       "      <td>1250</td>\n",
       "      <td>1249.99</td>\n",
       "      <td>700</td>\n",
       "      <td>5555200.0</td>\n",
       "      <td>3</td>\n",
       "      <td>1380-01-18 00:00:00</td>\n",
       "      <td>پتروشيمي‌_آبادان‌-ت</td>\n",
       "      <td>شپترو-ت</td>\n",
       "    </tr>\n",
       "  </tbody>\n",
       "</table>\n",
       "</div>"
      ],
      "text/plain": [
       "  Ticker      GDate     Open  High   Low    Close  Volume      Value  Count  \\\n",
       "0   PABD 2001-03-25  1250.62  1251  1250  1250.62     691  5486253.0     12   \n",
       "1   PABD 2001-03-26  1250.47  1250  1250  1250.47      22   174658.0      1   \n",
       "2   PABD 2001-03-27  1250.47  1250  1250  1250.47     972  7716708.0      3   \n",
       "3   PABD 2001-03-28  1250.31  1250  1250  1250.47    1032  8192442.0      5   \n",
       "4   PABD 2001-04-07  1249.99  1250  1250  1249.99     700  5555200.0      3   \n",
       "\n",
       "                 PDate                 Name   Symbol  \n",
       "0  1380-01-05 00:00:00  پتروشيمي‌_آبادان‌-ت  شپترو-ت  \n",
       "1  1380-01-06 00:00:00  پتروشيمي‌_آبادان‌-ت  شپترو-ت  \n",
       "2  1380-01-07 00:00:00  پتروشيمي‌_آبادان‌-ت  شپترو-ت  \n",
       "3  1380-01-08 00:00:00  پتروشيمي‌_آبادان‌-ت  شپترو-ت  \n",
       "4  1380-01-18 00:00:00  پتروشيمي‌_آبادان‌-ت  شپترو-ت  "
      ]
     },
     "execution_count": 56,
     "metadata": {},
     "output_type": "execute_result"
    }
   ],
   "source": [
    "PABD.head()"
   ]
  },
  {
   "cell_type": "code",
   "execution_count": 57,
   "metadata": {},
   "outputs": [
    {
     "name": "stdout",
     "output_type": "stream",
     "text": [
      "<class 'pandas.core.frame.DataFrame'>\n",
      "RangeIndex: 3608 entries, 0 to 3607\n",
      "Data columns (total 12 columns):\n",
      " #   Column  Non-Null Count  Dtype         \n",
      "---  ------  --------------  -----         \n",
      " 0   Ticker  3608 non-null   object        \n",
      " 1   GDate   3608 non-null   datetime64[ns]\n",
      " 2   Open    3608 non-null   float64       \n",
      " 3   High    3608 non-null   int64         \n",
      " 4   Low     3608 non-null   int64         \n",
      " 5   Close   3608 non-null   float64       \n",
      " 6   Volume  3608 non-null   int64         \n",
      " 7   Value   3608 non-null   float64       \n",
      " 8   Count   3608 non-null   int64         \n",
      " 9   PDate   3608 non-null   object        \n",
      " 10  Name    3608 non-null   object        \n",
      " 11  Symbol  3608 non-null   object        \n",
      "dtypes: datetime64[ns](1), float64(3), int64(4), object(4)\n",
      "memory usage: 338.4+ KB\n"
     ]
    }
   ],
   "source": [
    "PABD.info()"
   ]
  },
  {
   "cell_type": "markdown",
   "metadata": {},
   "source": [
    "<div class = \"norm_fa\">\n",
    "حالا ستون تاریخ میلادی رو به اندیس تبدیل میکنیم:\n",
    "</div>"
   ]
  },
  {
   "cell_type": "code",
   "execution_count": 58,
   "metadata": {},
   "outputs": [
    {
     "data": {
      "text/html": [
       "<div>\n",
       "<style scoped>\n",
       "    .dataframe tbody tr th:only-of-type {\n",
       "        vertical-align: middle;\n",
       "    }\n",
       "\n",
       "    .dataframe tbody tr th {\n",
       "        vertical-align: top;\n",
       "    }\n",
       "\n",
       "    .dataframe thead th {\n",
       "        text-align: right;\n",
       "    }\n",
       "</style>\n",
       "<table border=\"1\" class=\"dataframe\">\n",
       "  <thead>\n",
       "    <tr style=\"text-align: right;\">\n",
       "      <th></th>\n",
       "      <th>Ticker</th>\n",
       "      <th>Open</th>\n",
       "      <th>High</th>\n",
       "      <th>Low</th>\n",
       "      <th>Close</th>\n",
       "      <th>Volume</th>\n",
       "      <th>Value</th>\n",
       "      <th>Count</th>\n",
       "      <th>PDate</th>\n",
       "      <th>Name</th>\n",
       "      <th>Symbol</th>\n",
       "    </tr>\n",
       "    <tr>\n",
       "      <th>GDate</th>\n",
       "      <th></th>\n",
       "      <th></th>\n",
       "      <th></th>\n",
       "      <th></th>\n",
       "      <th></th>\n",
       "      <th></th>\n",
       "      <th></th>\n",
       "      <th></th>\n",
       "      <th></th>\n",
       "      <th></th>\n",
       "      <th></th>\n",
       "    </tr>\n",
       "  </thead>\n",
       "  <tbody>\n",
       "    <tr>\n",
       "      <th>2001-03-25</th>\n",
       "      <td>PABD</td>\n",
       "      <td>1250.62</td>\n",
       "      <td>1251</td>\n",
       "      <td>1250</td>\n",
       "      <td>1250.62</td>\n",
       "      <td>691</td>\n",
       "      <td>5.486253e+06</td>\n",
       "      <td>12</td>\n",
       "      <td>1380-01-05 00:00:00</td>\n",
       "      <td>پتروشيمي‌_آبادان‌-ت</td>\n",
       "      <td>شپترو-ت</td>\n",
       "    </tr>\n",
       "    <tr>\n",
       "      <th>2001-03-26</th>\n",
       "      <td>PABD</td>\n",
       "      <td>1250.47</td>\n",
       "      <td>1250</td>\n",
       "      <td>1250</td>\n",
       "      <td>1250.47</td>\n",
       "      <td>22</td>\n",
       "      <td>1.746580e+05</td>\n",
       "      <td>1</td>\n",
       "      <td>1380-01-06 00:00:00</td>\n",
       "      <td>پتروشيمي‌_آبادان‌-ت</td>\n",
       "      <td>شپترو-ت</td>\n",
       "    </tr>\n",
       "    <tr>\n",
       "      <th>2001-03-27</th>\n",
       "      <td>PABD</td>\n",
       "      <td>1250.47</td>\n",
       "      <td>1250</td>\n",
       "      <td>1250</td>\n",
       "      <td>1250.47</td>\n",
       "      <td>972</td>\n",
       "      <td>7.716708e+06</td>\n",
       "      <td>3</td>\n",
       "      <td>1380-01-07 00:00:00</td>\n",
       "      <td>پتروشيمي‌_آبادان‌-ت</td>\n",
       "      <td>شپترو-ت</td>\n",
       "    </tr>\n",
       "    <tr>\n",
       "      <th>2001-03-28</th>\n",
       "      <td>PABD</td>\n",
       "      <td>1250.31</td>\n",
       "      <td>1250</td>\n",
       "      <td>1250</td>\n",
       "      <td>1250.47</td>\n",
       "      <td>1032</td>\n",
       "      <td>8.192442e+06</td>\n",
       "      <td>5</td>\n",
       "      <td>1380-01-08 00:00:00</td>\n",
       "      <td>پتروشيمي‌_آبادان‌-ت</td>\n",
       "      <td>شپترو-ت</td>\n",
       "    </tr>\n",
       "    <tr>\n",
       "      <th>2001-04-07</th>\n",
       "      <td>PABD</td>\n",
       "      <td>1249.99</td>\n",
       "      <td>1250</td>\n",
       "      <td>1250</td>\n",
       "      <td>1249.99</td>\n",
       "      <td>700</td>\n",
       "      <td>5.555200e+06</td>\n",
       "      <td>3</td>\n",
       "      <td>1380-01-18 00:00:00</td>\n",
       "      <td>پتروشيمي‌_آبادان‌-ت</td>\n",
       "      <td>شپترو-ت</td>\n",
       "    </tr>\n",
       "    <tr>\n",
       "      <th>...</th>\n",
       "      <td>...</td>\n",
       "      <td>...</td>\n",
       "      <td>...</td>\n",
       "      <td>...</td>\n",
       "      <td>...</td>\n",
       "      <td>...</td>\n",
       "      <td>...</td>\n",
       "      <td>...</td>\n",
       "      <td>...</td>\n",
       "      <td>...</td>\n",
       "      <td>...</td>\n",
       "    </tr>\n",
       "    <tr>\n",
       "      <th>2019-07-07</th>\n",
       "      <td>PABD</td>\n",
       "      <td>1310.00</td>\n",
       "      <td>1372</td>\n",
       "      <td>1310</td>\n",
       "      <td>1339.00</td>\n",
       "      <td>17240297</td>\n",
       "      <td>2.308438e+10</td>\n",
       "      <td>1488</td>\n",
       "      <td>1398-04-16 00:00:00</td>\n",
       "      <td>پتروشيمي‌_آبادان‌-ت</td>\n",
       "      <td>شپترو-ت</td>\n",
       "    </tr>\n",
       "    <tr>\n",
       "      <th>2019-07-08</th>\n",
       "      <td>PABD</td>\n",
       "      <td>1372.00</td>\n",
       "      <td>1382</td>\n",
       "      <td>1330</td>\n",
       "      <td>1360.00</td>\n",
       "      <td>19808059</td>\n",
       "      <td>2.693268e+10</td>\n",
       "      <td>1664</td>\n",
       "      <td>1398-04-17 00:00:00</td>\n",
       "      <td>پتروشيمي‌_آبادان‌-ت</td>\n",
       "      <td>شپترو-ت</td>\n",
       "    </tr>\n",
       "    <tr>\n",
       "      <th>2019-07-09</th>\n",
       "      <td>PABD</td>\n",
       "      <td>1368.00</td>\n",
       "      <td>1382</td>\n",
       "      <td>1325</td>\n",
       "      <td>1353.00</td>\n",
       "      <td>15355343</td>\n",
       "      <td>2.077299e+10</td>\n",
       "      <td>1234</td>\n",
       "      <td>1398-04-18 00:00:00</td>\n",
       "      <td>پتروشيمي‌_آبادان‌-ت</td>\n",
       "      <td>شپترو-ت</td>\n",
       "    </tr>\n",
       "    <tr>\n",
       "      <th>2019-07-10</th>\n",
       "      <td>PABD</td>\n",
       "      <td>1388.00</td>\n",
       "      <td>1420</td>\n",
       "      <td>1382</td>\n",
       "      <td>1412.00</td>\n",
       "      <td>40962586</td>\n",
       "      <td>5.784354e+10</td>\n",
       "      <td>2801</td>\n",
       "      <td>1398-04-19 00:00:00</td>\n",
       "      <td>پتروشيمي‌_آبادان‌-ت</td>\n",
       "      <td>شپترو-ت</td>\n",
       "    </tr>\n",
       "    <tr>\n",
       "      <th>2019-07-13</th>\n",
       "      <td>PABD</td>\n",
       "      <td>1447.00</td>\n",
       "      <td>1475</td>\n",
       "      <td>1414</td>\n",
       "      <td>1446.00</td>\n",
       "      <td>30719163</td>\n",
       "      <td>4.441355e+10</td>\n",
       "      <td>2672</td>\n",
       "      <td>1398-04-22 00:00:00</td>\n",
       "      <td>پتروشيمي‌_آبادان‌-ت</td>\n",
       "      <td>شپترو-ت</td>\n",
       "    </tr>\n",
       "  </tbody>\n",
       "</table>\n",
       "<p>3608 rows × 11 columns</p>\n",
       "</div>"
      ],
      "text/plain": [
       "           Ticker     Open  High   Low    Close    Volume         Value  \\\n",
       "GDate                                                                     \n",
       "2001-03-25   PABD  1250.62  1251  1250  1250.62       691  5.486253e+06   \n",
       "2001-03-26   PABD  1250.47  1250  1250  1250.47        22  1.746580e+05   \n",
       "2001-03-27   PABD  1250.47  1250  1250  1250.47       972  7.716708e+06   \n",
       "2001-03-28   PABD  1250.31  1250  1250  1250.47      1032  8.192442e+06   \n",
       "2001-04-07   PABD  1249.99  1250  1250  1249.99       700  5.555200e+06   \n",
       "...           ...      ...   ...   ...      ...       ...           ...   \n",
       "2019-07-07   PABD  1310.00  1372  1310  1339.00  17240297  2.308438e+10   \n",
       "2019-07-08   PABD  1372.00  1382  1330  1360.00  19808059  2.693268e+10   \n",
       "2019-07-09   PABD  1368.00  1382  1325  1353.00  15355343  2.077299e+10   \n",
       "2019-07-10   PABD  1388.00  1420  1382  1412.00  40962586  5.784354e+10   \n",
       "2019-07-13   PABD  1447.00  1475  1414  1446.00  30719163  4.441355e+10   \n",
       "\n",
       "            Count                PDate                 Name   Symbol  \n",
       "GDate                                                                 \n",
       "2001-03-25     12  1380-01-05 00:00:00  پتروشيمي‌_آبادان‌-ت  شپترو-ت  \n",
       "2001-03-26      1  1380-01-06 00:00:00  پتروشيمي‌_آبادان‌-ت  شپترو-ت  \n",
       "2001-03-27      3  1380-01-07 00:00:00  پتروشيمي‌_آبادان‌-ت  شپترو-ت  \n",
       "2001-03-28      5  1380-01-08 00:00:00  پتروشيمي‌_آبادان‌-ت  شپترو-ت  \n",
       "2001-04-07      3  1380-01-18 00:00:00  پتروشيمي‌_آبادان‌-ت  شپترو-ت  \n",
       "...           ...                  ...                  ...      ...  \n",
       "2019-07-07   1488  1398-04-16 00:00:00  پتروشيمي‌_آبادان‌-ت  شپترو-ت  \n",
       "2019-07-08   1664  1398-04-17 00:00:00  پتروشيمي‌_آبادان‌-ت  شپترو-ت  \n",
       "2019-07-09   1234  1398-04-18 00:00:00  پتروشيمي‌_آبادان‌-ت  شپترو-ت  \n",
       "2019-07-10   2801  1398-04-19 00:00:00  پتروشيمي‌_آبادان‌-ت  شپترو-ت  \n",
       "2019-07-13   2672  1398-04-22 00:00:00  پتروشيمي‌_آبادان‌-ت  شپترو-ت  \n",
       "\n",
       "[3608 rows x 11 columns]"
      ]
     },
     "execution_count": 58,
     "metadata": {},
     "output_type": "execute_result"
    }
   ],
   "source": [
    "PABD.set_index('GDate', inplace = True)\n",
    "PABD"
   ]
  },
  {
   "cell_type": "markdown",
   "metadata": {},
   "source": [
    "<div class = \"norm_fa\">\n",
    "و میگیم قیمت باز شدن هر روز و رسم کن:\n",
    "</div>"
   ]
  },
  {
   "cell_type": "code",
   "execution_count": 59,
   "metadata": {},
   "outputs": [
    {
     "data": {
      "text/plain": [
       "<matplotlib.axes._subplots.AxesSubplot at 0x2728073a438>"
      ]
     },
     "execution_count": 59,
     "metadata": {},
     "output_type": "execute_result"
    },
    {
     "data": {
      "image/png": "[encoded data removed]",
      "text/plain": [
       "<Figure size 1008x432 with 1 Axes>"
      ]
     },
     "metadata": {
      "needs_background": "light"
     },
     "output_type": "display_data"
    }
   ],
   "source": [
    "PABD['Open'].plot(figsize=(14,6))"
   ]
  },
  {
   "cell_type": "markdown",
   "metadata": {},
   "source": [
    "<div class = \"norm_fa\">\n",
    "با استفاده از توابع rolling و mean میانگین متحرک 22 روزه سهم رو رسم میکنیم :\n",
    "</div>"
   ]
  },
  {
   "cell_type": "code",
   "execution_count": 60,
   "metadata": {},
   "outputs": [
    {
     "data": {
      "text/plain": [
       "<matplotlib.axes._subplots.AxesSubplot at 0x27281a5c470>"
      ]
     },
     "execution_count": 60,
     "metadata": {},
     "output_type": "execute_result"
    },
    {
     "data": {
      "image/png": "[encoded data removed]",
      "text/plain": [
       "<Figure size 1008x432 with 1 Axes>"
      ]
     },
     "metadata": {
      "needs_background": "light"
     },
     "output_type": "display_data"
    }
   ],
   "source": [
    "PABD['Open Average Month'] = PABD['Open'].rolling(22).mean()\n",
    "PABD[['Open', 'Open Average Month']].plot(figsize=(14,6))"
   ]
  },
  {
   "cell_type": "markdown",
   "metadata": {},
   "source": [
    "<div class = \"norm_fa\">\n",
    "آیا میتونیم یک اندیکاتور هم رسم کنیم؟ مثلا باند بولینگر با پامتر 20، 2 برابر مقادیر انحراف معیار 20 روزه رو از میانگین 20 روزه قیمت کم و به اون اضافه میکنه و در کنار اون رسم میکنه.\n",
    "</div>"
   ]
  },
  {
   "cell_type": "code",
   "execution_count": 62,
   "metadata": {},
   "outputs": [
    {
     "data": {
      "text/plain": [
       "<matplotlib.axes._subplots.AxesSubplot at 0x27281dd5be0>"
      ]
     },
     "execution_count": 62,
     "metadata": {},
     "output_type": "execute_result"
    },
    {
     "data": {
      "image/png": "[encoded data removed]",
      "text/plain": [
       "<Figure size 1008x432 with 1 Axes>"
      ]
     },
     "metadata": {
      "needs_background": "light"
     },
     "output_type": "display_data"
    }
   ],
   "source": [
    "#باند بولینگر با پارامتر 20\n",
    "#خط میانی\n",
    "PABD['20 Days MA'] = PABD['Open'].rolling(20).mean()\n",
    "#باند بالایی\n",
    "PABD['Upper Band'] = PABD['20 Days MA'] + 2 * PABD['Open'].rolling(20).std()\n",
    "#باند پایینی\n",
    "PABD['Lower Band'] = PABD['20 Days MA'] - 2 * PABD['Open'].rolling(20).std()\n",
    "PABD[['Open','20 Days MA', 'Upper Band', 'Lower Band']].tail(200).plot(figsize=(14,6))"
   ]
  },
  {
   "cell_type": "markdown",
   "metadata": {},
   "source": [
    "<div class = \"norm_fa\">\n",
    "حالا با diff تفاضل قیمت‌های باز شدن دو روز متوالی رو بدست میاریم.\n",
    "</div>"
   ]
  },
  {
   "cell_type": "code",
   "execution_count": 63,
   "metadata": {},
   "outputs": [
    {
     "data": {
      "image/png": "[encoded data removed]",
      "text/plain": [
       "<Figure size 1008x576 with 1 Axes>"
      ]
     },
     "metadata": {
      "needs_background": "light"
     },
     "output_type": "display_data"
    }
   ],
   "source": [
    "PABD['Open'].diff().plot(figsize = (14,8));"
   ]
  },
  {
   "cell_type": "markdown",
   "metadata": {},
   "source": [
    "<div class = \"norm_fa\">\n",
    "اون روز که خیلی قیمت نزول کرده کی بوده؟ با argmin که با نامپای مشترکه استفاده میکنیم:\n",
    "</div>"
   ]
  },
  {
   "cell_type": "code",
   "execution_count": 64,
   "metadata": {},
   "outputs": [
    {
     "name": "stdout",
     "output_type": "stream",
     "text": [
      "5247.9 2677.66 2004-09-22 00:00:00\n"
     ]
    }
   ],
   "source": [
    "argmin = PABD['Open'].diff().argmin()\n",
    "print(PABD['Close'][argmin-1], PABD['Open'][argmin],PABD.index[argmin])"
   ]
  },
  {
   "cell_type": "markdown",
   "metadata": {},
   "source": [
    "<div class = \"norm_fa\">\n",
    "آیا 11 سپتامبر روی سهم اثر گذاشته؟ ماه سپتامبر 2001 رو بررسی کنیم:\n",
    "</div>"
   ]
  },
  {
   "cell_type": "code",
   "execution_count": 74,
   "metadata": {},
   "outputs": [
    {
     "data": {
      "text/html": [
       "<div>\n",
       "<style scoped>\n",
       "    .dataframe tbody tr th:only-of-type {\n",
       "        vertical-align: middle;\n",
       "    }\n",
       "\n",
       "    .dataframe tbody tr th {\n",
       "        vertical-align: top;\n",
       "    }\n",
       "\n",
       "    .dataframe thead th {\n",
       "        text-align: right;\n",
       "    }\n",
       "</style>\n",
       "<table border=\"1\" class=\"dataframe\">\n",
       "  <thead>\n",
       "    <tr style=\"text-align: right;\">\n",
       "      <th></th>\n",
       "      <th>Ticker</th>\n",
       "      <th>Open</th>\n",
       "      <th>High</th>\n",
       "      <th>Low</th>\n",
       "      <th>Close</th>\n",
       "      <th>Volume</th>\n",
       "      <th>Value</th>\n",
       "      <th>Count</th>\n",
       "      <th>PDate</th>\n",
       "      <th>Name</th>\n",
       "      <th>Symbol</th>\n",
       "      <th>Open Average Month</th>\n",
       "      <th>20 Days MA</th>\n",
       "      <th>Upper Band</th>\n",
       "      <th>Lower Band</th>\n",
       "    </tr>\n",
       "    <tr>\n",
       "      <th>GDate</th>\n",
       "      <th></th>\n",
       "      <th></th>\n",
       "      <th></th>\n",
       "      <th></th>\n",
       "      <th></th>\n",
       "      <th></th>\n",
       "      <th></th>\n",
       "      <th></th>\n",
       "      <th></th>\n",
       "      <th></th>\n",
       "      <th></th>\n",
       "      <th></th>\n",
       "      <th></th>\n",
       "      <th></th>\n",
       "      <th></th>\n",
       "    </tr>\n",
       "  </thead>\n",
       "  <tbody>\n",
       "    <tr>\n",
       "      <th>2001-09-01</th>\n",
       "      <td>PABD</td>\n",
       "      <td>1039.40</td>\n",
       "      <td>1040</td>\n",
       "      <td>1038</td>\n",
       "      <td>1037.99</td>\n",
       "      <td>2345</td>\n",
       "      <td>15476016.0</td>\n",
       "      <td>13</td>\n",
       "      <td>1380-06-10 00:00:00</td>\n",
       "      <td>پتروشيمي‌_آبادان‌-ت</td>\n",
       "      <td>شپترو-ت</td>\n",
       "      <td>1051.919091</td>\n",
       "      <td>1050.3905</td>\n",
       "      <td>1073.024412</td>\n",
       "      <td>1027.756588</td>\n",
       "    </tr>\n",
       "    <tr>\n",
       "      <th>2001-09-02</th>\n",
       "      <td>PABD</td>\n",
       "      <td>1031.69</td>\n",
       "      <td>1040</td>\n",
       "      <td>1032</td>\n",
       "      <td>1037.99</td>\n",
       "      <td>10506</td>\n",
       "      <td>68970380.0</td>\n",
       "      <td>27</td>\n",
       "      <td>1380-06-11 00:00:00</td>\n",
       "      <td>پتروشيمي‌_آبادان‌-ت</td>\n",
       "      <td>شپترو-ت</td>\n",
       "      <td>1050.838182</td>\n",
       "      <td>1048.0990</td>\n",
       "      <td>1068.319239</td>\n",
       "      <td>1027.878761</td>\n",
       "    </tr>\n",
       "    <tr>\n",
       "      <th>2001-09-03</th>\n",
       "      <td>PABD</td>\n",
       "      <td>1032.00</td>\n",
       "      <td>1032</td>\n",
       "      <td>1032</td>\n",
       "      <td>1032.00</td>\n",
       "      <td>1776</td>\n",
       "      <td>11635320.0</td>\n",
       "      <td>13</td>\n",
       "      <td>1380-06-12 00:00:00</td>\n",
       "      <td>پتروشيمي‌_آبادان‌-ت</td>\n",
       "      <td>شپترو-ت</td>\n",
       "      <td>1048.704545</td>\n",
       "      <td>1045.9885</td>\n",
       "      <td>1063.341704</td>\n",
       "      <td>1028.635296</td>\n",
       "    </tr>\n",
       "    <tr>\n",
       "      <th>2001-09-08</th>\n",
       "      <td>PABD</td>\n",
       "      <td>1032.00</td>\n",
       "      <td>1032</td>\n",
       "      <td>1030</td>\n",
       "      <td>1030.11</td>\n",
       "      <td>14203</td>\n",
       "      <td>92904908.0</td>\n",
       "      <td>35</td>\n",
       "      <td>1380-06-17 00:00:00</td>\n",
       "      <td>پتروشيمي‌_آبادان‌-ت</td>\n",
       "      <td>شپترو-ت</td>\n",
       "      <td>1046.635455</td>\n",
       "      <td>1044.0510</td>\n",
       "      <td>1058.102433</td>\n",
       "      <td>1029.999567</td>\n",
       "    </tr>\n",
       "    <tr>\n",
       "      <th>2001-09-09</th>\n",
       "      <td>PABD</td>\n",
       "      <td>1029.32</td>\n",
       "      <td>1030</td>\n",
       "      <td>1029</td>\n",
       "      <td>1029.17</td>\n",
       "      <td>2511</td>\n",
       "      <td>16416075.0</td>\n",
       "      <td>13</td>\n",
       "      <td>1380-06-18 00:00:00</td>\n",
       "      <td>پتروشيمي‌_آبادان‌-ت</td>\n",
       "      <td>شپترو-ت</td>\n",
       "      <td>1044.595000</td>\n",
       "      <td>1042.3340</td>\n",
       "      <td>1054.571826</td>\n",
       "      <td>1030.096174</td>\n",
       "    </tr>\n",
       "    <tr>\n",
       "      <th>2001-09-10</th>\n",
       "      <td>PABD</td>\n",
       "      <td>1028.38</td>\n",
       "      <td>1028</td>\n",
       "      <td>1024</td>\n",
       "      <td>1028.38</td>\n",
       "      <td>2979</td>\n",
       "      <td>19417157.0</td>\n",
       "      <td>27</td>\n",
       "      <td>1380-06-19 00:00:00</td>\n",
       "      <td>پتروشيمي‌_آبادان‌-ت</td>\n",
       "      <td>شپترو-ت</td>\n",
       "      <td>1042.669091</td>\n",
       "      <td>1041.3810</td>\n",
       "      <td>1054.851120</td>\n",
       "      <td>1027.910880</td>\n",
       "    </tr>\n",
       "    <tr>\n",
       "      <th>2001-09-11</th>\n",
       "      <td>PABD</td>\n",
       "      <td>1023.81</td>\n",
       "      <td>1024</td>\n",
       "      <td>1024</td>\n",
       "      <td>1023.81</td>\n",
       "      <td>2540</td>\n",
       "      <td>16510000.0</td>\n",
       "      <td>12</td>\n",
       "      <td>1380-06-20 00:00:00</td>\n",
       "      <td>پتروشيمي‌_آبادان‌-ت</td>\n",
       "      <td>شپترو-ت</td>\n",
       "      <td>1040.857727</td>\n",
       "      <td>1040.5145</td>\n",
       "      <td>1056.111565</td>\n",
       "      <td>1024.917435</td>\n",
       "    </tr>\n",
       "    <tr>\n",
       "      <th>2001-09-12</th>\n",
       "      <td>PABD</td>\n",
       "      <td>1023.81</td>\n",
       "      <td>1024</td>\n",
       "      <td>1024</td>\n",
       "      <td>1023.81</td>\n",
       "      <td>1872</td>\n",
       "      <td>12168000.0</td>\n",
       "      <td>8</td>\n",
       "      <td>1380-06-21 00:00:00</td>\n",
       "      <td>پتروشيمي‌_آبادان‌-ت</td>\n",
       "      <td>شپترو-ت</td>\n",
       "      <td>1039.783636</td>\n",
       "      <td>1039.5695</td>\n",
       "      <td>1056.810117</td>\n",
       "      <td>1022.328883</td>\n",
       "    </tr>\n",
       "    <tr>\n",
       "      <th>2001-09-15</th>\n",
       "      <td>PABD</td>\n",
       "      <td>1018.93</td>\n",
       "      <td>1024</td>\n",
       "      <td>1019</td>\n",
       "      <td>1023.81</td>\n",
       "      <td>5780</td>\n",
       "      <td>37510398.0</td>\n",
       "      <td>20</td>\n",
       "      <td>1380-06-24 00:00:00</td>\n",
       "      <td>پتروشيمي‌_آبادان‌-ت</td>\n",
       "      <td>شپترو-ت</td>\n",
       "      <td>1038.774091</td>\n",
       "      <td>1038.3175</td>\n",
       "      <td>1057.714511</td>\n",
       "      <td>1018.920489</td>\n",
       "    </tr>\n",
       "    <tr>\n",
       "      <th>2001-09-16</th>\n",
       "      <td>PABD</td>\n",
       "      <td>1023.65</td>\n",
       "      <td>1024</td>\n",
       "      <td>1022</td>\n",
       "      <td>1023.81</td>\n",
       "      <td>1150</td>\n",
       "      <td>7469993.0</td>\n",
       "      <td>13</td>\n",
       "      <td>1380-06-25 00:00:00</td>\n",
       "      <td>پتروشيمي‌_آبادان‌-ت</td>\n",
       "      <td>شپترو-ت</td>\n",
       "      <td>1037.907727</td>\n",
       "      <td>1037.2305</td>\n",
       "      <td>1057.380689</td>\n",
       "      <td>1017.080311</td>\n",
       "    </tr>\n",
       "    <tr>\n",
       "      <th>2001-09-19</th>\n",
       "      <td>PABD</td>\n",
       "      <td>1015.94</td>\n",
       "      <td>1016</td>\n",
       "      <td>1016</td>\n",
       "      <td>1015.94</td>\n",
       "      <td>2625</td>\n",
       "      <td>16931250.0</td>\n",
       "      <td>14</td>\n",
       "      <td>1380-06-28 00:00:00</td>\n",
       "      <td>پتروشيمي‌_آبادان‌-ت</td>\n",
       "      <td>شپترو-ت</td>\n",
       "      <td>1036.633636</td>\n",
       "      <td>1035.6555</td>\n",
       "      <td>1057.313522</td>\n",
       "      <td>1013.997478</td>\n",
       "    </tr>\n",
       "    <tr>\n",
       "      <th>2001-09-22</th>\n",
       "      <td>PABD</td>\n",
       "      <td>1013.73</td>\n",
       "      <td>1016</td>\n",
       "      <td>1014</td>\n",
       "      <td>1015.94</td>\n",
       "      <td>11026</td>\n",
       "      <td>71107938.0</td>\n",
       "      <td>10</td>\n",
       "      <td>1380-06-31 00:00:00</td>\n",
       "      <td>پتروشيمي‌_آبادان‌-ت</td>\n",
       "      <td>شپترو-ت</td>\n",
       "      <td>1035.194545</td>\n",
       "      <td>1033.9545</td>\n",
       "      <td>1056.917467</td>\n",
       "      <td>1010.991533</td>\n",
       "    </tr>\n",
       "    <tr>\n",
       "      <th>2001-09-23</th>\n",
       "      <td>PABD</td>\n",
       "      <td>1015.94</td>\n",
       "      <td>1016</td>\n",
       "      <td>1016</td>\n",
       "      <td>1015.94</td>\n",
       "      <td>1335</td>\n",
       "      <td>8610699.0</td>\n",
       "      <td>5</td>\n",
       "      <td>1380-07-01 00:00:00</td>\n",
       "      <td>پتروشيمي‌_آبادان‌-ت</td>\n",
       "      <td>شپترو-ت</td>\n",
       "      <td>1033.762727</td>\n",
       "      <td>1032.3795</td>\n",
       "      <td>1055.765126</td>\n",
       "      <td>1008.993874</td>\n",
       "    </tr>\n",
       "    <tr>\n",
       "      <th>2001-09-24</th>\n",
       "      <td>PABD</td>\n",
       "      <td>1007.59</td>\n",
       "      <td>1008</td>\n",
       "      <td>1006</td>\n",
       "      <td>1007.27</td>\n",
       "      <td>2051</td>\n",
       "      <td>13107547.0</td>\n",
       "      <td>12</td>\n",
       "      <td>1380-07-02 00:00:00</td>\n",
       "      <td>پتروشيمي‌_آبادان‌-ت</td>\n",
       "      <td>شپترو-ت</td>\n",
       "      <td>1031.937273</td>\n",
       "      <td>1030.3950</td>\n",
       "      <td>1055.152541</td>\n",
       "      <td>1005.637459</td>\n",
       "    </tr>\n",
       "    <tr>\n",
       "      <th>2001-09-25</th>\n",
       "      <td>PABD</td>\n",
       "      <td>1003.18</td>\n",
       "      <td>1006</td>\n",
       "      <td>1003</td>\n",
       "      <td>1006.48</td>\n",
       "      <td>15500</td>\n",
       "      <td>98867769.0</td>\n",
       "      <td>27</td>\n",
       "      <td>1380-07-03 00:00:00</td>\n",
       "      <td>پتروشيمي‌_آبادان‌-ت</td>\n",
       "      <td>شپترو-ت</td>\n",
       "      <td>1029.925455</td>\n",
       "      <td>1028.1820</td>\n",
       "      <td>1054.394179</td>\n",
       "      <td>1001.969821</td>\n",
       "    </tr>\n",
       "    <tr>\n",
       "      <th>2001-09-26</th>\n",
       "      <td>PABD</td>\n",
       "      <td>1005.85</td>\n",
       "      <td>1006</td>\n",
       "      <td>1004</td>\n",
       "      <td>1003.96</td>\n",
       "      <td>794</td>\n",
       "      <td>5063660.0</td>\n",
       "      <td>7</td>\n",
       "      <td>1380-07-04 00:00:00</td>\n",
       "      <td>پتروشيمي‌_آبادان‌-ت</td>\n",
       "      <td>شپترو-ت</td>\n",
       "      <td>1028.042273</td>\n",
       "      <td>1026.2995</td>\n",
       "      <td>1053.276383</td>\n",
       "      <td>999.322617</td>\n",
       "    </tr>\n",
       "    <tr>\n",
       "      <th>2001-09-29</th>\n",
       "      <td>PABD</td>\n",
       "      <td>1001.76</td>\n",
       "      <td>1002</td>\n",
       "      <td>984</td>\n",
       "      <td>984.43</td>\n",
       "      <td>1228</td>\n",
       "      <td>7700108.0</td>\n",
       "      <td>3</td>\n",
       "      <td>1380-07-07 00:00:00</td>\n",
       "      <td>پتروشيمي‌_آبادان‌-ت</td>\n",
       "      <td>شپترو-ت</td>\n",
       "      <td>1025.965909</td>\n",
       "      <td>1024.1655</td>\n",
       "      <td>1051.843549</td>\n",
       "      <td>996.487451</td>\n",
       "    </tr>\n",
       "    <tr>\n",
       "      <th>2001-09-30</th>\n",
       "      <td>PABD</td>\n",
       "      <td>968.52</td>\n",
       "      <td>969</td>\n",
       "      <td>969</td>\n",
       "      <td>968.68</td>\n",
       "      <td>3481</td>\n",
       "      <td>21408006.0</td>\n",
       "      <td>9</td>\n",
       "      <td>1380-07-08 00:00:00</td>\n",
       "      <td>پتروشيمي‌_آبادان‌-ت</td>\n",
       "      <td>شپترو-ت</td>\n",
       "      <td>1022.557727</td>\n",
       "      <td>1020.3300</td>\n",
       "      <td>1055.863055</td>\n",
       "      <td>984.796945</td>\n",
       "    </tr>\n",
       "  </tbody>\n",
       "</table>\n",
       "</div>"
      ],
      "text/plain": [
       "           Ticker     Open  High   Low    Close  Volume       Value  Count  \\\n",
       "GDate                                                                        \n",
       "2001-09-01   PABD  1039.40  1040  1038  1037.99    2345  15476016.0     13   \n",
       "2001-09-02   PABD  1031.69  1040  1032  1037.99   10506  68970380.0     27   \n",
       "2001-09-03   PABD  1032.00  1032  1032  1032.00    1776  11635320.0     13   \n",
       "2001-09-08   PABD  1032.00  1032  1030  1030.11   14203  92904908.0     35   \n",
       "2001-09-09   PABD  1029.32  1030  1029  1029.17    2511  16416075.0     13   \n",
       "2001-09-10   PABD  1028.38  1028  1024  1028.38    2979  19417157.0     27   \n",
       "2001-09-11   PABD  1023.81  1024  1024  1023.81    2540  16510000.0     12   \n",
       "2001-09-12   PABD  1023.81  1024  1024  1023.81    1872  12168000.0      8   \n",
       "2001-09-15   PABD  1018.93  1024  1019  1023.81    5780  37510398.0     20   \n",
       "2001-09-16   PABD  1023.65  1024  1022  1023.81    1150   7469993.0     13   \n",
       "2001-09-19   PABD  1015.94  1016  1016  1015.94    2625  16931250.0     14   \n",
       "2001-09-22   PABD  1013.73  1016  1014  1015.94   11026  71107938.0     10   \n",
       "2001-09-23   PABD  1015.94  1016  1016  1015.94    1335   8610699.0      5   \n",
       "2001-09-24   PABD  1007.59  1008  1006  1007.27    2051  13107547.0     12   \n",
       "2001-09-25   PABD  1003.18  1006  1003  1006.48   15500  98867769.0     27   \n",
       "2001-09-26   PABD  1005.85  1006  1004  1003.96     794   5063660.0      7   \n",
       "2001-09-29   PABD  1001.76  1002   984   984.43    1228   7700108.0      3   \n",
       "2001-09-30   PABD   968.52   969   969   968.68    3481  21408006.0      9   \n",
       "\n",
       "                          PDate                 Name   Symbol  \\\n",
       "GDate                                                           \n",
       "2001-09-01  1380-06-10 00:00:00  پتروشيمي‌_آبادان‌-ت  شپترو-ت   \n",
       "2001-09-02  1380-06-11 00:00:00  پتروشيمي‌_آبادان‌-ت  شپترو-ت   \n",
       "2001-09-03  1380-06-12 00:00:00  پتروشيمي‌_آبادان‌-ت  شپترو-ت   \n",
       "2001-09-08  1380-06-17 00:00:00  پتروشيمي‌_آبادان‌-ت  شپترو-ت   \n",
       "2001-09-09  1380-06-18 00:00:00  پتروشيمي‌_آبادان‌-ت  شپترو-ت   \n",
       "2001-09-10  1380-06-19 00:00:00  پتروشيمي‌_آبادان‌-ت  شپترو-ت   \n",
       "2001-09-11  1380-06-20 00:00:00  پتروشيمي‌_آبادان‌-ت  شپترو-ت   \n",
       "2001-09-12  1380-06-21 00:00:00  پتروشيمي‌_آبادان‌-ت  شپترو-ت   \n",
       "2001-09-15  1380-06-24 00:00:00  پتروشيمي‌_آبادان‌-ت  شپترو-ت   \n",
       "2001-09-16  1380-06-25 00:00:00  پتروشيمي‌_آبادان‌-ت  شپترو-ت   \n",
       "2001-09-19  1380-06-28 00:00:00  پتروشيمي‌_آبادان‌-ت  شپترو-ت   \n",
       "2001-09-22  1380-06-31 00:00:00  پتروشيمي‌_آبادان‌-ت  شپترو-ت   \n",
       "2001-09-23  1380-07-01 00:00:00  پتروشيمي‌_آبادان‌-ت  شپترو-ت   \n",
       "2001-09-24  1380-07-02 00:00:00  پتروشيمي‌_آبادان‌-ت  شپترو-ت   \n",
       "2001-09-25  1380-07-03 00:00:00  پتروشيمي‌_آبادان‌-ت  شپترو-ت   \n",
       "2001-09-26  1380-07-04 00:00:00  پتروشيمي‌_آبادان‌-ت  شپترو-ت   \n",
       "2001-09-29  1380-07-07 00:00:00  پتروشيمي‌_آبادان‌-ت  شپترو-ت   \n",
       "2001-09-30  1380-07-08 00:00:00  پتروشيمي‌_آبادان‌-ت  شپترو-ت   \n",
       "\n",
       "            Open Average Month  20 Days MA   Upper Band   Lower Band  \n",
       "GDate                                                                 \n",
       "2001-09-01         1051.919091   1050.3905  1073.024412  1027.756588  \n",
       "2001-09-02         1050.838182   1048.0990  1068.319239  1027.878761  \n",
       "2001-09-03         1048.704545   1045.9885  1063.341704  1028.635296  \n",
       "2001-09-08         1046.635455   1044.0510  1058.102433  1029.999567  \n",
       "2001-09-09         1044.595000   1042.3340  1054.571826  1030.096174  \n",
       "2001-09-10         1042.669091   1041.3810  1054.851120  1027.910880  \n",
       "2001-09-11         1040.857727   1040.5145  1056.111565  1024.917435  \n",
       "2001-09-12         1039.783636   1039.5695  1056.810117  1022.328883  \n",
       "2001-09-15         1038.774091   1038.3175  1057.714511  1018.920489  \n",
       "2001-09-16         1037.907727   1037.2305  1057.380689  1017.080311  \n",
       "2001-09-19         1036.633636   1035.6555  1057.313522  1013.997478  \n",
       "2001-09-22         1035.194545   1033.9545  1056.917467  1010.991533  \n",
       "2001-09-23         1033.762727   1032.3795  1055.765126  1008.993874  \n",
       "2001-09-24         1031.937273   1030.3950  1055.152541  1005.637459  \n",
       "2001-09-25         1029.925455   1028.1820  1054.394179  1001.969821  \n",
       "2001-09-26         1028.042273   1026.2995  1053.276383   999.322617  \n",
       "2001-09-29         1025.965909   1024.1655  1051.843549   996.487451  \n",
       "2001-09-30         1022.557727   1020.3300  1055.863055   984.796945  "
      ]
     },
     "execution_count": 74,
     "metadata": {},
     "output_type": "execute_result"
    }
   ],
   "source": [
    "PABD.loc['2001-09']"
   ]
  },
  {
   "cell_type": "markdown",
   "metadata": {},
   "source": [
    "<div class = \"norm_fa\">\n",
    "با دستور resample میتونیم تایم فریم ها رو به هم تبدیل کنیم. مثلا اگر بخواهیم داده‌های هفتگی رو بدست بیاریم که از شنبه شروع میشه مقدار W-SAT رو به این تابع میدیم:\n",
    "</div>"
   ]
  },
  {
   "cell_type": "code",
   "execution_count": 86,
   "metadata": {},
   "outputs": [
    {
     "data": {
      "image/png": "[encoded data removed]",
      "text/plain": [
       "<Figure size 432x288 with 1 Axes>"
      ]
     },
     "metadata": {
      "needs_background": "light"
     },
     "output_type": "display_data"
    }
   ],
   "source": [
    "PABD['High'].resample('W-SAT').max().tail(100).plot(label = 'High')\n",
    "PABD['Low'].resample('W-SAT').min().tail(100).plot(label = 'Low')\n",
    "plt.legend()"
   ]
  },
  {
   "cell_type": "markdown",
   "metadata": {},
   "source": [
    "<div class = \"norm_fa\">\n",
    "تابع shift یک یا چند ستون رو به نسبت اندیس اون فریم، n سطر شیفت میده که n پارامتر ورودی تابعه. مثلا در مورد سهام اگر n=1 باشه، قیمت امروز میره جای دیروز و قیمت دیروز جای پریروز. پس اگر درصد تغییرات امروز به نسبت دیروز رو بخواهیم اینجوری میشه: \n",
    "</div>"
   ]
  },
  {
   "cell_type": "code",
   "execution_count": 88,
   "metadata": {},
   "outputs": [
    {
     "data": {
      "image/png": "[encoded data removed]",
      "text/plain": [
       "<Figure size 432x288 with 1 Axes>"
      ]
     },
     "metadata": {
      "needs_background": "light"
     },
     "output_type": "display_data"
    }
   ],
   "source": [
    "PABD['Daily Return'] = PABD['Close'] / PABD['Close'].shift(1) - 1\n",
    "PABD['Daily Return'].plot()"
   ]
  },
  {
   "cell_type": "markdown",
   "metadata": {},
   "source": [
    "<div class = \"norm_fa\">\n",
    "که البته یک دستور خاص هم در پانداس داره:\n",
    "</div>"
   ]
  },
  {
   "cell_type": "code",
   "execution_count": 89,
   "metadata": {},
   "outputs": [
    {
     "data": {
      "text/plain": [
       "<matplotlib.axes._subplots.AxesSubplot at 0x272893b3c88>"
      ]
     },
     "execution_count": 89,
     "metadata": {},
     "output_type": "execute_result"
    },
    {
     "data": {
      "image/png": "[encoded data removed]",
      "text/plain": [
       "<Figure size 432x288 with 1 Axes>"
      ]
     },
     "metadata": {
      "needs_background": "light"
     },
     "output_type": "display_data"
    }
   ],
   "source": [
    "PABD['Close'].pct_change(1).plot()"
   ]
  },
  {
   "cell_type": "markdown",
   "metadata": {},
   "source": [
    "<div class = \"norm_fa\">\n",
    "اگر هیستوگرام درصد تغییرات روزانه رو ترسیم کنبم میبینم که به جز موارد خاص دامنه به 5 درصد محدود شده:\n",
    "</div>"
   ]
  },
  {
   "cell_type": "code",
   "execution_count": 109,
   "metadata": {},
   "outputs": [
    {
     "data": {
      "image/png": "[encoded data removed]",
      "text/plain": [
       "<Figure size 1008x432 with 1 Axes>"
      ]
     },
     "metadata": {
      "needs_background": "light"
     },
     "output_type": "display_data"
    }
   ],
   "source": [
    "PABD['Daily Return'].hist(bins=100, density=True, figsize=(14,6));\n",
    "plt.xticks(np.arange(-1, 1, 0.05), rotation = 90);"
   ]
  },
  {
   "cell_type": "markdown",
   "metadata": {},
   "source": [
    "<div class = \"norm_fa\">\n",
    "اگر سهام رو میخردیم و نگه میداشتیم، در هر روز ارزشش نسبت به روز اول چند برابر شده بود؟\n",
    "</div>"
   ]
  },
  {
   "cell_type": "code",
   "execution_count": 111,
   "metadata": {},
   "outputs": [
    {
     "data": {
      "image/png": "[encoded data removed]",
      "text/plain": [
       "<Figure size 1008x432 with 1 Axes>"
      ]
     },
     "metadata": {
      "needs_background": "light"
     },
     "output_type": "display_data"
    }
   ],
   "source": [
    "PABD['Cumulative Return'] = (1 + PABD['Daily Return']).cumprod()\n",
    "PABD['Cumulative Return'].plot(figsize=(14,6));"
   ]
  },
  {
   "cell_type": "code",
   "execution_count": null,
   "metadata": {},
   "outputs": [],
   "source": []
  }
 ],
 "metadata": {
  "kernelspec": {
   "display_name": "Python 3",
   "language": "python",
   "name": "python3"
  },
  "language_info": {
   "codemirror_mode": {
    "name": "ipython",
    "version": 3
   },
   "file_extension": ".py",
   "mimetype": "text/x-python",
   "name": "python",
   "nbconvert_exporter": "python",
   "pygments_lexer": "ipython3",
   "version": "3.6.8"
  }
 },
 "nbformat": 4,
 "nbformat_minor": 4
}